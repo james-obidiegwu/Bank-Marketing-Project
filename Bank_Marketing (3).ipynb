{
 "cells": [
  {
   "cell_type": "markdown",
   "id": "08cabd4a",
   "metadata": {},
   "source": [
    "#                                            BANK MARKETING PROJECT "
   ]
  },
  {
   "cell_type": "markdown",
   "id": "aebe3439",
   "metadata": {},
   "source": [
    "## 1\tIntroduction\n",
    "This is a report of marketing carried out by a bank. The aim is to build a predictive model to predict whether a bank customer will subscribe to a term deposit or not. \n",
    "This was carried out to aid the bank in planning.\n",
    "To be able to do these, firstly, the bank marketing data has been cleaned to correct data structure errors, missing entries, and false or incorrect entries, which is detailed in a section of this report.\n"
   ]
  },
  {
   "cell_type": "code",
   "execution_count": 246,
   "id": "1b091f7a",
   "metadata": {},
   "outputs": [],
   "source": [
    "#import the necessary libraries\n",
    "import pandas as pd\n",
    "import numpy as np"
   ]
  },
  {
   "cell_type": "code",
   "execution_count": 247,
   "id": "8817a8bd",
   "metadata": {},
   "outputs": [],
   "source": [
    "#load the dataset\n",
    "bank= pd.read_csv('bank_data.csv')"
   ]
  },
  {
   "cell_type": "code",
   "execution_count": 248,
   "id": "39566dac",
   "metadata": {},
   "outputs": [
    {
     "data": {
      "text/html": [
       "<div>\n",
       "<style scoped>\n",
       "    .dataframe tbody tr th:only-of-type {\n",
       "        vertical-align: middle;\n",
       "    }\n",
       "\n",
       "    .dataframe tbody tr th {\n",
       "        vertical-align: top;\n",
       "    }\n",
       "\n",
       "    .dataframe thead th {\n",
       "        text-align: right;\n",
       "    }\n",
       "</style>\n",
       "<table border=\"1\" class=\"dataframe\">\n",
       "  <thead>\n",
       "    <tr style=\"text-align: right;\">\n",
       "      <th></th>\n",
       "      <th>age</th>\n",
       "      <th>job</th>\n",
       "      <th>marital</th>\n",
       "      <th>education</th>\n",
       "      <th>default</th>\n",
       "      <th>housing</th>\n",
       "      <th>loan</th>\n",
       "      <th>contact</th>\n",
       "      <th>month</th>\n",
       "      <th>day_of_week</th>\n",
       "      <th>...</th>\n",
       "      <th>campaign</th>\n",
       "      <th>pdays</th>\n",
       "      <th>previous</th>\n",
       "      <th>poutcome</th>\n",
       "      <th>emp.var.rate</th>\n",
       "      <th>cons.price.idx</th>\n",
       "      <th>cons.conf.idx</th>\n",
       "      <th>euribor3m</th>\n",
       "      <th>nr.employed</th>\n",
       "      <th>y</th>\n",
       "    </tr>\n",
       "  </thead>\n",
       "  <tbody>\n",
       "    <tr>\n",
       "      <th>0</th>\n",
       "      <td>56</td>\n",
       "      <td>housemaid</td>\n",
       "      <td>married</td>\n",
       "      <td>basic.4y</td>\n",
       "      <td>no</td>\n",
       "      <td>no</td>\n",
       "      <td>no</td>\n",
       "      <td>telephone</td>\n",
       "      <td>may</td>\n",
       "      <td>mon</td>\n",
       "      <td>...</td>\n",
       "      <td>1</td>\n",
       "      <td>999</td>\n",
       "      <td>0</td>\n",
       "      <td>nonexistent</td>\n",
       "      <td>1.1</td>\n",
       "      <td>93.994</td>\n",
       "      <td>-36.4</td>\n",
       "      <td>4.857</td>\n",
       "      <td>5191.0</td>\n",
       "      <td>no</td>\n",
       "    </tr>\n",
       "    <tr>\n",
       "      <th>1</th>\n",
       "      <td>57</td>\n",
       "      <td>services</td>\n",
       "      <td>married</td>\n",
       "      <td>high.school</td>\n",
       "      <td>NaN</td>\n",
       "      <td>no</td>\n",
       "      <td>no</td>\n",
       "      <td>telephone</td>\n",
       "      <td>may</td>\n",
       "      <td>mon</td>\n",
       "      <td>...</td>\n",
       "      <td>1</td>\n",
       "      <td>999</td>\n",
       "      <td>0</td>\n",
       "      <td>nonexistent</td>\n",
       "      <td>1.1</td>\n",
       "      <td>93.994</td>\n",
       "      <td>-36.4</td>\n",
       "      <td>4.857</td>\n",
       "      <td>5191.0</td>\n",
       "      <td>no</td>\n",
       "    </tr>\n",
       "    <tr>\n",
       "      <th>2</th>\n",
       "      <td>37</td>\n",
       "      <td>services</td>\n",
       "      <td>married</td>\n",
       "      <td>high.school</td>\n",
       "      <td>no</td>\n",
       "      <td>yes</td>\n",
       "      <td>no</td>\n",
       "      <td>telephone</td>\n",
       "      <td>may</td>\n",
       "      <td>mon</td>\n",
       "      <td>...</td>\n",
       "      <td>1</td>\n",
       "      <td>999</td>\n",
       "      <td>0</td>\n",
       "      <td>nonexistent</td>\n",
       "      <td>1.1</td>\n",
       "      <td>93.994</td>\n",
       "      <td>-36.4</td>\n",
       "      <td>4.857</td>\n",
       "      <td>5191.0</td>\n",
       "      <td>no</td>\n",
       "    </tr>\n",
       "    <tr>\n",
       "      <th>3</th>\n",
       "      <td>40</td>\n",
       "      <td>admin.</td>\n",
       "      <td>married</td>\n",
       "      <td>basic.6y</td>\n",
       "      <td>no</td>\n",
       "      <td>no</td>\n",
       "      <td>no</td>\n",
       "      <td>telephone</td>\n",
       "      <td>may</td>\n",
       "      <td>mon</td>\n",
       "      <td>...</td>\n",
       "      <td>1</td>\n",
       "      <td>999</td>\n",
       "      <td>0</td>\n",
       "      <td>nonexistent</td>\n",
       "      <td>1.1</td>\n",
       "      <td>93.994</td>\n",
       "      <td>-36.4</td>\n",
       "      <td>4.857</td>\n",
       "      <td>5191.0</td>\n",
       "      <td>no</td>\n",
       "    </tr>\n",
       "    <tr>\n",
       "      <th>4</th>\n",
       "      <td>56</td>\n",
       "      <td>services</td>\n",
       "      <td>married</td>\n",
       "      <td>high.school</td>\n",
       "      <td>no</td>\n",
       "      <td>no</td>\n",
       "      <td>yes</td>\n",
       "      <td>telephone</td>\n",
       "      <td>may</td>\n",
       "      <td>mon</td>\n",
       "      <td>...</td>\n",
       "      <td>1</td>\n",
       "      <td>999</td>\n",
       "      <td>0</td>\n",
       "      <td>nonexistent</td>\n",
       "      <td>1.1</td>\n",
       "      <td>93.994</td>\n",
       "      <td>-36.4</td>\n",
       "      <td>4.857</td>\n",
       "      <td>5191.0</td>\n",
       "      <td>no</td>\n",
       "    </tr>\n",
       "    <tr>\n",
       "      <th>...</th>\n",
       "      <td>...</td>\n",
       "      <td>...</td>\n",
       "      <td>...</td>\n",
       "      <td>...</td>\n",
       "      <td>...</td>\n",
       "      <td>...</td>\n",
       "      <td>...</td>\n",
       "      <td>...</td>\n",
       "      <td>...</td>\n",
       "      <td>...</td>\n",
       "      <td>...</td>\n",
       "      <td>...</td>\n",
       "      <td>...</td>\n",
       "      <td>...</td>\n",
       "      <td>...</td>\n",
       "      <td>...</td>\n",
       "      <td>...</td>\n",
       "      <td>...</td>\n",
       "      <td>...</td>\n",
       "      <td>...</td>\n",
       "      <td>...</td>\n",
       "    </tr>\n",
       "    <tr>\n",
       "      <th>41183</th>\n",
       "      <td>73</td>\n",
       "      <td>retired</td>\n",
       "      <td>married</td>\n",
       "      <td>professional.course</td>\n",
       "      <td>no</td>\n",
       "      <td>yes</td>\n",
       "      <td>no</td>\n",
       "      <td>cellular</td>\n",
       "      <td>nov</td>\n",
       "      <td>fri</td>\n",
       "      <td>...</td>\n",
       "      <td>1</td>\n",
       "      <td>999</td>\n",
       "      <td>0</td>\n",
       "      <td>nonexistent</td>\n",
       "      <td>-1.1</td>\n",
       "      <td>94.767</td>\n",
       "      <td>-50.8</td>\n",
       "      <td>1.028</td>\n",
       "      <td>4963.6</td>\n",
       "      <td>yes</td>\n",
       "    </tr>\n",
       "    <tr>\n",
       "      <th>41184</th>\n",
       "      <td>46</td>\n",
       "      <td>blue-collar</td>\n",
       "      <td>married</td>\n",
       "      <td>professional.course</td>\n",
       "      <td>no</td>\n",
       "      <td>no</td>\n",
       "      <td>no</td>\n",
       "      <td>cellular</td>\n",
       "      <td>nov</td>\n",
       "      <td>fri</td>\n",
       "      <td>...</td>\n",
       "      <td>1</td>\n",
       "      <td>999</td>\n",
       "      <td>0</td>\n",
       "      <td>nonexistent</td>\n",
       "      <td>-1.1</td>\n",
       "      <td>94.767</td>\n",
       "      <td>-50.8</td>\n",
       "      <td>1.028</td>\n",
       "      <td>4963.6</td>\n",
       "      <td>no</td>\n",
       "    </tr>\n",
       "    <tr>\n",
       "      <th>41185</th>\n",
       "      <td>56</td>\n",
       "      <td>retired</td>\n",
       "      <td>married</td>\n",
       "      <td>university.degree</td>\n",
       "      <td>no</td>\n",
       "      <td>yes</td>\n",
       "      <td>no</td>\n",
       "      <td>cellular</td>\n",
       "      <td>nov</td>\n",
       "      <td>fri</td>\n",
       "      <td>...</td>\n",
       "      <td>2</td>\n",
       "      <td>999</td>\n",
       "      <td>0</td>\n",
       "      <td>nonexistent</td>\n",
       "      <td>-1.1</td>\n",
       "      <td>94.767</td>\n",
       "      <td>-50.8</td>\n",
       "      <td>1.028</td>\n",
       "      <td>4963.6</td>\n",
       "      <td>no</td>\n",
       "    </tr>\n",
       "    <tr>\n",
       "      <th>41186</th>\n",
       "      <td>44</td>\n",
       "      <td>technician</td>\n",
       "      <td>married</td>\n",
       "      <td>professional.course</td>\n",
       "      <td>no</td>\n",
       "      <td>no</td>\n",
       "      <td>no</td>\n",
       "      <td>cellular</td>\n",
       "      <td>nov</td>\n",
       "      <td>fri</td>\n",
       "      <td>...</td>\n",
       "      <td>1</td>\n",
       "      <td>999</td>\n",
       "      <td>0</td>\n",
       "      <td>nonexistent</td>\n",
       "      <td>-1.1</td>\n",
       "      <td>94.767</td>\n",
       "      <td>-50.8</td>\n",
       "      <td>1.028</td>\n",
       "      <td>4963.6</td>\n",
       "      <td>yes</td>\n",
       "    </tr>\n",
       "    <tr>\n",
       "      <th>41187</th>\n",
       "      <td>74</td>\n",
       "      <td>retired</td>\n",
       "      <td>married</td>\n",
       "      <td>professional.course</td>\n",
       "      <td>no</td>\n",
       "      <td>yes</td>\n",
       "      <td>no</td>\n",
       "      <td>cellular</td>\n",
       "      <td>nov</td>\n",
       "      <td>fri</td>\n",
       "      <td>...</td>\n",
       "      <td>3</td>\n",
       "      <td>999</td>\n",
       "      <td>1</td>\n",
       "      <td>failure</td>\n",
       "      <td>-1.1</td>\n",
       "      <td>94.767</td>\n",
       "      <td>-50.8</td>\n",
       "      <td>1.028</td>\n",
       "      <td>4963.6</td>\n",
       "      <td>no</td>\n",
       "    </tr>\n",
       "  </tbody>\n",
       "</table>\n",
       "<p>41188 rows × 21 columns</p>\n",
       "</div>"
      ],
      "text/plain": [
       "       age          job  marital            education default housing loan  \\\n",
       "0       56    housemaid  married             basic.4y      no      no   no   \n",
       "1       57     services  married          high.school     NaN      no   no   \n",
       "2       37     services  married          high.school      no     yes   no   \n",
       "3       40       admin.  married             basic.6y      no      no   no   \n",
       "4       56     services  married          high.school      no      no  yes   \n",
       "...    ...          ...      ...                  ...     ...     ...  ...   \n",
       "41183   73      retired  married  professional.course      no     yes   no   \n",
       "41184   46  blue-collar  married  professional.course      no      no   no   \n",
       "41185   56      retired  married    university.degree      no     yes   no   \n",
       "41186   44   technician  married  professional.course      no      no   no   \n",
       "41187   74      retired  married  professional.course      no     yes   no   \n",
       "\n",
       "         contact month day_of_week  ...  campaign  pdays  previous  \\\n",
       "0      telephone   may         mon  ...         1    999         0   \n",
       "1      telephone   may         mon  ...         1    999         0   \n",
       "2      telephone   may         mon  ...         1    999         0   \n",
       "3      telephone   may         mon  ...         1    999         0   \n",
       "4      telephone   may         mon  ...         1    999         0   \n",
       "...          ...   ...         ...  ...       ...    ...       ...   \n",
       "41183   cellular   nov         fri  ...         1    999         0   \n",
       "41184   cellular   nov         fri  ...         1    999         0   \n",
       "41185   cellular   nov         fri  ...         2    999         0   \n",
       "41186   cellular   nov         fri  ...         1    999         0   \n",
       "41187   cellular   nov         fri  ...         3    999         1   \n",
       "\n",
       "          poutcome emp.var.rate  cons.price.idx  cons.conf.idx  euribor3m  \\\n",
       "0      nonexistent          1.1          93.994          -36.4      4.857   \n",
       "1      nonexistent          1.1          93.994          -36.4      4.857   \n",
       "2      nonexistent          1.1          93.994          -36.4      4.857   \n",
       "3      nonexistent          1.1          93.994          -36.4      4.857   \n",
       "4      nonexistent          1.1          93.994          -36.4      4.857   \n",
       "...            ...          ...             ...            ...        ...   \n",
       "41183  nonexistent         -1.1          94.767          -50.8      1.028   \n",
       "41184  nonexistent         -1.1          94.767          -50.8      1.028   \n",
       "41185  nonexistent         -1.1          94.767          -50.8      1.028   \n",
       "41186  nonexistent         -1.1          94.767          -50.8      1.028   \n",
       "41187      failure         -1.1          94.767          -50.8      1.028   \n",
       "\n",
       "       nr.employed    y  \n",
       "0           5191.0   no  \n",
       "1           5191.0   no  \n",
       "2           5191.0   no  \n",
       "3           5191.0   no  \n",
       "4           5191.0   no  \n",
       "...            ...  ...  \n",
       "41183       4963.6  yes  \n",
       "41184       4963.6   no  \n",
       "41185       4963.6   no  \n",
       "41186       4963.6  yes  \n",
       "41187       4963.6   no  \n",
       "\n",
       "[41188 rows x 21 columns]"
      ]
     },
     "execution_count": 248,
     "metadata": {},
     "output_type": "execute_result"
    }
   ],
   "source": [
    "bank #call up the dataset"
   ]
  },
  {
   "cell_type": "markdown",
   "id": "3cd71556",
   "metadata": {},
   "source": [
    "#### The data contains 41188 observations (row) and 21 variables (columns)"
   ]
  },
  {
   "cell_type": "markdown",
   "id": "25ba174f",
   "metadata": {},
   "source": [
    "### DATA EXPLORATION"
   ]
  },
  {
   "cell_type": "markdown",
   "id": "54a07df5",
   "metadata": {},
   "source": [
    "#### This is the first step undertaken when doing any data analysis\n",
    "#### The raw Bank marketing data contains 21 variables (this includes 7 categorical, 10 numeric, and 4 Boolean variables) \n",
    "#### The number of observations (rows) is 41188. \n"
   ]
  },
  {
   "cell_type": "code",
   "execution_count": 249,
   "id": "bd69ac68",
   "metadata": {},
   "outputs": [],
   "source": [
    "# #import the library \n",
    "# from pandas_profiling import ProfileReport"
   ]
  },
  {
   "cell_type": "code",
   "execution_count": 250,
   "id": "1b975618",
   "metadata": {},
   "outputs": [],
   "source": [
    "# !pip install pandas-profiling"
   ]
  },
  {
   "cell_type": "code",
   "execution_count": 251,
   "id": "4d7c3b41",
   "metadata": {},
   "outputs": [],
   "source": [
    "# profile=ProfileReport(bank,title=\"An Overview of Bank Data\")"
   ]
  },
  {
   "cell_type": "code",
   "execution_count": 252,
   "id": "0f9fd280",
   "metadata": {
    "scrolled": true
   },
   "outputs": [],
   "source": [
    "# profile"
   ]
  },
  {
   "cell_type": "markdown",
   "id": "58dd6063",
   "metadata": {},
   "source": [
    "We had to do use Pandas Profiling to do an exploratory data analysis, to help get early insights and visuals on the data"
   ]
  },
  {
   "cell_type": "code",
   "execution_count": 253,
   "id": "ae555d14",
   "metadata": {},
   "outputs": [],
   "source": [
    "#import pandas_profiling as pf"
   ]
  },
  {
   "cell_type": "code",
   "execution_count": 254,
   "id": "2c91b4e1",
   "metadata": {},
   "outputs": [],
   "source": [
    "#pf.ProfileReport(bank).to_file('Overview of Bank Marketing')"
   ]
  },
  {
   "cell_type": "code",
   "execution_count": 255,
   "id": "ad00d8a5",
   "metadata": {},
   "outputs": [
    {
     "data": {
      "text/plain": [
       "Index(['age', 'job', 'marital', 'education', 'default', 'housing', 'loan',\n",
       "       'contact', 'month', 'day_of_week', 'duration', 'campaign', 'pdays',\n",
       "       'previous', 'poutcome', 'emp.var.rate', 'cons.price.idx',\n",
       "       'cons.conf.idx', 'euribor3m', 'nr.employed', 'y'],\n",
       "      dtype='object')"
      ]
     },
     "execution_count": 255,
     "metadata": {},
     "output_type": "execute_result"
    }
   ],
   "source": [
    "bank.columns #to list all the column names"
   ]
  },
  {
   "cell_type": "markdown",
   "id": "bf330e9e",
   "metadata": {},
   "source": [
    "The bank marketing data contains the following columns:\n",
    "\n",
    "age,job,marital,education,default,housing,loan,contact,month,day_of_week,\n",
    "duration,campaign,pdays,previous,poutcome,emp.var.rate,cons.price.idx,\n",
    "cons.conf.idx,euribor3m,nr.employed,and y\n",
    " "
   ]
  },
  {
   "cell_type": "code",
   "execution_count": 256,
   "id": "db237004",
   "metadata": {},
   "outputs": [
    {
     "data": {
      "text/plain": [
       "(41188, 21)"
      ]
     },
     "execution_count": 256,
     "metadata": {},
     "output_type": "execute_result"
    }
   ],
   "source": [
    "bank.shape #to check for the dimensions of the data(number of rows and columns)"
   ]
  },
  {
   "cell_type": "code",
   "execution_count": 257,
   "id": "bb856f48",
   "metadata": {},
   "outputs": [
    {
     "name": "stdout",
     "output_type": "stream",
     "text": [
      "<class 'pandas.core.frame.DataFrame'>\n",
      "RangeIndex: 41188 entries, 0 to 41187\n",
      "Data columns (total 21 columns):\n",
      " #   Column          Non-Null Count  Dtype  \n",
      "---  ------          --------------  -----  \n",
      " 0   age             41188 non-null  int64  \n",
      " 1   job             40858 non-null  object \n",
      " 2   marital         41108 non-null  object \n",
      " 3   education       39457 non-null  object \n",
      " 4   default         32591 non-null  object \n",
      " 5   housing         40198 non-null  object \n",
      " 6   loan            40198 non-null  object \n",
      " 7   contact         41188 non-null  object \n",
      " 8   month           41188 non-null  object \n",
      " 9   day_of_week     41188 non-null  object \n",
      " 10  duration        41188 non-null  int64  \n",
      " 11  campaign        41188 non-null  int64  \n",
      " 12  pdays           41188 non-null  int64  \n",
      " 13  previous        41188 non-null  int64  \n",
      " 14  poutcome        41188 non-null  object \n",
      " 15  emp.var.rate    41188 non-null  float64\n",
      " 16  cons.price.idx  41188 non-null  float64\n",
      " 17  cons.conf.idx   41188 non-null  float64\n",
      " 18  euribor3m       41188 non-null  float64\n",
      " 19  nr.employed     41188 non-null  float64\n",
      " 20  y               41188 non-null  object \n",
      "dtypes: float64(5), int64(5), object(11)\n",
      "memory usage: 6.6+ MB\n"
     ]
    }
   ],
   "source": [
    "bank.info()"
   ]
  },
  {
   "cell_type": "markdown",
   "id": "bcdaff2e",
   "metadata": {},
   "source": [
    "The bank data contains different data types, this includes: \n",
    "object or string data types(job,marital,education,default,housing,loan,cotact,month,day_of_week and y),integer data types (age,duration,campaign,pdays,previous) and float data types(emp.var.rate,cons.price.idx,cons.conf.idx,euribor3m,nr.employed).\n",
    "\n",
    "The bank data has 12718 missing cells, which accounts for 1.5% of the total number of cells (note: total no. of cells = number of columns * number of rows). "
   ]
  },
  {
   "cell_type": "code",
   "execution_count": 258,
   "id": "6d7ef3f0",
   "metadata": {},
   "outputs": [
    {
     "data": {
      "text/plain": [
       "age                 int64\n",
       "job                object\n",
       "marital            object\n",
       "education          object\n",
       "default            object\n",
       "housing            object\n",
       "loan               object\n",
       "contact            object\n",
       "month              object\n",
       "day_of_week        object\n",
       "duration            int64\n",
       "campaign            int64\n",
       "pdays               int64\n",
       "previous            int64\n",
       "poutcome           object\n",
       "emp.var.rate      float64\n",
       "cons.price.idx    float64\n",
       "cons.conf.idx     float64\n",
       "euribor3m         float64\n",
       "nr.employed       float64\n",
       "y                  object\n",
       "dtype: object"
      ]
     },
     "execution_count": 258,
     "metadata": {},
     "output_type": "execute_result"
    }
   ],
   "source": [
    "bank.dtypes #to check for the data types"
   ]
  },
  {
   "cell_type": "code",
   "execution_count": 259,
   "id": "6c60219c",
   "metadata": {},
   "outputs": [
    {
     "data": {
      "text/html": [
       "<div>\n",
       "<style scoped>\n",
       "    .dataframe tbody tr th:only-of-type {\n",
       "        vertical-align: middle;\n",
       "    }\n",
       "\n",
       "    .dataframe tbody tr th {\n",
       "        vertical-align: top;\n",
       "    }\n",
       "\n",
       "    .dataframe thead th {\n",
       "        text-align: right;\n",
       "    }\n",
       "</style>\n",
       "<table border=\"1\" class=\"dataframe\">\n",
       "  <thead>\n",
       "    <tr style=\"text-align: right;\">\n",
       "      <th></th>\n",
       "      <th>age</th>\n",
       "      <th>duration</th>\n",
       "      <th>campaign</th>\n",
       "      <th>pdays</th>\n",
       "      <th>previous</th>\n",
       "      <th>emp.var.rate</th>\n",
       "      <th>cons.price.idx</th>\n",
       "      <th>cons.conf.idx</th>\n",
       "      <th>euribor3m</th>\n",
       "      <th>nr.employed</th>\n",
       "    </tr>\n",
       "  </thead>\n",
       "  <tbody>\n",
       "    <tr>\n",
       "      <th>count</th>\n",
       "      <td>41188.00000</td>\n",
       "      <td>41188.000000</td>\n",
       "      <td>41188.000000</td>\n",
       "      <td>41188.000000</td>\n",
       "      <td>41188.000000</td>\n",
       "      <td>41188.000000</td>\n",
       "      <td>41188.000000</td>\n",
       "      <td>41188.000000</td>\n",
       "      <td>41188.000000</td>\n",
       "      <td>41188.000000</td>\n",
       "    </tr>\n",
       "    <tr>\n",
       "      <th>mean</th>\n",
       "      <td>40.02406</td>\n",
       "      <td>258.285010</td>\n",
       "      <td>2.567593</td>\n",
       "      <td>962.475454</td>\n",
       "      <td>0.172963</td>\n",
       "      <td>0.081886</td>\n",
       "      <td>93.575664</td>\n",
       "      <td>-40.502600</td>\n",
       "      <td>3.621291</td>\n",
       "      <td>5167.035911</td>\n",
       "    </tr>\n",
       "    <tr>\n",
       "      <th>std</th>\n",
       "      <td>10.42125</td>\n",
       "      <td>259.279249</td>\n",
       "      <td>2.770014</td>\n",
       "      <td>186.910907</td>\n",
       "      <td>0.494901</td>\n",
       "      <td>1.570960</td>\n",
       "      <td>0.578840</td>\n",
       "      <td>4.628198</td>\n",
       "      <td>1.734447</td>\n",
       "      <td>72.251528</td>\n",
       "    </tr>\n",
       "    <tr>\n",
       "      <th>min</th>\n",
       "      <td>17.00000</td>\n",
       "      <td>0.000000</td>\n",
       "      <td>1.000000</td>\n",
       "      <td>0.000000</td>\n",
       "      <td>0.000000</td>\n",
       "      <td>-3.400000</td>\n",
       "      <td>92.201000</td>\n",
       "      <td>-50.800000</td>\n",
       "      <td>0.634000</td>\n",
       "      <td>4963.600000</td>\n",
       "    </tr>\n",
       "    <tr>\n",
       "      <th>25%</th>\n",
       "      <td>32.00000</td>\n",
       "      <td>102.000000</td>\n",
       "      <td>1.000000</td>\n",
       "      <td>999.000000</td>\n",
       "      <td>0.000000</td>\n",
       "      <td>-1.800000</td>\n",
       "      <td>93.075000</td>\n",
       "      <td>-42.700000</td>\n",
       "      <td>1.344000</td>\n",
       "      <td>5099.100000</td>\n",
       "    </tr>\n",
       "    <tr>\n",
       "      <th>50%</th>\n",
       "      <td>38.00000</td>\n",
       "      <td>180.000000</td>\n",
       "      <td>2.000000</td>\n",
       "      <td>999.000000</td>\n",
       "      <td>0.000000</td>\n",
       "      <td>1.100000</td>\n",
       "      <td>93.749000</td>\n",
       "      <td>-41.800000</td>\n",
       "      <td>4.857000</td>\n",
       "      <td>5191.000000</td>\n",
       "    </tr>\n",
       "    <tr>\n",
       "      <th>75%</th>\n",
       "      <td>47.00000</td>\n",
       "      <td>319.000000</td>\n",
       "      <td>3.000000</td>\n",
       "      <td>999.000000</td>\n",
       "      <td>0.000000</td>\n",
       "      <td>1.400000</td>\n",
       "      <td>93.994000</td>\n",
       "      <td>-36.400000</td>\n",
       "      <td>4.961000</td>\n",
       "      <td>5228.100000</td>\n",
       "    </tr>\n",
       "    <tr>\n",
       "      <th>max</th>\n",
       "      <td>98.00000</td>\n",
       "      <td>4918.000000</td>\n",
       "      <td>56.000000</td>\n",
       "      <td>999.000000</td>\n",
       "      <td>7.000000</td>\n",
       "      <td>1.400000</td>\n",
       "      <td>94.767000</td>\n",
       "      <td>-26.900000</td>\n",
       "      <td>5.045000</td>\n",
       "      <td>5228.100000</td>\n",
       "    </tr>\n",
       "  </tbody>\n",
       "</table>\n",
       "</div>"
      ],
      "text/plain": [
       "               age      duration      campaign         pdays      previous  \\\n",
       "count  41188.00000  41188.000000  41188.000000  41188.000000  41188.000000   \n",
       "mean      40.02406    258.285010      2.567593    962.475454      0.172963   \n",
       "std       10.42125    259.279249      2.770014    186.910907      0.494901   \n",
       "min       17.00000      0.000000      1.000000      0.000000      0.000000   \n",
       "25%       32.00000    102.000000      1.000000    999.000000      0.000000   \n",
       "50%       38.00000    180.000000      2.000000    999.000000      0.000000   \n",
       "75%       47.00000    319.000000      3.000000    999.000000      0.000000   \n",
       "max       98.00000   4918.000000     56.000000    999.000000      7.000000   \n",
       "\n",
       "       emp.var.rate  cons.price.idx  cons.conf.idx     euribor3m   nr.employed  \n",
       "count  41188.000000    41188.000000   41188.000000  41188.000000  41188.000000  \n",
       "mean       0.081886       93.575664     -40.502600      3.621291   5167.035911  \n",
       "std        1.570960        0.578840       4.628198      1.734447     72.251528  \n",
       "min       -3.400000       92.201000     -50.800000      0.634000   4963.600000  \n",
       "25%       -1.800000       93.075000     -42.700000      1.344000   5099.100000  \n",
       "50%        1.100000       93.749000     -41.800000      4.857000   5191.000000  \n",
       "75%        1.400000       93.994000     -36.400000      4.961000   5228.100000  \n",
       "max        1.400000       94.767000     -26.900000      5.045000   5228.100000  "
      ]
     },
     "execution_count": 259,
     "metadata": {},
     "output_type": "execute_result"
    }
   ],
   "source": [
    "bank.describe() #check the description/statistics of the data"
   ]
  },
  {
   "cell_type": "markdown",
   "id": "cfcb0ed6",
   "metadata": {},
   "source": [
    "This was to determine the numerical statistics of the bankmarketing data e.g the mean, the maximum and minimum values and the standard deviation"
   ]
  },
  {
   "cell_type": "markdown",
   "id": "86c14320",
   "metadata": {},
   "source": [
    "### DATA CLEANING"
   ]
  },
  {
   "cell_type": "code",
   "execution_count": 260,
   "id": "1c773d96",
   "metadata": {},
   "outputs": [
    {
     "data": {
      "text/plain": [
       "age                  0\n",
       "job                330\n",
       "marital             80\n",
       "education         1731\n",
       "default           8597\n",
       "housing            990\n",
       "loan               990\n",
       "contact              0\n",
       "month                0\n",
       "day_of_week          0\n",
       "duration             0\n",
       "campaign             0\n",
       "pdays                0\n",
       "previous             0\n",
       "poutcome             0\n",
       "emp.var.rate         0\n",
       "cons.price.idx       0\n",
       "cons.conf.idx        0\n",
       "euribor3m            0\n",
       "nr.employed          0\n",
       "y                    0\n",
       "dtype: int64"
      ]
     },
     "execution_count": 260,
     "metadata": {},
     "output_type": "execute_result"
    }
   ],
   "source": [
    "bank.isnull().sum() #check for the missing values"
   ]
  },
  {
   "cell_type": "markdown",
   "id": "65ef4d21",
   "metadata": {},
   "source": [
    "The Bank marketing data was cleaned by detecting and correcting or removing wrong or inaccurate records from the dataset\n",
    "\n",
    "There were several columns with missing values, for instance, Job has 40858 entries, meaning 330 entries are missing. The Marital column has 41108 entries, so we are missing 80 entries. The Education column has 39457 entries, missing 1731 entries. The Default column has 32591 entries, missing 8597 entries. Housing and Loan columns have 40198 entries and are each missing 990 entries\n",
    "\n",
    "\n",
    "\n",
    "\n",
    "\n",
    "\n",
    "\n"
   ]
  },
  {
   "cell_type": "markdown",
   "id": "11345e83",
   "metadata": {},
   "source": [
    "From the pandas profile, it shows that the dominant age of the customers is 31-40, with a mean age of 40. The maximum age is 98 and the minimum age is 17"
   ]
  },
  {
   "cell_type": "markdown",
   "id": "1e881cf5",
   "metadata": {},
   "source": [
    "#### CLEANING THE JOB COLUMN"
   ]
  },
  {
   "cell_type": "code",
   "execution_count": 261,
   "id": "9aa2f598",
   "metadata": {},
   "outputs": [],
   "source": [
    "#to explore the job column\n",
    "job = bank[\"job\"]"
   ]
  },
  {
   "cell_type": "code",
   "execution_count": 262,
   "id": "cee3ea74",
   "metadata": {},
   "outputs": [
    {
     "data": {
      "text/plain": [
       "0          housemaid\n",
       "1           services\n",
       "2           services\n",
       "3             admin.\n",
       "4           services\n",
       "            ...     \n",
       "41183        retired\n",
       "41184    blue-collar\n",
       "41185        retired\n",
       "41186     technician\n",
       "41187        retired\n",
       "Name: job, Length: 41188, dtype: object"
      ]
     },
     "execution_count": 262,
     "metadata": {},
     "output_type": "execute_result"
    }
   ],
   "source": [
    "job"
   ]
  },
  {
   "cell_type": "code",
   "execution_count": 263,
   "id": "10163eab",
   "metadata": {},
   "outputs": [
    {
     "data": {
      "text/plain": [
       "0        <class 'str'>\n",
       "1        <class 'str'>\n",
       "2        <class 'str'>\n",
       "3        <class 'str'>\n",
       "4        <class 'str'>\n",
       "             ...      \n",
       "41183    <class 'str'>\n",
       "41184    <class 'str'>\n",
       "41185    <class 'str'>\n",
       "41186    <class 'str'>\n",
       "41187    <class 'str'>\n",
       "Name: job, Length: 41188, dtype: object"
      ]
     },
     "execution_count": 263,
     "metadata": {},
     "output_type": "execute_result"
    }
   ],
   "source": [
    "#check the data type for job\n",
    "job.apply(type)"
   ]
  },
  {
   "cell_type": "code",
   "execution_count": 264,
   "id": "2a6edf48",
   "metadata": {},
   "outputs": [
    {
     "data": {
      "text/plain": [
       "330"
      ]
     },
     "execution_count": 264,
     "metadata": {},
     "output_type": "execute_result"
    }
   ],
   "source": [
    "bank['job'].isna().sum() #check for missing rows"
   ]
  },
  {
   "cell_type": "code",
   "execution_count": 265,
   "id": "b8f29bcd",
   "metadata": {},
   "outputs": [
    {
     "data": {
      "text/plain": [
       "array(['housemaid', 'services', 'admin.', 'blue-collar', 'technician',\n",
       "       'retired', 'management', 'unemployed', 'self-employed', nan,\n",
       "       'entrepreneur', 'student'], dtype=object)"
      ]
     },
     "execution_count": 265,
     "metadata": {},
     "output_type": "execute_result"
    }
   ],
   "source": [
    "bank['job'].unique() #to check for the unique rows"
   ]
  },
  {
   "cell_type": "code",
   "execution_count": 266,
   "id": "5a06d7db",
   "metadata": {},
   "outputs": [
    {
     "data": {
      "text/html": [
       "<div>\n",
       "<style scoped>\n",
       "    .dataframe tbody tr th:only-of-type {\n",
       "        vertical-align: middle;\n",
       "    }\n",
       "\n",
       "    .dataframe tbody tr th {\n",
       "        vertical-align: top;\n",
       "    }\n",
       "\n",
       "    .dataframe thead th {\n",
       "        text-align: right;\n",
       "    }\n",
       "</style>\n",
       "<table border=\"1\" class=\"dataframe\">\n",
       "  <thead>\n",
       "    <tr style=\"text-align: right;\">\n",
       "      <th></th>\n",
       "      <th>age</th>\n",
       "      <th>job</th>\n",
       "      <th>marital</th>\n",
       "      <th>education</th>\n",
       "      <th>default</th>\n",
       "      <th>housing</th>\n",
       "      <th>loan</th>\n",
       "      <th>contact</th>\n",
       "      <th>month</th>\n",
       "      <th>day_of_week</th>\n",
       "      <th>...</th>\n",
       "      <th>campaign</th>\n",
       "      <th>pdays</th>\n",
       "      <th>previous</th>\n",
       "      <th>poutcome</th>\n",
       "      <th>emp.var.rate</th>\n",
       "      <th>cons.price.idx</th>\n",
       "      <th>cons.conf.idx</th>\n",
       "      <th>euribor3m</th>\n",
       "      <th>nr.employed</th>\n",
       "      <th>y</th>\n",
       "    </tr>\n",
       "  </thead>\n",
       "  <tbody>\n",
       "    <tr>\n",
       "      <th>29</th>\n",
       "      <td>55</td>\n",
       "      <td>NaN</td>\n",
       "      <td>married</td>\n",
       "      <td>university.degree</td>\n",
       "      <td>NaN</td>\n",
       "      <td>NaN</td>\n",
       "      <td>NaN</td>\n",
       "      <td>telephone</td>\n",
       "      <td>may</td>\n",
       "      <td>mon</td>\n",
       "      <td>...</td>\n",
       "      <td>1</td>\n",
       "      <td>999</td>\n",
       "      <td>0</td>\n",
       "      <td>nonexistent</td>\n",
       "      <td>1.1</td>\n",
       "      <td>93.994</td>\n",
       "      <td>-36.4</td>\n",
       "      <td>4.857</td>\n",
       "      <td>5191.0</td>\n",
       "      <td>no</td>\n",
       "    </tr>\n",
       "    <tr>\n",
       "      <th>35</th>\n",
       "      <td>55</td>\n",
       "      <td>NaN</td>\n",
       "      <td>married</td>\n",
       "      <td>basic.4y</td>\n",
       "      <td>NaN</td>\n",
       "      <td>yes</td>\n",
       "      <td>no</td>\n",
       "      <td>telephone</td>\n",
       "      <td>may</td>\n",
       "      <td>mon</td>\n",
       "      <td>...</td>\n",
       "      <td>1</td>\n",
       "      <td>999</td>\n",
       "      <td>0</td>\n",
       "      <td>nonexistent</td>\n",
       "      <td>1.1</td>\n",
       "      <td>93.994</td>\n",
       "      <td>-36.4</td>\n",
       "      <td>4.857</td>\n",
       "      <td>5191.0</td>\n",
       "      <td>no</td>\n",
       "    </tr>\n",
       "    <tr>\n",
       "      <th>73</th>\n",
       "      <td>57</td>\n",
       "      <td>NaN</td>\n",
       "      <td>married</td>\n",
       "      <td>NaN</td>\n",
       "      <td>NaN</td>\n",
       "      <td>no</td>\n",
       "      <td>no</td>\n",
       "      <td>telephone</td>\n",
       "      <td>may</td>\n",
       "      <td>mon</td>\n",
       "      <td>...</td>\n",
       "      <td>1</td>\n",
       "      <td>999</td>\n",
       "      <td>0</td>\n",
       "      <td>nonexistent</td>\n",
       "      <td>1.1</td>\n",
       "      <td>93.994</td>\n",
       "      <td>-36.4</td>\n",
       "      <td>4.857</td>\n",
       "      <td>5191.0</td>\n",
       "      <td>no</td>\n",
       "    </tr>\n",
       "    <tr>\n",
       "      <th>91</th>\n",
       "      <td>57</td>\n",
       "      <td>NaN</td>\n",
       "      <td>married</td>\n",
       "      <td>NaN</td>\n",
       "      <td>NaN</td>\n",
       "      <td>yes</td>\n",
       "      <td>no</td>\n",
       "      <td>telephone</td>\n",
       "      <td>may</td>\n",
       "      <td>mon</td>\n",
       "      <td>...</td>\n",
       "      <td>1</td>\n",
       "      <td>999</td>\n",
       "      <td>0</td>\n",
       "      <td>nonexistent</td>\n",
       "      <td>1.1</td>\n",
       "      <td>93.994</td>\n",
       "      <td>-36.4</td>\n",
       "      <td>4.857</td>\n",
       "      <td>5191.0</td>\n",
       "      <td>no</td>\n",
       "    </tr>\n",
       "    <tr>\n",
       "      <th>144</th>\n",
       "      <td>38</td>\n",
       "      <td>NaN</td>\n",
       "      <td>divorced</td>\n",
       "      <td>high.school</td>\n",
       "      <td>NaN</td>\n",
       "      <td>yes</td>\n",
       "      <td>no</td>\n",
       "      <td>telephone</td>\n",
       "      <td>may</td>\n",
       "      <td>mon</td>\n",
       "      <td>...</td>\n",
       "      <td>1</td>\n",
       "      <td>999</td>\n",
       "      <td>0</td>\n",
       "      <td>nonexistent</td>\n",
       "      <td>1.1</td>\n",
       "      <td>93.994</td>\n",
       "      <td>-36.4</td>\n",
       "      <td>4.857</td>\n",
       "      <td>5191.0</td>\n",
       "      <td>no</td>\n",
       "    </tr>\n",
       "    <tr>\n",
       "      <th>...</th>\n",
       "      <td>...</td>\n",
       "      <td>...</td>\n",
       "      <td>...</td>\n",
       "      <td>...</td>\n",
       "      <td>...</td>\n",
       "      <td>...</td>\n",
       "      <td>...</td>\n",
       "      <td>...</td>\n",
       "      <td>...</td>\n",
       "      <td>...</td>\n",
       "      <td>...</td>\n",
       "      <td>...</td>\n",
       "      <td>...</td>\n",
       "      <td>...</td>\n",
       "      <td>...</td>\n",
       "      <td>...</td>\n",
       "      <td>...</td>\n",
       "      <td>...</td>\n",
       "      <td>...</td>\n",
       "      <td>...</td>\n",
       "      <td>...</td>\n",
       "    </tr>\n",
       "    <tr>\n",
       "      <th>40370</th>\n",
       "      <td>59</td>\n",
       "      <td>NaN</td>\n",
       "      <td>married</td>\n",
       "      <td>NaN</td>\n",
       "      <td>no</td>\n",
       "      <td>no</td>\n",
       "      <td>no</td>\n",
       "      <td>cellular</td>\n",
       "      <td>aug</td>\n",
       "      <td>wed</td>\n",
       "      <td>...</td>\n",
       "      <td>1</td>\n",
       "      <td>6</td>\n",
       "      <td>1</td>\n",
       "      <td>success</td>\n",
       "      <td>-1.7</td>\n",
       "      <td>94.027</td>\n",
       "      <td>-38.3</td>\n",
       "      <td>0.900</td>\n",
       "      <td>4991.6</td>\n",
       "      <td>yes</td>\n",
       "    </tr>\n",
       "    <tr>\n",
       "      <th>40428</th>\n",
       "      <td>64</td>\n",
       "      <td>NaN</td>\n",
       "      <td>married</td>\n",
       "      <td>NaN</td>\n",
       "      <td>no</td>\n",
       "      <td>yes</td>\n",
       "      <td>no</td>\n",
       "      <td>telephone</td>\n",
       "      <td>aug</td>\n",
       "      <td>fri</td>\n",
       "      <td>...</td>\n",
       "      <td>4</td>\n",
       "      <td>999</td>\n",
       "      <td>0</td>\n",
       "      <td>nonexistent</td>\n",
       "      <td>-1.7</td>\n",
       "      <td>94.027</td>\n",
       "      <td>-38.3</td>\n",
       "      <td>0.905</td>\n",
       "      <td>4991.6</td>\n",
       "      <td>yes</td>\n",
       "    </tr>\n",
       "    <tr>\n",
       "      <th>40656</th>\n",
       "      <td>67</td>\n",
       "      <td>NaN</td>\n",
       "      <td>divorced</td>\n",
       "      <td>NaN</td>\n",
       "      <td>NaN</td>\n",
       "      <td>yes</td>\n",
       "      <td>no</td>\n",
       "      <td>cellular</td>\n",
       "      <td>sep</td>\n",
       "      <td>wed</td>\n",
       "      <td>...</td>\n",
       "      <td>2</td>\n",
       "      <td>6</td>\n",
       "      <td>2</td>\n",
       "      <td>success</td>\n",
       "      <td>-1.1</td>\n",
       "      <td>94.199</td>\n",
       "      <td>-37.5</td>\n",
       "      <td>0.880</td>\n",
       "      <td>4963.6</td>\n",
       "      <td>yes</td>\n",
       "    </tr>\n",
       "    <tr>\n",
       "      <th>41005</th>\n",
       "      <td>63</td>\n",
       "      <td>NaN</td>\n",
       "      <td>married</td>\n",
       "      <td>professional.course</td>\n",
       "      <td>no</td>\n",
       "      <td>no</td>\n",
       "      <td>no</td>\n",
       "      <td>cellular</td>\n",
       "      <td>oct</td>\n",
       "      <td>thu</td>\n",
       "      <td>...</td>\n",
       "      <td>1</td>\n",
       "      <td>6</td>\n",
       "      <td>1</td>\n",
       "      <td>success</td>\n",
       "      <td>-1.1</td>\n",
       "      <td>94.601</td>\n",
       "      <td>-49.5</td>\n",
       "      <td>1.025</td>\n",
       "      <td>4963.6</td>\n",
       "      <td>no</td>\n",
       "    </tr>\n",
       "    <tr>\n",
       "      <th>41108</th>\n",
       "      <td>64</td>\n",
       "      <td>NaN</td>\n",
       "      <td>married</td>\n",
       "      <td>NaN</td>\n",
       "      <td>no</td>\n",
       "      <td>no</td>\n",
       "      <td>no</td>\n",
       "      <td>cellular</td>\n",
       "      <td>nov</td>\n",
       "      <td>mon</td>\n",
       "      <td>...</td>\n",
       "      <td>1</td>\n",
       "      <td>3</td>\n",
       "      <td>3</td>\n",
       "      <td>success</td>\n",
       "      <td>-1.1</td>\n",
       "      <td>94.767</td>\n",
       "      <td>-50.8</td>\n",
       "      <td>1.048</td>\n",
       "      <td>4963.6</td>\n",
       "      <td>no</td>\n",
       "    </tr>\n",
       "  </tbody>\n",
       "</table>\n",
       "<p>330 rows × 21 columns</p>\n",
       "</div>"
      ],
      "text/plain": [
       "       age  job   marital            education default housing loan  \\\n",
       "29      55  NaN   married    university.degree     NaN     NaN  NaN   \n",
       "35      55  NaN   married             basic.4y     NaN     yes   no   \n",
       "73      57  NaN   married                  NaN     NaN      no   no   \n",
       "91      57  NaN   married                  NaN     NaN     yes   no   \n",
       "144     38  NaN  divorced          high.school     NaN     yes   no   \n",
       "...    ...  ...       ...                  ...     ...     ...  ...   \n",
       "40370   59  NaN   married                  NaN      no      no   no   \n",
       "40428   64  NaN   married                  NaN      no     yes   no   \n",
       "40656   67  NaN  divorced                  NaN     NaN     yes   no   \n",
       "41005   63  NaN   married  professional.course      no      no   no   \n",
       "41108   64  NaN   married                  NaN      no      no   no   \n",
       "\n",
       "         contact month day_of_week  ...  campaign  pdays  previous  \\\n",
       "29     telephone   may         mon  ...         1    999         0   \n",
       "35     telephone   may         mon  ...         1    999         0   \n",
       "73     telephone   may         mon  ...         1    999         0   \n",
       "91     telephone   may         mon  ...         1    999         0   \n",
       "144    telephone   may         mon  ...         1    999         0   \n",
       "...          ...   ...         ...  ...       ...    ...       ...   \n",
       "40370   cellular   aug         wed  ...         1      6         1   \n",
       "40428  telephone   aug         fri  ...         4    999         0   \n",
       "40656   cellular   sep         wed  ...         2      6         2   \n",
       "41005   cellular   oct         thu  ...         1      6         1   \n",
       "41108   cellular   nov         mon  ...         1      3         3   \n",
       "\n",
       "          poutcome emp.var.rate  cons.price.idx  cons.conf.idx  euribor3m  \\\n",
       "29     nonexistent          1.1          93.994          -36.4      4.857   \n",
       "35     nonexistent          1.1          93.994          -36.4      4.857   \n",
       "73     nonexistent          1.1          93.994          -36.4      4.857   \n",
       "91     nonexistent          1.1          93.994          -36.4      4.857   \n",
       "144    nonexistent          1.1          93.994          -36.4      4.857   \n",
       "...            ...          ...             ...            ...        ...   \n",
       "40370      success         -1.7          94.027          -38.3      0.900   \n",
       "40428  nonexistent         -1.7          94.027          -38.3      0.905   \n",
       "40656      success         -1.1          94.199          -37.5      0.880   \n",
       "41005      success         -1.1          94.601          -49.5      1.025   \n",
       "41108      success         -1.1          94.767          -50.8      1.048   \n",
       "\n",
       "       nr.employed    y  \n",
       "29          5191.0   no  \n",
       "35          5191.0   no  \n",
       "73          5191.0   no  \n",
       "91          5191.0   no  \n",
       "144         5191.0   no  \n",
       "...            ...  ...  \n",
       "40370       4991.6  yes  \n",
       "40428       4991.6  yes  \n",
       "40656       4963.6  yes  \n",
       "41005       4963.6   no  \n",
       "41108       4963.6   no  \n",
       "\n",
       "[330 rows x 21 columns]"
      ]
     },
     "execution_count": 266,
     "metadata": {},
     "output_type": "execute_result"
    }
   ],
   "source": [
    "bank[pd.isna(bank['job'])]#to locate the row with an empty entry"
   ]
  },
  {
   "cell_type": "code",
   "execution_count": 267,
   "id": "5045239e",
   "metadata": {},
   "outputs": [],
   "source": [
    "#to get the mode for the job column\n",
    "job_mode = bank['job'].mode()"
   ]
  },
  {
   "cell_type": "code",
   "execution_count": 268,
   "id": "b48b3c5c",
   "metadata": {},
   "outputs": [
    {
     "data": {
      "text/plain": [
       "0    admin.\n",
       "dtype: object"
      ]
     },
     "execution_count": 268,
     "metadata": {},
     "output_type": "execute_result"
    }
   ],
   "source": [
    "job_mode"
   ]
  },
  {
   "cell_type": "code",
   "execution_count": 269,
   "id": "d26ca03a",
   "metadata": {},
   "outputs": [],
   "source": [
    "replace_jobnan= bank['job'].replace(np.nan,\"admin.\",inplace=True) #fill the nan values using the mode"
   ]
  },
  {
   "cell_type": "code",
   "execution_count": 270,
   "id": "7a74186e",
   "metadata": {},
   "outputs": [],
   "source": [
    "# # to replace null values to admin.\n",
    "# bank['job']= bank['job'].replace (' ','admin.')"
   ]
  },
  {
   "cell_type": "code",
   "execution_count": 271,
   "id": "54d18789",
   "metadata": {},
   "outputs": [
    {
     "data": {
      "text/plain": [
       "0"
      ]
     },
     "execution_count": 271,
     "metadata": {},
     "output_type": "execute_result"
    }
   ],
   "source": [
    "bank['job'].isna().sum() #check for missing rows"
   ]
  },
  {
   "cell_type": "code",
   "execution_count": 272,
   "id": "bffea6a4",
   "metadata": {},
   "outputs": [],
   "source": [
    "# to replace admin to admin.\n",
    "bank['job']= bank['job'].replace ('admin','admin.')"
   ]
  },
  {
   "cell_type": "code",
   "execution_count": 273,
   "id": "09eb2237",
   "metadata": {},
   "outputs": [
    {
     "data": {
      "text/plain": [
       "array(['housemaid', 'services', 'admin.', 'blue-collar', 'technician',\n",
       "       'retired', 'management', 'unemployed', 'self-employed',\n",
       "       'entrepreneur', 'student'], dtype=object)"
      ]
     },
     "execution_count": 273,
     "metadata": {},
     "output_type": "execute_result"
    }
   ],
   "source": [
    "bank['job'].unique() #to check for the unique rows"
   ]
  },
  {
   "cell_type": "markdown",
   "id": "06c802b8",
   "metadata": {},
   "source": [
    "The missing values in the Job column were filled by using the imputation technique. The mode was applied, which is the most frequently occurring entry. In this case, the admin was the most frequently occurring entry.\n",
    "\n",
    "\n",
    "\n",
    "\n",
    "\n"
   ]
  },
  {
   "cell_type": "markdown",
   "id": "789e7870",
   "metadata": {},
   "source": [
    "From the pandas profile, a categorical analysis of the job profile of the customers shows that there are more gainfully employed people (admin, blue-collar, and technician) than under-employed and unemployed people. This makes up 65% of the total customers"
   ]
  },
  {
   "cell_type": "markdown",
   "id": "1597b8b8",
   "metadata": {},
   "source": [
    "#### CLEANING THE MARITAL COLUMN"
   ]
  },
  {
   "cell_type": "code",
   "execution_count": 274,
   "id": "5bf91d14",
   "metadata": {},
   "outputs": [],
   "source": [
    "#to explore the marital column\n",
    "marital = bank[\"marital\"]"
   ]
  },
  {
   "cell_type": "code",
   "execution_count": 275,
   "id": "281ce2e1",
   "metadata": {},
   "outputs": [
    {
     "data": {
      "text/plain": [
       "0        married\n",
       "1        married\n",
       "2        married\n",
       "3        married\n",
       "4        married\n",
       "          ...   \n",
       "41183    married\n",
       "41184    married\n",
       "41185    married\n",
       "41186    married\n",
       "41187    married\n",
       "Name: marital, Length: 41188, dtype: object"
      ]
     },
     "execution_count": 275,
     "metadata": {},
     "output_type": "execute_result"
    }
   ],
   "source": [
    "marital"
   ]
  },
  {
   "cell_type": "code",
   "execution_count": 276,
   "id": "54433389",
   "metadata": {},
   "outputs": [
    {
     "data": {
      "text/plain": [
       "80"
      ]
     },
     "execution_count": 276,
     "metadata": {},
     "output_type": "execute_result"
    }
   ],
   "source": [
    "bank['marital'].isna().sum() #check for missing rows"
   ]
  },
  {
   "cell_type": "code",
   "execution_count": 277,
   "id": "78b0c78a",
   "metadata": {},
   "outputs": [
    {
     "data": {
      "text/plain": [
       "array(['married', 'single', 'divorced', nan], dtype=object)"
      ]
     },
     "execution_count": 277,
     "metadata": {},
     "output_type": "execute_result"
    }
   ],
   "source": [
    "bank['marital'].unique() #to check for the unique rows"
   ]
  },
  {
   "cell_type": "code",
   "execution_count": 278,
   "id": "772240cb",
   "metadata": {},
   "outputs": [
    {
     "data": {
      "text/html": [
       "<div>\n",
       "<style scoped>\n",
       "    .dataframe tbody tr th:only-of-type {\n",
       "        vertical-align: middle;\n",
       "    }\n",
       "\n",
       "    .dataframe tbody tr th {\n",
       "        vertical-align: top;\n",
       "    }\n",
       "\n",
       "    .dataframe thead th {\n",
       "        text-align: right;\n",
       "    }\n",
       "</style>\n",
       "<table border=\"1\" class=\"dataframe\">\n",
       "  <thead>\n",
       "    <tr style=\"text-align: right;\">\n",
       "      <th></th>\n",
       "      <th>age</th>\n",
       "      <th>job</th>\n",
       "      <th>marital</th>\n",
       "      <th>education</th>\n",
       "      <th>default</th>\n",
       "      <th>housing</th>\n",
       "      <th>loan</th>\n",
       "      <th>contact</th>\n",
       "      <th>month</th>\n",
       "      <th>day_of_week</th>\n",
       "      <th>...</th>\n",
       "      <th>campaign</th>\n",
       "      <th>pdays</th>\n",
       "      <th>previous</th>\n",
       "      <th>poutcome</th>\n",
       "      <th>emp.var.rate</th>\n",
       "      <th>cons.price.idx</th>\n",
       "      <th>cons.conf.idx</th>\n",
       "      <th>euribor3m</th>\n",
       "      <th>nr.employed</th>\n",
       "      <th>y</th>\n",
       "    </tr>\n",
       "  </thead>\n",
       "  <tbody>\n",
       "    <tr>\n",
       "      <th>40</th>\n",
       "      <td>58</td>\n",
       "      <td>management</td>\n",
       "      <td>NaN</td>\n",
       "      <td>university.degree</td>\n",
       "      <td>no</td>\n",
       "      <td>yes</td>\n",
       "      <td>no</td>\n",
       "      <td>telephone</td>\n",
       "      <td>may</td>\n",
       "      <td>mon</td>\n",
       "      <td>...</td>\n",
       "      <td>1</td>\n",
       "      <td>999</td>\n",
       "      <td>0</td>\n",
       "      <td>nonexistent</td>\n",
       "      <td>1.1</td>\n",
       "      <td>93.994</td>\n",
       "      <td>-36.4</td>\n",
       "      <td>4.857</td>\n",
       "      <td>5191.0</td>\n",
       "      <td>no</td>\n",
       "    </tr>\n",
       "    <tr>\n",
       "      <th>390</th>\n",
       "      <td>59</td>\n",
       "      <td>retired</td>\n",
       "      <td>NaN</td>\n",
       "      <td>university.degree</td>\n",
       "      <td>NaN</td>\n",
       "      <td>no</td>\n",
       "      <td>no</td>\n",
       "      <td>telephone</td>\n",
       "      <td>may</td>\n",
       "      <td>tue</td>\n",
       "      <td>...</td>\n",
       "      <td>1</td>\n",
       "      <td>999</td>\n",
       "      <td>0</td>\n",
       "      <td>nonexistent</td>\n",
       "      <td>1.1</td>\n",
       "      <td>93.994</td>\n",
       "      <td>-36.4</td>\n",
       "      <td>4.857</td>\n",
       "      <td>5191.0</td>\n",
       "      <td>no</td>\n",
       "    </tr>\n",
       "    <tr>\n",
       "      <th>413</th>\n",
       "      <td>57</td>\n",
       "      <td>retired</td>\n",
       "      <td>NaN</td>\n",
       "      <td>basic.4y</td>\n",
       "      <td>no</td>\n",
       "      <td>no</td>\n",
       "      <td>no</td>\n",
       "      <td>telephone</td>\n",
       "      <td>may</td>\n",
       "      <td>tue</td>\n",
       "      <td>...</td>\n",
       "      <td>1</td>\n",
       "      <td>999</td>\n",
       "      <td>0</td>\n",
       "      <td>nonexistent</td>\n",
       "      <td>1.1</td>\n",
       "      <td>93.994</td>\n",
       "      <td>-36.4</td>\n",
       "      <td>4.857</td>\n",
       "      <td>5191.0</td>\n",
       "      <td>no</td>\n",
       "    </tr>\n",
       "    <tr>\n",
       "      <th>1493</th>\n",
       "      <td>33</td>\n",
       "      <td>services</td>\n",
       "      <td>NaN</td>\n",
       "      <td>high.school</td>\n",
       "      <td>no</td>\n",
       "      <td>yes</td>\n",
       "      <td>yes</td>\n",
       "      <td>telephone</td>\n",
       "      <td>may</td>\n",
       "      <td>thu</td>\n",
       "      <td>...</td>\n",
       "      <td>2</td>\n",
       "      <td>999</td>\n",
       "      <td>0</td>\n",
       "      <td>nonexistent</td>\n",
       "      <td>1.1</td>\n",
       "      <td>93.994</td>\n",
       "      <td>-36.4</td>\n",
       "      <td>4.855</td>\n",
       "      <td>5191.0</td>\n",
       "      <td>no</td>\n",
       "    </tr>\n",
       "    <tr>\n",
       "      <th>1608</th>\n",
       "      <td>32</td>\n",
       "      <td>admin.</td>\n",
       "      <td>NaN</td>\n",
       "      <td>university.degree</td>\n",
       "      <td>no</td>\n",
       "      <td>no</td>\n",
       "      <td>no</td>\n",
       "      <td>telephone</td>\n",
       "      <td>may</td>\n",
       "      <td>fri</td>\n",
       "      <td>...</td>\n",
       "      <td>4</td>\n",
       "      <td>999</td>\n",
       "      <td>0</td>\n",
       "      <td>nonexistent</td>\n",
       "      <td>1.1</td>\n",
       "      <td>93.994</td>\n",
       "      <td>-36.4</td>\n",
       "      <td>4.855</td>\n",
       "      <td>5191.0</td>\n",
       "      <td>yes</td>\n",
       "    </tr>\n",
       "    <tr>\n",
       "      <th>...</th>\n",
       "      <td>...</td>\n",
       "      <td>...</td>\n",
       "      <td>...</td>\n",
       "      <td>...</td>\n",
       "      <td>...</td>\n",
       "      <td>...</td>\n",
       "      <td>...</td>\n",
       "      <td>...</td>\n",
       "      <td>...</td>\n",
       "      <td>...</td>\n",
       "      <td>...</td>\n",
       "      <td>...</td>\n",
       "      <td>...</td>\n",
       "      <td>...</td>\n",
       "      <td>...</td>\n",
       "      <td>...</td>\n",
       "      <td>...</td>\n",
       "      <td>...</td>\n",
       "      <td>...</td>\n",
       "      <td>...</td>\n",
       "      <td>...</td>\n",
       "    </tr>\n",
       "    <tr>\n",
       "      <th>38550</th>\n",
       "      <td>31</td>\n",
       "      <td>entrepreneur</td>\n",
       "      <td>NaN</td>\n",
       "      <td>university.degree</td>\n",
       "      <td>no</td>\n",
       "      <td>no</td>\n",
       "      <td>no</td>\n",
       "      <td>cellular</td>\n",
       "      <td>oct</td>\n",
       "      <td>thu</td>\n",
       "      <td>...</td>\n",
       "      <td>1</td>\n",
       "      <td>999</td>\n",
       "      <td>0</td>\n",
       "      <td>nonexistent</td>\n",
       "      <td>-3.4</td>\n",
       "      <td>92.431</td>\n",
       "      <td>-26.9</td>\n",
       "      <td>0.722</td>\n",
       "      <td>5017.5</td>\n",
       "      <td>yes</td>\n",
       "    </tr>\n",
       "    <tr>\n",
       "      <th>38579</th>\n",
       "      <td>31</td>\n",
       "      <td>entrepreneur</td>\n",
       "      <td>NaN</td>\n",
       "      <td>university.degree</td>\n",
       "      <td>no</td>\n",
       "      <td>yes</td>\n",
       "      <td>no</td>\n",
       "      <td>telephone</td>\n",
       "      <td>oct</td>\n",
       "      <td>thu</td>\n",
       "      <td>...</td>\n",
       "      <td>4</td>\n",
       "      <td>999</td>\n",
       "      <td>1</td>\n",
       "      <td>failure</td>\n",
       "      <td>-3.4</td>\n",
       "      <td>92.431</td>\n",
       "      <td>-26.9</td>\n",
       "      <td>0.722</td>\n",
       "      <td>5017.5</td>\n",
       "      <td>no</td>\n",
       "    </tr>\n",
       "    <tr>\n",
       "      <th>39322</th>\n",
       "      <td>30</td>\n",
       "      <td>technician</td>\n",
       "      <td>NaN</td>\n",
       "      <td>university.degree</td>\n",
       "      <td>no</td>\n",
       "      <td>no</td>\n",
       "      <td>no</td>\n",
       "      <td>cellular</td>\n",
       "      <td>mar</td>\n",
       "      <td>mon</td>\n",
       "      <td>...</td>\n",
       "      <td>2</td>\n",
       "      <td>11</td>\n",
       "      <td>2</td>\n",
       "      <td>success</td>\n",
       "      <td>-1.8</td>\n",
       "      <td>93.369</td>\n",
       "      <td>-34.8</td>\n",
       "      <td>0.639</td>\n",
       "      <td>5008.7</td>\n",
       "      <td>yes</td>\n",
       "    </tr>\n",
       "    <tr>\n",
       "      <th>39323</th>\n",
       "      <td>30</td>\n",
       "      <td>technician</td>\n",
       "      <td>NaN</td>\n",
       "      <td>university.degree</td>\n",
       "      <td>no</td>\n",
       "      <td>no</td>\n",
       "      <td>no</td>\n",
       "      <td>cellular</td>\n",
       "      <td>mar</td>\n",
       "      <td>mon</td>\n",
       "      <td>...</td>\n",
       "      <td>2</td>\n",
       "      <td>6</td>\n",
       "      <td>2</td>\n",
       "      <td>success</td>\n",
       "      <td>-1.8</td>\n",
       "      <td>93.369</td>\n",
       "      <td>-34.8</td>\n",
       "      <td>0.639</td>\n",
       "      <td>5008.7</td>\n",
       "      <td>yes</td>\n",
       "    </tr>\n",
       "    <tr>\n",
       "      <th>40857</th>\n",
       "      <td>30</td>\n",
       "      <td>technician</td>\n",
       "      <td>NaN</td>\n",
       "      <td>university.degree</td>\n",
       "      <td>no</td>\n",
       "      <td>no</td>\n",
       "      <td>no</td>\n",
       "      <td>cellular</td>\n",
       "      <td>oct</td>\n",
       "      <td>fri</td>\n",
       "      <td>...</td>\n",
       "      <td>2</td>\n",
       "      <td>16</td>\n",
       "      <td>1</td>\n",
       "      <td>success</td>\n",
       "      <td>-1.1</td>\n",
       "      <td>94.601</td>\n",
       "      <td>-49.5</td>\n",
       "      <td>0.942</td>\n",
       "      <td>4963.6</td>\n",
       "      <td>no</td>\n",
       "    </tr>\n",
       "  </tbody>\n",
       "</table>\n",
       "<p>80 rows × 21 columns</p>\n",
       "</div>"
      ],
      "text/plain": [
       "       age           job marital          education default housing loan  \\\n",
       "40      58    management     NaN  university.degree      no     yes   no   \n",
       "390     59       retired     NaN  university.degree     NaN      no   no   \n",
       "413     57       retired     NaN           basic.4y      no      no   no   \n",
       "1493    33      services     NaN        high.school      no     yes  yes   \n",
       "1608    32        admin.     NaN  university.degree      no      no   no   \n",
       "...    ...           ...     ...                ...     ...     ...  ...   \n",
       "38550   31  entrepreneur     NaN  university.degree      no      no   no   \n",
       "38579   31  entrepreneur     NaN  university.degree      no     yes   no   \n",
       "39322   30    technician     NaN  university.degree      no      no   no   \n",
       "39323   30    technician     NaN  university.degree      no      no   no   \n",
       "40857   30    technician     NaN  university.degree      no      no   no   \n",
       "\n",
       "         contact month day_of_week  ...  campaign  pdays  previous  \\\n",
       "40     telephone   may         mon  ...         1    999         0   \n",
       "390    telephone   may         tue  ...         1    999         0   \n",
       "413    telephone   may         tue  ...         1    999         0   \n",
       "1493   telephone   may         thu  ...         2    999         0   \n",
       "1608   telephone   may         fri  ...         4    999         0   \n",
       "...          ...   ...         ...  ...       ...    ...       ...   \n",
       "38550   cellular   oct         thu  ...         1    999         0   \n",
       "38579  telephone   oct         thu  ...         4    999         1   \n",
       "39322   cellular   mar         mon  ...         2     11         2   \n",
       "39323   cellular   mar         mon  ...         2      6         2   \n",
       "40857   cellular   oct         fri  ...         2     16         1   \n",
       "\n",
       "          poutcome emp.var.rate  cons.price.idx  cons.conf.idx  euribor3m  \\\n",
       "40     nonexistent          1.1          93.994          -36.4      4.857   \n",
       "390    nonexistent          1.1          93.994          -36.4      4.857   \n",
       "413    nonexistent          1.1          93.994          -36.4      4.857   \n",
       "1493   nonexistent          1.1          93.994          -36.4      4.855   \n",
       "1608   nonexistent          1.1          93.994          -36.4      4.855   \n",
       "...            ...          ...             ...            ...        ...   \n",
       "38550  nonexistent         -3.4          92.431          -26.9      0.722   \n",
       "38579      failure         -3.4          92.431          -26.9      0.722   \n",
       "39322      success         -1.8          93.369          -34.8      0.639   \n",
       "39323      success         -1.8          93.369          -34.8      0.639   \n",
       "40857      success         -1.1          94.601          -49.5      0.942   \n",
       "\n",
       "       nr.employed    y  \n",
       "40          5191.0   no  \n",
       "390         5191.0   no  \n",
       "413         5191.0   no  \n",
       "1493        5191.0   no  \n",
       "1608        5191.0  yes  \n",
       "...            ...  ...  \n",
       "38550       5017.5  yes  \n",
       "38579       5017.5   no  \n",
       "39322       5008.7  yes  \n",
       "39323       5008.7  yes  \n",
       "40857       4963.6   no  \n",
       "\n",
       "[80 rows x 21 columns]"
      ]
     },
     "execution_count": 278,
     "metadata": {},
     "output_type": "execute_result"
    }
   ],
   "source": [
    "bank[pd.isna(bank['marital'])] #to locate the row with an empty entry"
   ]
  },
  {
   "cell_type": "code",
   "execution_count": 279,
   "id": "46e38e54",
   "metadata": {},
   "outputs": [],
   "source": [
    "#to get the mode for the job column\n",
    "marital_mode = bank['marital'].mode()"
   ]
  },
  {
   "cell_type": "code",
   "execution_count": 280,
   "id": "aa7f7012",
   "metadata": {},
   "outputs": [
    {
     "data": {
      "text/plain": [
       "0    married\n",
       "dtype: object"
      ]
     },
     "execution_count": 280,
     "metadata": {},
     "output_type": "execute_result"
    }
   ],
   "source": [
    "marital_mode"
   ]
  },
  {
   "cell_type": "code",
   "execution_count": 281,
   "id": "f206d28f",
   "metadata": {},
   "outputs": [],
   "source": [
    "replace_marriednan= bank['marital'].replace(np.nan,\"married\",inplace=True) #fill the nan values using the mode"
   ]
  },
  {
   "cell_type": "code",
   "execution_count": 282,
   "id": "a657b16b",
   "metadata": {},
   "outputs": [
    {
     "data": {
      "text/plain": [
       "0"
      ]
     },
     "execution_count": 282,
     "metadata": {},
     "output_type": "execute_result"
    }
   ],
   "source": [
    "bank['marital'].isna().sum() #check for missing rows"
   ]
  },
  {
   "cell_type": "code",
   "execution_count": 283,
   "id": "9e1da3b6",
   "metadata": {},
   "outputs": [
    {
     "data": {
      "text/plain": [
       "array(['married', 'single', 'divorced'], dtype=object)"
      ]
     },
     "execution_count": 283,
     "metadata": {},
     "output_type": "execute_result"
    }
   ],
   "source": [
    "bank['marital'].unique() #to check for the unique rows"
   ]
  },
  {
   "cell_type": "markdown",
   "id": "fa030360",
   "metadata": {},
   "source": [
    "Analysing the pandas profile, Married people dominate the population with a percentage of 60.7%.\n",
    "Single people make up 28.1%, as against divorced with 11.2% of the population\n"
   ]
  },
  {
   "cell_type": "markdown",
   "id": "f5d43dd6",
   "metadata": {},
   "source": [
    "The empty values in the marital column were imputed with ‘married’, which is the most occurring entry in the column"
   ]
  },
  {
   "cell_type": "markdown",
   "id": "48d4db98",
   "metadata": {},
   "source": [
    "#### CLEANING THE EDUCATION COLUMN"
   ]
  },
  {
   "cell_type": "code",
   "execution_count": 284,
   "id": "6fe12518",
   "metadata": {},
   "outputs": [],
   "source": [
    "#to explore the education column\n",
    "education = bank[\"education\"]"
   ]
  },
  {
   "cell_type": "code",
   "execution_count": 285,
   "id": "fb5dea9e",
   "metadata": {},
   "outputs": [
    {
     "data": {
      "text/plain": [
       "0                   basic.4y\n",
       "1                high.school\n",
       "2                high.school\n",
       "3                   basic.6y\n",
       "4                high.school\n",
       "                ...         \n",
       "41183    professional.course\n",
       "41184    professional.course\n",
       "41185      university.degree\n",
       "41186    professional.course\n",
       "41187    professional.course\n",
       "Name: education, Length: 41188, dtype: object"
      ]
     },
     "execution_count": 285,
     "metadata": {},
     "output_type": "execute_result"
    }
   ],
   "source": [
    "education"
   ]
  },
  {
   "cell_type": "code",
   "execution_count": 286,
   "id": "c53f2880",
   "metadata": {},
   "outputs": [
    {
     "data": {
      "text/plain": [
       "array(['basic.4y', 'high.school', 'basic.6y', 'basic.9y',\n",
       "       'professional.course', nan, 'university.degree', 'illiterate'],\n",
       "      dtype=object)"
      ]
     },
     "execution_count": 286,
     "metadata": {},
     "output_type": "execute_result"
    }
   ],
   "source": [
    "education.unique() #check for the unique rows"
   ]
  },
  {
   "cell_type": "code",
   "execution_count": 287,
   "id": "386f664f",
   "metadata": {},
   "outputs": [
    {
     "data": {
      "text/plain": [
       "1731"
      ]
     },
     "execution_count": 287,
     "metadata": {},
     "output_type": "execute_result"
    }
   ],
   "source": [
    "bank['education'].isna().sum() #check for missing rows"
   ]
  },
  {
   "cell_type": "code",
   "execution_count": 288,
   "id": "57f47af5",
   "metadata": {},
   "outputs": [
    {
     "data": {
      "text/html": [
       "<div>\n",
       "<style scoped>\n",
       "    .dataframe tbody tr th:only-of-type {\n",
       "        vertical-align: middle;\n",
       "    }\n",
       "\n",
       "    .dataframe tbody tr th {\n",
       "        vertical-align: top;\n",
       "    }\n",
       "\n",
       "    .dataframe thead th {\n",
       "        text-align: right;\n",
       "    }\n",
       "</style>\n",
       "<table border=\"1\" class=\"dataframe\">\n",
       "  <thead>\n",
       "    <tr style=\"text-align: right;\">\n",
       "      <th></th>\n",
       "      <th>age</th>\n",
       "      <th>job</th>\n",
       "      <th>marital</th>\n",
       "      <th>education</th>\n",
       "      <th>default</th>\n",
       "      <th>housing</th>\n",
       "      <th>loan</th>\n",
       "      <th>contact</th>\n",
       "      <th>month</th>\n",
       "      <th>day_of_week</th>\n",
       "      <th>...</th>\n",
       "      <th>campaign</th>\n",
       "      <th>pdays</th>\n",
       "      <th>previous</th>\n",
       "      <th>poutcome</th>\n",
       "      <th>emp.var.rate</th>\n",
       "      <th>cons.price.idx</th>\n",
       "      <th>cons.conf.idx</th>\n",
       "      <th>euribor3m</th>\n",
       "      <th>nr.employed</th>\n",
       "      <th>y</th>\n",
       "    </tr>\n",
       "  </thead>\n",
       "  <tbody>\n",
       "    <tr>\n",
       "      <th>7</th>\n",
       "      <td>41</td>\n",
       "      <td>blue-collar</td>\n",
       "      <td>married</td>\n",
       "      <td>NaN</td>\n",
       "      <td>NaN</td>\n",
       "      <td>no</td>\n",
       "      <td>no</td>\n",
       "      <td>telephone</td>\n",
       "      <td>may</td>\n",
       "      <td>mon</td>\n",
       "      <td>...</td>\n",
       "      <td>1</td>\n",
       "      <td>999</td>\n",
       "      <td>0</td>\n",
       "      <td>nonexistent</td>\n",
       "      <td>1.1</td>\n",
       "      <td>93.994</td>\n",
       "      <td>-36.4</td>\n",
       "      <td>4.857</td>\n",
       "      <td>5191.0</td>\n",
       "      <td>no</td>\n",
       "    </tr>\n",
       "    <tr>\n",
       "      <th>10</th>\n",
       "      <td>41</td>\n",
       "      <td>blue-collar</td>\n",
       "      <td>married</td>\n",
       "      <td>NaN</td>\n",
       "      <td>NaN</td>\n",
       "      <td>no</td>\n",
       "      <td>no</td>\n",
       "      <td>telephone</td>\n",
       "      <td>may</td>\n",
       "      <td>mon</td>\n",
       "      <td>...</td>\n",
       "      <td>1</td>\n",
       "      <td>999</td>\n",
       "      <td>0</td>\n",
       "      <td>nonexistent</td>\n",
       "      <td>1.1</td>\n",
       "      <td>93.994</td>\n",
       "      <td>-36.4</td>\n",
       "      <td>4.857</td>\n",
       "      <td>5191.0</td>\n",
       "      <td>no</td>\n",
       "    </tr>\n",
       "    <tr>\n",
       "      <th>26</th>\n",
       "      <td>59</td>\n",
       "      <td>technician</td>\n",
       "      <td>married</td>\n",
       "      <td>NaN</td>\n",
       "      <td>no</td>\n",
       "      <td>yes</td>\n",
       "      <td>no</td>\n",
       "      <td>telephone</td>\n",
       "      <td>may</td>\n",
       "      <td>mon</td>\n",
       "      <td>...</td>\n",
       "      <td>1</td>\n",
       "      <td>999</td>\n",
       "      <td>0</td>\n",
       "      <td>nonexistent</td>\n",
       "      <td>1.1</td>\n",
       "      <td>93.994</td>\n",
       "      <td>-36.4</td>\n",
       "      <td>4.857</td>\n",
       "      <td>5191.0</td>\n",
       "      <td>no</td>\n",
       "    </tr>\n",
       "    <tr>\n",
       "      <th>30</th>\n",
       "      <td>46</td>\n",
       "      <td>admin.</td>\n",
       "      <td>married</td>\n",
       "      <td>NaN</td>\n",
       "      <td>no</td>\n",
       "      <td>no</td>\n",
       "      <td>no</td>\n",
       "      <td>telephone</td>\n",
       "      <td>may</td>\n",
       "      <td>mon</td>\n",
       "      <td>...</td>\n",
       "      <td>1</td>\n",
       "      <td>999</td>\n",
       "      <td>0</td>\n",
       "      <td>nonexistent</td>\n",
       "      <td>1.1</td>\n",
       "      <td>93.994</td>\n",
       "      <td>-36.4</td>\n",
       "      <td>4.857</td>\n",
       "      <td>5191.0</td>\n",
       "      <td>no</td>\n",
       "    </tr>\n",
       "    <tr>\n",
       "      <th>31</th>\n",
       "      <td>59</td>\n",
       "      <td>technician</td>\n",
       "      <td>married</td>\n",
       "      <td>NaN</td>\n",
       "      <td>no</td>\n",
       "      <td>yes</td>\n",
       "      <td>no</td>\n",
       "      <td>telephone</td>\n",
       "      <td>may</td>\n",
       "      <td>mon</td>\n",
       "      <td>...</td>\n",
       "      <td>1</td>\n",
       "      <td>999</td>\n",
       "      <td>0</td>\n",
       "      <td>nonexistent</td>\n",
       "      <td>1.1</td>\n",
       "      <td>93.994</td>\n",
       "      <td>-36.4</td>\n",
       "      <td>4.857</td>\n",
       "      <td>5191.0</td>\n",
       "      <td>no</td>\n",
       "    </tr>\n",
       "    <tr>\n",
       "      <th>...</th>\n",
       "      <td>...</td>\n",
       "      <td>...</td>\n",
       "      <td>...</td>\n",
       "      <td>...</td>\n",
       "      <td>...</td>\n",
       "      <td>...</td>\n",
       "      <td>...</td>\n",
       "      <td>...</td>\n",
       "      <td>...</td>\n",
       "      <td>...</td>\n",
       "      <td>...</td>\n",
       "      <td>...</td>\n",
       "      <td>...</td>\n",
       "      <td>...</td>\n",
       "      <td>...</td>\n",
       "      <td>...</td>\n",
       "      <td>...</td>\n",
       "      <td>...</td>\n",
       "      <td>...</td>\n",
       "      <td>...</td>\n",
       "      <td>...</td>\n",
       "    </tr>\n",
       "    <tr>\n",
       "      <th>41118</th>\n",
       "      <td>34</td>\n",
       "      <td>technician</td>\n",
       "      <td>married</td>\n",
       "      <td>NaN</td>\n",
       "      <td>no</td>\n",
       "      <td>yes</td>\n",
       "      <td>no</td>\n",
       "      <td>cellular</td>\n",
       "      <td>nov</td>\n",
       "      <td>tue</td>\n",
       "      <td>...</td>\n",
       "      <td>2</td>\n",
       "      <td>999</td>\n",
       "      <td>2</td>\n",
       "      <td>failure</td>\n",
       "      <td>-1.1</td>\n",
       "      <td>94.767</td>\n",
       "      <td>-50.8</td>\n",
       "      <td>1.046</td>\n",
       "      <td>4963.6</td>\n",
       "      <td>no</td>\n",
       "    </tr>\n",
       "    <tr>\n",
       "      <th>41120</th>\n",
       "      <td>60</td>\n",
       "      <td>admin.</td>\n",
       "      <td>married</td>\n",
       "      <td>NaN</td>\n",
       "      <td>no</td>\n",
       "      <td>no</td>\n",
       "      <td>no</td>\n",
       "      <td>cellular</td>\n",
       "      <td>nov</td>\n",
       "      <td>tue</td>\n",
       "      <td>...</td>\n",
       "      <td>2</td>\n",
       "      <td>999</td>\n",
       "      <td>0</td>\n",
       "      <td>nonexistent</td>\n",
       "      <td>-1.1</td>\n",
       "      <td>94.767</td>\n",
       "      <td>-50.8</td>\n",
       "      <td>1.046</td>\n",
       "      <td>4963.6</td>\n",
       "      <td>no</td>\n",
       "    </tr>\n",
       "    <tr>\n",
       "      <th>41122</th>\n",
       "      <td>34</td>\n",
       "      <td>technician</td>\n",
       "      <td>married</td>\n",
       "      <td>NaN</td>\n",
       "      <td>no</td>\n",
       "      <td>no</td>\n",
       "      <td>no</td>\n",
       "      <td>cellular</td>\n",
       "      <td>nov</td>\n",
       "      <td>tue</td>\n",
       "      <td>...</td>\n",
       "      <td>3</td>\n",
       "      <td>999</td>\n",
       "      <td>0</td>\n",
       "      <td>nonexistent</td>\n",
       "      <td>-1.1</td>\n",
       "      <td>94.767</td>\n",
       "      <td>-50.8</td>\n",
       "      <td>1.046</td>\n",
       "      <td>4963.6</td>\n",
       "      <td>yes</td>\n",
       "    </tr>\n",
       "    <tr>\n",
       "      <th>41135</th>\n",
       "      <td>54</td>\n",
       "      <td>technician</td>\n",
       "      <td>married</td>\n",
       "      <td>NaN</td>\n",
       "      <td>no</td>\n",
       "      <td>yes</td>\n",
       "      <td>no</td>\n",
       "      <td>cellular</td>\n",
       "      <td>nov</td>\n",
       "      <td>thu</td>\n",
       "      <td>...</td>\n",
       "      <td>1</td>\n",
       "      <td>999</td>\n",
       "      <td>1</td>\n",
       "      <td>failure</td>\n",
       "      <td>-1.1</td>\n",
       "      <td>94.767</td>\n",
       "      <td>-50.8</td>\n",
       "      <td>1.041</td>\n",
       "      <td>4963.6</td>\n",
       "      <td>no</td>\n",
       "    </tr>\n",
       "    <tr>\n",
       "      <th>41175</th>\n",
       "      <td>34</td>\n",
       "      <td>student</td>\n",
       "      <td>single</td>\n",
       "      <td>NaN</td>\n",
       "      <td>no</td>\n",
       "      <td>yes</td>\n",
       "      <td>no</td>\n",
       "      <td>cellular</td>\n",
       "      <td>nov</td>\n",
       "      <td>thu</td>\n",
       "      <td>...</td>\n",
       "      <td>1</td>\n",
       "      <td>999</td>\n",
       "      <td>2</td>\n",
       "      <td>failure</td>\n",
       "      <td>-1.1</td>\n",
       "      <td>94.767</td>\n",
       "      <td>-50.8</td>\n",
       "      <td>1.031</td>\n",
       "      <td>4963.6</td>\n",
       "      <td>no</td>\n",
       "    </tr>\n",
       "  </tbody>\n",
       "</table>\n",
       "<p>1731 rows × 21 columns</p>\n",
       "</div>"
      ],
      "text/plain": [
       "       age          job  marital education default housing loan    contact  \\\n",
       "7       41  blue-collar  married       NaN     NaN      no   no  telephone   \n",
       "10      41  blue-collar  married       NaN     NaN      no   no  telephone   \n",
       "26      59   technician  married       NaN      no     yes   no  telephone   \n",
       "30      46       admin.  married       NaN      no      no   no  telephone   \n",
       "31      59   technician  married       NaN      no     yes   no  telephone   \n",
       "...    ...          ...      ...       ...     ...     ...  ...        ...   \n",
       "41118   34   technician  married       NaN      no     yes   no   cellular   \n",
       "41120   60       admin.  married       NaN      no      no   no   cellular   \n",
       "41122   34   technician  married       NaN      no      no   no   cellular   \n",
       "41135   54   technician  married       NaN      no     yes   no   cellular   \n",
       "41175   34      student   single       NaN      no     yes   no   cellular   \n",
       "\n",
       "      month day_of_week  ...  campaign  pdays  previous     poutcome  \\\n",
       "7       may         mon  ...         1    999         0  nonexistent   \n",
       "10      may         mon  ...         1    999         0  nonexistent   \n",
       "26      may         mon  ...         1    999         0  nonexistent   \n",
       "30      may         mon  ...         1    999         0  nonexistent   \n",
       "31      may         mon  ...         1    999         0  nonexistent   \n",
       "...     ...         ...  ...       ...    ...       ...          ...   \n",
       "41118   nov         tue  ...         2    999         2      failure   \n",
       "41120   nov         tue  ...         2    999         0  nonexistent   \n",
       "41122   nov         tue  ...         3    999         0  nonexistent   \n",
       "41135   nov         thu  ...         1    999         1      failure   \n",
       "41175   nov         thu  ...         1    999         2      failure   \n",
       "\n",
       "      emp.var.rate  cons.price.idx  cons.conf.idx  euribor3m  nr.employed    y  \n",
       "7              1.1          93.994          -36.4      4.857       5191.0   no  \n",
       "10             1.1          93.994          -36.4      4.857       5191.0   no  \n",
       "26             1.1          93.994          -36.4      4.857       5191.0   no  \n",
       "30             1.1          93.994          -36.4      4.857       5191.0   no  \n",
       "31             1.1          93.994          -36.4      4.857       5191.0   no  \n",
       "...            ...             ...            ...        ...          ...  ...  \n",
       "41118         -1.1          94.767          -50.8      1.046       4963.6   no  \n",
       "41120         -1.1          94.767          -50.8      1.046       4963.6   no  \n",
       "41122         -1.1          94.767          -50.8      1.046       4963.6  yes  \n",
       "41135         -1.1          94.767          -50.8      1.041       4963.6   no  \n",
       "41175         -1.1          94.767          -50.8      1.031       4963.6   no  \n",
       "\n",
       "[1731 rows x 21 columns]"
      ]
     },
     "execution_count": 288,
     "metadata": {},
     "output_type": "execute_result"
    }
   ],
   "source": [
    "bank[pd.isna(bank['education'])] #to locate the row with an empty entry"
   ]
  },
  {
   "cell_type": "code",
   "execution_count": 289,
   "id": "ed75c3d9",
   "metadata": {},
   "outputs": [],
   "source": [
    "#to get the mode for the job column\n",
    "education_mode = bank['education'].mode()"
   ]
  },
  {
   "cell_type": "code",
   "execution_count": 290,
   "id": "b75c56df",
   "metadata": {},
   "outputs": [
    {
     "data": {
      "text/plain": [
       "0    university.degree\n",
       "dtype: object"
      ]
     },
     "execution_count": 290,
     "metadata": {},
     "output_type": "execute_result"
    }
   ],
   "source": [
    "education_mode"
   ]
  },
  {
   "cell_type": "code",
   "execution_count": 291,
   "id": "e2bac406",
   "metadata": {},
   "outputs": [],
   "source": [
    "replace_educationnan= bank['education'].replace(np.nan,\"university.degree\",inplace=True) #fill the nan values using the mode"
   ]
  },
  {
   "cell_type": "code",
   "execution_count": 292,
   "id": "c0e1a789",
   "metadata": {},
   "outputs": [
    {
     "data": {
      "text/plain": [
       "0"
      ]
     },
     "execution_count": 292,
     "metadata": {},
     "output_type": "execute_result"
    }
   ],
   "source": [
    "bank['marital'].isna().sum() #check for missing rows"
   ]
  },
  {
   "cell_type": "code",
   "execution_count": 293,
   "id": "15fbbb2b",
   "metadata": {},
   "outputs": [
    {
     "data": {
      "text/plain": [
       "array(['basic.4y', 'high.school', 'basic.6y', 'basic.9y',\n",
       "       'professional.course', 'university.degree', 'illiterate'],\n",
       "      dtype=object)"
      ]
     },
     "execution_count": 293,
     "metadata": {},
     "output_type": "execute_result"
    }
   ],
   "source": [
    "bank['education'].unique() #to check for the unique rows"
   ]
  },
  {
   "cell_type": "markdown",
   "id": "3d33b732",
   "metadata": {},
   "source": [
    "The missing values in the Education column were filled by using the imputation technique. The mode was applied, which is the most frequently occurring entry. In this case, the ‘university. degree’ was the most frequently occurring entry."
   ]
  },
  {
   "cell_type": "markdown",
   "id": "014dd532",
   "metadata": {},
   "source": [
    "#### CLEANING THE DEFAULT COLUMN"
   ]
  },
  {
   "cell_type": "code",
   "execution_count": 294,
   "id": "0a20380b",
   "metadata": {},
   "outputs": [],
   "source": [
    "#to explore the default column\n",
    "default= bank[\"default\"]"
   ]
  },
  {
   "cell_type": "code",
   "execution_count": 295,
   "id": "4a6cd818",
   "metadata": {},
   "outputs": [
    {
     "data": {
      "text/plain": [
       "0         no\n",
       "1        NaN\n",
       "2         no\n",
       "3         no\n",
       "4         no\n",
       "        ... \n",
       "41183     no\n",
       "41184     no\n",
       "41185     no\n",
       "41186     no\n",
       "41187     no\n",
       "Name: default, Length: 41188, dtype: object"
      ]
     },
     "execution_count": 295,
     "metadata": {},
     "output_type": "execute_result"
    }
   ],
   "source": [
    "default"
   ]
  },
  {
   "cell_type": "code",
   "execution_count": 296,
   "id": "4df56357",
   "metadata": {},
   "outputs": [
    {
     "data": {
      "text/plain": [
       "array(['no', nan, 'yes'], dtype=object)"
      ]
     },
     "execution_count": 296,
     "metadata": {},
     "output_type": "execute_result"
    }
   ],
   "source": [
    "default.unique() #check for the unique rows"
   ]
  },
  {
   "cell_type": "code",
   "execution_count": 297,
   "id": "a3b9cc23",
   "metadata": {},
   "outputs": [
    {
     "data": {
      "text/plain": [
       "8597"
      ]
     },
     "execution_count": 297,
     "metadata": {},
     "output_type": "execute_result"
    }
   ],
   "source": [
    "bank['default'].isna().sum() #check for missing rows"
   ]
  },
  {
   "cell_type": "code",
   "execution_count": 298,
   "id": "5c0eead9",
   "metadata": {},
   "outputs": [
    {
     "data": {
      "text/html": [
       "<div>\n",
       "<style scoped>\n",
       "    .dataframe tbody tr th:only-of-type {\n",
       "        vertical-align: middle;\n",
       "    }\n",
       "\n",
       "    .dataframe tbody tr th {\n",
       "        vertical-align: top;\n",
       "    }\n",
       "\n",
       "    .dataframe thead th {\n",
       "        text-align: right;\n",
       "    }\n",
       "</style>\n",
       "<table border=\"1\" class=\"dataframe\">\n",
       "  <thead>\n",
       "    <tr style=\"text-align: right;\">\n",
       "      <th></th>\n",
       "      <th>age</th>\n",
       "      <th>job</th>\n",
       "      <th>marital</th>\n",
       "      <th>education</th>\n",
       "      <th>default</th>\n",
       "      <th>housing</th>\n",
       "      <th>loan</th>\n",
       "      <th>contact</th>\n",
       "      <th>month</th>\n",
       "      <th>day_of_week</th>\n",
       "      <th>...</th>\n",
       "      <th>campaign</th>\n",
       "      <th>pdays</th>\n",
       "      <th>previous</th>\n",
       "      <th>poutcome</th>\n",
       "      <th>emp.var.rate</th>\n",
       "      <th>cons.price.idx</th>\n",
       "      <th>cons.conf.idx</th>\n",
       "      <th>euribor3m</th>\n",
       "      <th>nr.employed</th>\n",
       "      <th>y</th>\n",
       "    </tr>\n",
       "  </thead>\n",
       "  <tbody>\n",
       "    <tr>\n",
       "      <th>1</th>\n",
       "      <td>57</td>\n",
       "      <td>services</td>\n",
       "      <td>married</td>\n",
       "      <td>high.school</td>\n",
       "      <td>NaN</td>\n",
       "      <td>no</td>\n",
       "      <td>no</td>\n",
       "      <td>telephone</td>\n",
       "      <td>may</td>\n",
       "      <td>mon</td>\n",
       "      <td>...</td>\n",
       "      <td>1</td>\n",
       "      <td>999</td>\n",
       "      <td>0</td>\n",
       "      <td>nonexistent</td>\n",
       "      <td>1.1</td>\n",
       "      <td>93.994</td>\n",
       "      <td>-36.4</td>\n",
       "      <td>4.857</td>\n",
       "      <td>5191.0</td>\n",
       "      <td>no</td>\n",
       "    </tr>\n",
       "    <tr>\n",
       "      <th>5</th>\n",
       "      <td>45</td>\n",
       "      <td>services</td>\n",
       "      <td>married</td>\n",
       "      <td>basic.9y</td>\n",
       "      <td>NaN</td>\n",
       "      <td>no</td>\n",
       "      <td>no</td>\n",
       "      <td>telephone</td>\n",
       "      <td>may</td>\n",
       "      <td>mon</td>\n",
       "      <td>...</td>\n",
       "      <td>1</td>\n",
       "      <td>999</td>\n",
       "      <td>0</td>\n",
       "      <td>nonexistent</td>\n",
       "      <td>1.1</td>\n",
       "      <td>93.994</td>\n",
       "      <td>-36.4</td>\n",
       "      <td>4.857</td>\n",
       "      <td>5191.0</td>\n",
       "      <td>no</td>\n",
       "    </tr>\n",
       "    <tr>\n",
       "      <th>7</th>\n",
       "      <td>41</td>\n",
       "      <td>blue-collar</td>\n",
       "      <td>married</td>\n",
       "      <td>university.degree</td>\n",
       "      <td>NaN</td>\n",
       "      <td>no</td>\n",
       "      <td>no</td>\n",
       "      <td>telephone</td>\n",
       "      <td>may</td>\n",
       "      <td>mon</td>\n",
       "      <td>...</td>\n",
       "      <td>1</td>\n",
       "      <td>999</td>\n",
       "      <td>0</td>\n",
       "      <td>nonexistent</td>\n",
       "      <td>1.1</td>\n",
       "      <td>93.994</td>\n",
       "      <td>-36.4</td>\n",
       "      <td>4.857</td>\n",
       "      <td>5191.0</td>\n",
       "      <td>no</td>\n",
       "    </tr>\n",
       "    <tr>\n",
       "      <th>10</th>\n",
       "      <td>41</td>\n",
       "      <td>blue-collar</td>\n",
       "      <td>married</td>\n",
       "      <td>university.degree</td>\n",
       "      <td>NaN</td>\n",
       "      <td>no</td>\n",
       "      <td>no</td>\n",
       "      <td>telephone</td>\n",
       "      <td>may</td>\n",
       "      <td>mon</td>\n",
       "      <td>...</td>\n",
       "      <td>1</td>\n",
       "      <td>999</td>\n",
       "      <td>0</td>\n",
       "      <td>nonexistent</td>\n",
       "      <td>1.1</td>\n",
       "      <td>93.994</td>\n",
       "      <td>-36.4</td>\n",
       "      <td>4.857</td>\n",
       "      <td>5191.0</td>\n",
       "      <td>no</td>\n",
       "    </tr>\n",
       "    <tr>\n",
       "      <th>15</th>\n",
       "      <td>54</td>\n",
       "      <td>retired</td>\n",
       "      <td>married</td>\n",
       "      <td>basic.9y</td>\n",
       "      <td>NaN</td>\n",
       "      <td>yes</td>\n",
       "      <td>yes</td>\n",
       "      <td>telephone</td>\n",
       "      <td>may</td>\n",
       "      <td>mon</td>\n",
       "      <td>...</td>\n",
       "      <td>1</td>\n",
       "      <td>999</td>\n",
       "      <td>0</td>\n",
       "      <td>nonexistent</td>\n",
       "      <td>1.1</td>\n",
       "      <td>93.994</td>\n",
       "      <td>-36.4</td>\n",
       "      <td>4.857</td>\n",
       "      <td>5191.0</td>\n",
       "      <td>no</td>\n",
       "    </tr>\n",
       "    <tr>\n",
       "      <th>...</th>\n",
       "      <td>...</td>\n",
       "      <td>...</td>\n",
       "      <td>...</td>\n",
       "      <td>...</td>\n",
       "      <td>...</td>\n",
       "      <td>...</td>\n",
       "      <td>...</td>\n",
       "      <td>...</td>\n",
       "      <td>...</td>\n",
       "      <td>...</td>\n",
       "      <td>...</td>\n",
       "      <td>...</td>\n",
       "      <td>...</td>\n",
       "      <td>...</td>\n",
       "      <td>...</td>\n",
       "      <td>...</td>\n",
       "      <td>...</td>\n",
       "      <td>...</td>\n",
       "      <td>...</td>\n",
       "      <td>...</td>\n",
       "      <td>...</td>\n",
       "    </tr>\n",
       "    <tr>\n",
       "      <th>40886</th>\n",
       "      <td>70</td>\n",
       "      <td>retired</td>\n",
       "      <td>married</td>\n",
       "      <td>basic.4y</td>\n",
       "      <td>NaN</td>\n",
       "      <td>no</td>\n",
       "      <td>no</td>\n",
       "      <td>cellular</td>\n",
       "      <td>oct</td>\n",
       "      <td>thu</td>\n",
       "      <td>...</td>\n",
       "      <td>1</td>\n",
       "      <td>14</td>\n",
       "      <td>3</td>\n",
       "      <td>failure</td>\n",
       "      <td>-1.1</td>\n",
       "      <td>94.601</td>\n",
       "      <td>-49.5</td>\n",
       "      <td>0.965</td>\n",
       "      <td>4963.6</td>\n",
       "      <td>no</td>\n",
       "    </tr>\n",
       "    <tr>\n",
       "      <th>40940</th>\n",
       "      <td>49</td>\n",
       "      <td>admin.</td>\n",
       "      <td>married</td>\n",
       "      <td>high.school</td>\n",
       "      <td>NaN</td>\n",
       "      <td>no</td>\n",
       "      <td>no</td>\n",
       "      <td>cellular</td>\n",
       "      <td>oct</td>\n",
       "      <td>wed</td>\n",
       "      <td>...</td>\n",
       "      <td>1</td>\n",
       "      <td>6</td>\n",
       "      <td>3</td>\n",
       "      <td>success</td>\n",
       "      <td>-1.1</td>\n",
       "      <td>94.601</td>\n",
       "      <td>-49.5</td>\n",
       "      <td>0.985</td>\n",
       "      <td>4963.6</td>\n",
       "      <td>yes</td>\n",
       "    </tr>\n",
       "    <tr>\n",
       "      <th>40941</th>\n",
       "      <td>66</td>\n",
       "      <td>retired</td>\n",
       "      <td>married</td>\n",
       "      <td>basic.4y</td>\n",
       "      <td>NaN</td>\n",
       "      <td>NaN</td>\n",
       "      <td>NaN</td>\n",
       "      <td>cellular</td>\n",
       "      <td>oct</td>\n",
       "      <td>wed</td>\n",
       "      <td>...</td>\n",
       "      <td>1</td>\n",
       "      <td>6</td>\n",
       "      <td>3</td>\n",
       "      <td>success</td>\n",
       "      <td>-1.1</td>\n",
       "      <td>94.601</td>\n",
       "      <td>-49.5</td>\n",
       "      <td>0.985</td>\n",
       "      <td>4963.6</td>\n",
       "      <td>yes</td>\n",
       "    </tr>\n",
       "    <tr>\n",
       "      <th>40969</th>\n",
       "      <td>84</td>\n",
       "      <td>retired</td>\n",
       "      <td>divorced</td>\n",
       "      <td>basic.4y</td>\n",
       "      <td>NaN</td>\n",
       "      <td>yes</td>\n",
       "      <td>no</td>\n",
       "      <td>cellular</td>\n",
       "      <td>oct</td>\n",
       "      <td>fri</td>\n",
       "      <td>...</td>\n",
       "      <td>4</td>\n",
       "      <td>999</td>\n",
       "      <td>0</td>\n",
       "      <td>nonexistent</td>\n",
       "      <td>-1.1</td>\n",
       "      <td>94.601</td>\n",
       "      <td>-49.5</td>\n",
       "      <td>0.993</td>\n",
       "      <td>4963.6</td>\n",
       "      <td>no</td>\n",
       "    </tr>\n",
       "    <tr>\n",
       "      <th>40986</th>\n",
       "      <td>84</td>\n",
       "      <td>retired</td>\n",
       "      <td>divorced</td>\n",
       "      <td>basic.4y</td>\n",
       "      <td>NaN</td>\n",
       "      <td>yes</td>\n",
       "      <td>yes</td>\n",
       "      <td>cellular</td>\n",
       "      <td>oct</td>\n",
       "      <td>mon</td>\n",
       "      <td>...</td>\n",
       "      <td>4</td>\n",
       "      <td>3</td>\n",
       "      <td>1</td>\n",
       "      <td>success</td>\n",
       "      <td>-1.1</td>\n",
       "      <td>94.601</td>\n",
       "      <td>-49.5</td>\n",
       "      <td>1.000</td>\n",
       "      <td>4963.6</td>\n",
       "      <td>no</td>\n",
       "    </tr>\n",
       "  </tbody>\n",
       "</table>\n",
       "<p>8597 rows × 21 columns</p>\n",
       "</div>"
      ],
      "text/plain": [
       "       age          job   marital          education default housing loan  \\\n",
       "1       57     services   married        high.school     NaN      no   no   \n",
       "5       45     services   married           basic.9y     NaN      no   no   \n",
       "7       41  blue-collar   married  university.degree     NaN      no   no   \n",
       "10      41  blue-collar   married  university.degree     NaN      no   no   \n",
       "15      54      retired   married           basic.9y     NaN     yes  yes   \n",
       "...    ...          ...       ...                ...     ...     ...  ...   \n",
       "40886   70      retired   married           basic.4y     NaN      no   no   \n",
       "40940   49       admin.   married        high.school     NaN      no   no   \n",
       "40941   66      retired   married           basic.4y     NaN     NaN  NaN   \n",
       "40969   84      retired  divorced           basic.4y     NaN     yes   no   \n",
       "40986   84      retired  divorced           basic.4y     NaN     yes  yes   \n",
       "\n",
       "         contact month day_of_week  ...  campaign  pdays  previous  \\\n",
       "1      telephone   may         mon  ...         1    999         0   \n",
       "5      telephone   may         mon  ...         1    999         0   \n",
       "7      telephone   may         mon  ...         1    999         0   \n",
       "10     telephone   may         mon  ...         1    999         0   \n",
       "15     telephone   may         mon  ...         1    999         0   \n",
       "...          ...   ...         ...  ...       ...    ...       ...   \n",
       "40886   cellular   oct         thu  ...         1     14         3   \n",
       "40940   cellular   oct         wed  ...         1      6         3   \n",
       "40941   cellular   oct         wed  ...         1      6         3   \n",
       "40969   cellular   oct         fri  ...         4    999         0   \n",
       "40986   cellular   oct         mon  ...         4      3         1   \n",
       "\n",
       "          poutcome emp.var.rate  cons.price.idx  cons.conf.idx  euribor3m  \\\n",
       "1      nonexistent          1.1          93.994          -36.4      4.857   \n",
       "5      nonexistent          1.1          93.994          -36.4      4.857   \n",
       "7      nonexistent          1.1          93.994          -36.4      4.857   \n",
       "10     nonexistent          1.1          93.994          -36.4      4.857   \n",
       "15     nonexistent          1.1          93.994          -36.4      4.857   \n",
       "...            ...          ...             ...            ...        ...   \n",
       "40886      failure         -1.1          94.601          -49.5      0.965   \n",
       "40940      success         -1.1          94.601          -49.5      0.985   \n",
       "40941      success         -1.1          94.601          -49.5      0.985   \n",
       "40969  nonexistent         -1.1          94.601          -49.5      0.993   \n",
       "40986      success         -1.1          94.601          -49.5      1.000   \n",
       "\n",
       "       nr.employed    y  \n",
       "1           5191.0   no  \n",
       "5           5191.0   no  \n",
       "7           5191.0   no  \n",
       "10          5191.0   no  \n",
       "15          5191.0   no  \n",
       "...            ...  ...  \n",
       "40886       4963.6   no  \n",
       "40940       4963.6  yes  \n",
       "40941       4963.6  yes  \n",
       "40969       4963.6   no  \n",
       "40986       4963.6   no  \n",
       "\n",
       "[8597 rows x 21 columns]"
      ]
     },
     "execution_count": 298,
     "metadata": {},
     "output_type": "execute_result"
    }
   ],
   "source": [
    "bank[pd.isna(bank['default'])] #to locate the row with an empty entry"
   ]
  },
  {
   "cell_type": "code",
   "execution_count": 299,
   "id": "674b2c65",
   "metadata": {},
   "outputs": [],
   "source": [
    "replace_defaultnan = bank['default'].replace(np.nan,\"unknown\",inplace=True) #replacing the nan values"
   ]
  },
  {
   "cell_type": "code",
   "execution_count": 300,
   "id": "d7d9d240",
   "metadata": {},
   "outputs": [
    {
     "data": {
      "text/plain": [
       "0"
      ]
     },
     "execution_count": 300,
     "metadata": {},
     "output_type": "execute_result"
    }
   ],
   "source": [
    "default.isna().sum()"
   ]
  },
  {
   "cell_type": "code",
   "execution_count": 301,
   "id": "4dc0ea6e",
   "metadata": {},
   "outputs": [
    {
     "data": {
      "text/plain": [
       "array(['no', 'unknown', 'yes'], dtype=object)"
      ]
     },
     "execution_count": 301,
     "metadata": {},
     "output_type": "execute_result"
    }
   ],
   "source": [
    "default.unique()"
   ]
  },
  {
   "cell_type": "markdown",
   "id": "4c81d141",
   "metadata": {},
   "source": [
    "The missing values in the default column were treated as a class label and were replaced with the class name ‘unknown’."
   ]
  },
  {
   "cell_type": "markdown",
   "id": "7b8fe033",
   "metadata": {},
   "source": [
    "#### CLEANING THE HOUSING COLUMN"
   ]
  },
  {
   "cell_type": "code",
   "execution_count": 302,
   "id": "1ffab93b",
   "metadata": {},
   "outputs": [],
   "source": [
    "#to explore the housing column\n",
    "housing= bank[\"housing\"]"
   ]
  },
  {
   "cell_type": "code",
   "execution_count": 303,
   "id": "a0586714",
   "metadata": {},
   "outputs": [
    {
     "data": {
      "text/plain": [
       "0         no\n",
       "1         no\n",
       "2        yes\n",
       "3         no\n",
       "4         no\n",
       "        ... \n",
       "41183    yes\n",
       "41184     no\n",
       "41185    yes\n",
       "41186     no\n",
       "41187    yes\n",
       "Name: housing, Length: 41188, dtype: object"
      ]
     },
     "execution_count": 303,
     "metadata": {},
     "output_type": "execute_result"
    }
   ],
   "source": [
    "housing"
   ]
  },
  {
   "cell_type": "code",
   "execution_count": 304,
   "id": "346d4246",
   "metadata": {},
   "outputs": [
    {
     "data": {
      "text/plain": [
       "array(['no', 'yes', nan], dtype=object)"
      ]
     },
     "execution_count": 304,
     "metadata": {},
     "output_type": "execute_result"
    }
   ],
   "source": [
    "housing.unique() #check for the unique rows"
   ]
  },
  {
   "cell_type": "code",
   "execution_count": 305,
   "id": "3756cea2",
   "metadata": {},
   "outputs": [
    {
     "data": {
      "text/plain": [
       "990"
      ]
     },
     "execution_count": 305,
     "metadata": {},
     "output_type": "execute_result"
    }
   ],
   "source": [
    "bank['housing'].isna().sum() #check for missing rows"
   ]
  },
  {
   "cell_type": "code",
   "execution_count": 306,
   "id": "15871706",
   "metadata": {
    "scrolled": true
   },
   "outputs": [
    {
     "data": {
      "text/html": [
       "<div>\n",
       "<style scoped>\n",
       "    .dataframe tbody tr th:only-of-type {\n",
       "        vertical-align: middle;\n",
       "    }\n",
       "\n",
       "    .dataframe tbody tr th {\n",
       "        vertical-align: top;\n",
       "    }\n",
       "\n",
       "    .dataframe thead th {\n",
       "        text-align: right;\n",
       "    }\n",
       "</style>\n",
       "<table border=\"1\" class=\"dataframe\">\n",
       "  <thead>\n",
       "    <tr style=\"text-align: right;\">\n",
       "      <th></th>\n",
       "      <th>age</th>\n",
       "      <th>job</th>\n",
       "      <th>marital</th>\n",
       "      <th>education</th>\n",
       "      <th>default</th>\n",
       "      <th>housing</th>\n",
       "      <th>loan</th>\n",
       "      <th>contact</th>\n",
       "      <th>month</th>\n",
       "      <th>day_of_week</th>\n",
       "      <th>...</th>\n",
       "      <th>campaign</th>\n",
       "      <th>pdays</th>\n",
       "      <th>previous</th>\n",
       "      <th>poutcome</th>\n",
       "      <th>emp.var.rate</th>\n",
       "      <th>cons.price.idx</th>\n",
       "      <th>cons.conf.idx</th>\n",
       "      <th>euribor3m</th>\n",
       "      <th>nr.employed</th>\n",
       "      <th>y</th>\n",
       "    </tr>\n",
       "  </thead>\n",
       "  <tbody>\n",
       "    <tr>\n",
       "      <th>29</th>\n",
       "      <td>55</td>\n",
       "      <td>admin.</td>\n",
       "      <td>married</td>\n",
       "      <td>university.degree</td>\n",
       "      <td>unknown</td>\n",
       "      <td>NaN</td>\n",
       "      <td>NaN</td>\n",
       "      <td>telephone</td>\n",
       "      <td>may</td>\n",
       "      <td>mon</td>\n",
       "      <td>...</td>\n",
       "      <td>1</td>\n",
       "      <td>999</td>\n",
       "      <td>0</td>\n",
       "      <td>nonexistent</td>\n",
       "      <td>1.1</td>\n",
       "      <td>93.994</td>\n",
       "      <td>-36.4</td>\n",
       "      <td>4.857</td>\n",
       "      <td>5191.0</td>\n",
       "      <td>no</td>\n",
       "    </tr>\n",
       "    <tr>\n",
       "      <th>81</th>\n",
       "      <td>51</td>\n",
       "      <td>blue-collar</td>\n",
       "      <td>married</td>\n",
       "      <td>basic.4y</td>\n",
       "      <td>unknown</td>\n",
       "      <td>NaN</td>\n",
       "      <td>NaN</td>\n",
       "      <td>telephone</td>\n",
       "      <td>may</td>\n",
       "      <td>mon</td>\n",
       "      <td>...</td>\n",
       "      <td>1</td>\n",
       "      <td>999</td>\n",
       "      <td>0</td>\n",
       "      <td>nonexistent</td>\n",
       "      <td>1.1</td>\n",
       "      <td>93.994</td>\n",
       "      <td>-36.4</td>\n",
       "      <td>4.857</td>\n",
       "      <td>5191.0</td>\n",
       "      <td>no</td>\n",
       "    </tr>\n",
       "    <tr>\n",
       "      <th>261</th>\n",
       "      <td>27</td>\n",
       "      <td>blue-collar</td>\n",
       "      <td>single</td>\n",
       "      <td>basic.6y</td>\n",
       "      <td>no</td>\n",
       "      <td>NaN</td>\n",
       "      <td>NaN</td>\n",
       "      <td>telephone</td>\n",
       "      <td>may</td>\n",
       "      <td>mon</td>\n",
       "      <td>...</td>\n",
       "      <td>1</td>\n",
       "      <td>999</td>\n",
       "      <td>0</td>\n",
       "      <td>nonexistent</td>\n",
       "      <td>1.1</td>\n",
       "      <td>93.994</td>\n",
       "      <td>-36.4</td>\n",
       "      <td>4.857</td>\n",
       "      <td>5191.0</td>\n",
       "      <td>no</td>\n",
       "    </tr>\n",
       "    <tr>\n",
       "      <th>385</th>\n",
       "      <td>59</td>\n",
       "      <td>management</td>\n",
       "      <td>married</td>\n",
       "      <td>basic.4y</td>\n",
       "      <td>unknown</td>\n",
       "      <td>NaN</td>\n",
       "      <td>NaN</td>\n",
       "      <td>telephone</td>\n",
       "      <td>may</td>\n",
       "      <td>tue</td>\n",
       "      <td>...</td>\n",
       "      <td>1</td>\n",
       "      <td>999</td>\n",
       "      <td>0</td>\n",
       "      <td>nonexistent</td>\n",
       "      <td>1.1</td>\n",
       "      <td>93.994</td>\n",
       "      <td>-36.4</td>\n",
       "      <td>4.857</td>\n",
       "      <td>5191.0</td>\n",
       "      <td>no</td>\n",
       "    </tr>\n",
       "    <tr>\n",
       "      <th>401</th>\n",
       "      <td>48</td>\n",
       "      <td>services</td>\n",
       "      <td>married</td>\n",
       "      <td>high.school</td>\n",
       "      <td>unknown</td>\n",
       "      <td>NaN</td>\n",
       "      <td>NaN</td>\n",
       "      <td>telephone</td>\n",
       "      <td>may</td>\n",
       "      <td>tue</td>\n",
       "      <td>...</td>\n",
       "      <td>1</td>\n",
       "      <td>999</td>\n",
       "      <td>0</td>\n",
       "      <td>nonexistent</td>\n",
       "      <td>1.1</td>\n",
       "      <td>93.994</td>\n",
       "      <td>-36.4</td>\n",
       "      <td>4.857</td>\n",
       "      <td>5191.0</td>\n",
       "      <td>no</td>\n",
       "    </tr>\n",
       "    <tr>\n",
       "      <th>...</th>\n",
       "      <td>...</td>\n",
       "      <td>...</td>\n",
       "      <td>...</td>\n",
       "      <td>...</td>\n",
       "      <td>...</td>\n",
       "      <td>...</td>\n",
       "      <td>...</td>\n",
       "      <td>...</td>\n",
       "      <td>...</td>\n",
       "      <td>...</td>\n",
       "      <td>...</td>\n",
       "      <td>...</td>\n",
       "      <td>...</td>\n",
       "      <td>...</td>\n",
       "      <td>...</td>\n",
       "      <td>...</td>\n",
       "      <td>...</td>\n",
       "      <td>...</td>\n",
       "      <td>...</td>\n",
       "      <td>...</td>\n",
       "      <td>...</td>\n",
       "    </tr>\n",
       "    <tr>\n",
       "      <th>40990</th>\n",
       "      <td>31</td>\n",
       "      <td>admin.</td>\n",
       "      <td>single</td>\n",
       "      <td>university.degree</td>\n",
       "      <td>no</td>\n",
       "      <td>NaN</td>\n",
       "      <td>NaN</td>\n",
       "      <td>cellular</td>\n",
       "      <td>oct</td>\n",
       "      <td>tue</td>\n",
       "      <td>...</td>\n",
       "      <td>1</td>\n",
       "      <td>3</td>\n",
       "      <td>1</td>\n",
       "      <td>success</td>\n",
       "      <td>-1.1</td>\n",
       "      <td>94.601</td>\n",
       "      <td>-49.5</td>\n",
       "      <td>1.008</td>\n",
       "      <td>4963.6</td>\n",
       "      <td>yes</td>\n",
       "    </tr>\n",
       "    <tr>\n",
       "      <th>41014</th>\n",
       "      <td>31</td>\n",
       "      <td>technician</td>\n",
       "      <td>single</td>\n",
       "      <td>professional.course</td>\n",
       "      <td>no</td>\n",
       "      <td>NaN</td>\n",
       "      <td>NaN</td>\n",
       "      <td>cellular</td>\n",
       "      <td>oct</td>\n",
       "      <td>thu</td>\n",
       "      <td>...</td>\n",
       "      <td>2</td>\n",
       "      <td>999</td>\n",
       "      <td>0</td>\n",
       "      <td>nonexistent</td>\n",
       "      <td>-1.1</td>\n",
       "      <td>94.601</td>\n",
       "      <td>-49.5</td>\n",
       "      <td>1.025</td>\n",
       "      <td>4963.6</td>\n",
       "      <td>yes</td>\n",
       "    </tr>\n",
       "    <tr>\n",
       "      <th>41015</th>\n",
       "      <td>34</td>\n",
       "      <td>admin.</td>\n",
       "      <td>divorced</td>\n",
       "      <td>university.degree</td>\n",
       "      <td>no</td>\n",
       "      <td>NaN</td>\n",
       "      <td>NaN</td>\n",
       "      <td>cellular</td>\n",
       "      <td>oct</td>\n",
       "      <td>thu</td>\n",
       "      <td>...</td>\n",
       "      <td>2</td>\n",
       "      <td>999</td>\n",
       "      <td>1</td>\n",
       "      <td>failure</td>\n",
       "      <td>-1.1</td>\n",
       "      <td>94.601</td>\n",
       "      <td>-49.5</td>\n",
       "      <td>1.025</td>\n",
       "      <td>4963.6</td>\n",
       "      <td>no</td>\n",
       "    </tr>\n",
       "    <tr>\n",
       "      <th>41029</th>\n",
       "      <td>46</td>\n",
       "      <td>management</td>\n",
       "      <td>married</td>\n",
       "      <td>university.degree</td>\n",
       "      <td>no</td>\n",
       "      <td>NaN</td>\n",
       "      <td>NaN</td>\n",
       "      <td>cellular</td>\n",
       "      <td>oct</td>\n",
       "      <td>mon</td>\n",
       "      <td>...</td>\n",
       "      <td>2</td>\n",
       "      <td>12</td>\n",
       "      <td>2</td>\n",
       "      <td>failure</td>\n",
       "      <td>-1.1</td>\n",
       "      <td>94.601</td>\n",
       "      <td>-49.5</td>\n",
       "      <td>1.032</td>\n",
       "      <td>4963.6</td>\n",
       "      <td>no</td>\n",
       "    </tr>\n",
       "    <tr>\n",
       "      <th>41115</th>\n",
       "      <td>42</td>\n",
       "      <td>services</td>\n",
       "      <td>divorced</td>\n",
       "      <td>university.degree</td>\n",
       "      <td>no</td>\n",
       "      <td>NaN</td>\n",
       "      <td>NaN</td>\n",
       "      <td>cellular</td>\n",
       "      <td>nov</td>\n",
       "      <td>tue</td>\n",
       "      <td>...</td>\n",
       "      <td>1</td>\n",
       "      <td>999</td>\n",
       "      <td>1</td>\n",
       "      <td>failure</td>\n",
       "      <td>-1.1</td>\n",
       "      <td>94.767</td>\n",
       "      <td>-50.8</td>\n",
       "      <td>1.046</td>\n",
       "      <td>4963.6</td>\n",
       "      <td>yes</td>\n",
       "    </tr>\n",
       "  </tbody>\n",
       "</table>\n",
       "<p>990 rows × 21 columns</p>\n",
       "</div>"
      ],
      "text/plain": [
       "       age          job   marital            education  default housing loan  \\\n",
       "29      55       admin.   married    university.degree  unknown     NaN  NaN   \n",
       "81      51  blue-collar   married             basic.4y  unknown     NaN  NaN   \n",
       "261     27  blue-collar    single             basic.6y       no     NaN  NaN   \n",
       "385     59   management   married             basic.4y  unknown     NaN  NaN   \n",
       "401     48     services   married          high.school  unknown     NaN  NaN   \n",
       "...    ...          ...       ...                  ...      ...     ...  ...   \n",
       "40990   31       admin.    single    university.degree       no     NaN  NaN   \n",
       "41014   31   technician    single  professional.course       no     NaN  NaN   \n",
       "41015   34       admin.  divorced    university.degree       no     NaN  NaN   \n",
       "41029   46   management   married    university.degree       no     NaN  NaN   \n",
       "41115   42     services  divorced    university.degree       no     NaN  NaN   \n",
       "\n",
       "         contact month day_of_week  ...  campaign  pdays  previous  \\\n",
       "29     telephone   may         mon  ...         1    999         0   \n",
       "81     telephone   may         mon  ...         1    999         0   \n",
       "261    telephone   may         mon  ...         1    999         0   \n",
       "385    telephone   may         tue  ...         1    999         0   \n",
       "401    telephone   may         tue  ...         1    999         0   \n",
       "...          ...   ...         ...  ...       ...    ...       ...   \n",
       "40990   cellular   oct         tue  ...         1      3         1   \n",
       "41014   cellular   oct         thu  ...         2    999         0   \n",
       "41015   cellular   oct         thu  ...         2    999         1   \n",
       "41029   cellular   oct         mon  ...         2     12         2   \n",
       "41115   cellular   nov         tue  ...         1    999         1   \n",
       "\n",
       "          poutcome emp.var.rate  cons.price.idx  cons.conf.idx  euribor3m  \\\n",
       "29     nonexistent          1.1          93.994          -36.4      4.857   \n",
       "81     nonexistent          1.1          93.994          -36.4      4.857   \n",
       "261    nonexistent          1.1          93.994          -36.4      4.857   \n",
       "385    nonexistent          1.1          93.994          -36.4      4.857   \n",
       "401    nonexistent          1.1          93.994          -36.4      4.857   \n",
       "...            ...          ...             ...            ...        ...   \n",
       "40990      success         -1.1          94.601          -49.5      1.008   \n",
       "41014  nonexistent         -1.1          94.601          -49.5      1.025   \n",
       "41015      failure         -1.1          94.601          -49.5      1.025   \n",
       "41029      failure         -1.1          94.601          -49.5      1.032   \n",
       "41115      failure         -1.1          94.767          -50.8      1.046   \n",
       "\n",
       "       nr.employed    y  \n",
       "29          5191.0   no  \n",
       "81          5191.0   no  \n",
       "261         5191.0   no  \n",
       "385         5191.0   no  \n",
       "401         5191.0   no  \n",
       "...            ...  ...  \n",
       "40990       4963.6  yes  \n",
       "41014       4963.6  yes  \n",
       "41015       4963.6   no  \n",
       "41029       4963.6   no  \n",
       "41115       4963.6  yes  \n",
       "\n",
       "[990 rows x 21 columns]"
      ]
     },
     "execution_count": 306,
     "metadata": {},
     "output_type": "execute_result"
    }
   ],
   "source": [
    "bank[pd.isna(bank['housing'])] #to locate the row with an empty entry"
   ]
  },
  {
   "cell_type": "code",
   "execution_count": 307,
   "id": "192e264f",
   "metadata": {},
   "outputs": [],
   "source": [
    "replace_housingnan = bank['housing'].replace(np.nan,\"unknown\",inplace=True) #replacing the nan values"
   ]
  },
  {
   "cell_type": "code",
   "execution_count": 308,
   "id": "e8515852",
   "metadata": {},
   "outputs": [
    {
     "data": {
      "text/plain": [
       "0"
      ]
     },
     "execution_count": 308,
     "metadata": {},
     "output_type": "execute_result"
    }
   ],
   "source": [
    "bank['housing'].isna().sum() #check for missing rows"
   ]
  },
  {
   "cell_type": "code",
   "execution_count": 309,
   "id": "57b35a72",
   "metadata": {},
   "outputs": [
    {
     "data": {
      "text/plain": [
       "array(['no', 'yes', 'unknown'], dtype=object)"
      ]
     },
     "execution_count": 309,
     "metadata": {},
     "output_type": "execute_result"
    }
   ],
   "source": [
    "housing.unique() #check for the unique rows"
   ]
  },
  {
   "cell_type": "markdown",
   "id": "cf3d7b39",
   "metadata": {},
   "source": [
    "Empty records in the housing column were replaced with unknown. This was the only logical option, as it can’t be imputed with any entry."
   ]
  },
  {
   "cell_type": "markdown",
   "id": "eead1f28",
   "metadata": {},
   "source": [
    "#### CLEANING THE LOAN COLUMN"
   ]
  },
  {
   "cell_type": "code",
   "execution_count": 310,
   "id": "17e3f9d4",
   "metadata": {},
   "outputs": [],
   "source": [
    "#to explore the loan column\n",
    "loan= bank[\"loan\"]"
   ]
  },
  {
   "cell_type": "code",
   "execution_count": 311,
   "id": "ecd6392e",
   "metadata": {},
   "outputs": [
    {
     "data": {
      "text/plain": [
       "0         no\n",
       "1         no\n",
       "2         no\n",
       "3         no\n",
       "4        yes\n",
       "        ... \n",
       "41183     no\n",
       "41184     no\n",
       "41185     no\n",
       "41186     no\n",
       "41187     no\n",
       "Name: loan, Length: 41188, dtype: object"
      ]
     },
     "execution_count": 311,
     "metadata": {},
     "output_type": "execute_result"
    }
   ],
   "source": [
    "loan"
   ]
  },
  {
   "cell_type": "code",
   "execution_count": 312,
   "id": "70c39b36",
   "metadata": {},
   "outputs": [
    {
     "data": {
      "text/plain": [
       "array(['no', 'yes', nan], dtype=object)"
      ]
     },
     "execution_count": 312,
     "metadata": {},
     "output_type": "execute_result"
    }
   ],
   "source": [
    "loan.unique() #check for the unique rows"
   ]
  },
  {
   "cell_type": "code",
   "execution_count": 313,
   "id": "728fd751",
   "metadata": {},
   "outputs": [
    {
     "data": {
      "text/plain": [
       "990"
      ]
     },
     "execution_count": 313,
     "metadata": {},
     "output_type": "execute_result"
    }
   ],
   "source": [
    "bank['loan'].isna().sum() #check for missing rows"
   ]
  },
  {
   "cell_type": "code",
   "execution_count": 314,
   "id": "5f5e0d3c",
   "metadata": {},
   "outputs": [
    {
     "data": {
      "text/html": [
       "<div>\n",
       "<style scoped>\n",
       "    .dataframe tbody tr th:only-of-type {\n",
       "        vertical-align: middle;\n",
       "    }\n",
       "\n",
       "    .dataframe tbody tr th {\n",
       "        vertical-align: top;\n",
       "    }\n",
       "\n",
       "    .dataframe thead th {\n",
       "        text-align: right;\n",
       "    }\n",
       "</style>\n",
       "<table border=\"1\" class=\"dataframe\">\n",
       "  <thead>\n",
       "    <tr style=\"text-align: right;\">\n",
       "      <th></th>\n",
       "      <th>age</th>\n",
       "      <th>job</th>\n",
       "      <th>marital</th>\n",
       "      <th>education</th>\n",
       "      <th>default</th>\n",
       "      <th>housing</th>\n",
       "      <th>loan</th>\n",
       "      <th>contact</th>\n",
       "      <th>month</th>\n",
       "      <th>day_of_week</th>\n",
       "      <th>...</th>\n",
       "      <th>campaign</th>\n",
       "      <th>pdays</th>\n",
       "      <th>previous</th>\n",
       "      <th>poutcome</th>\n",
       "      <th>emp.var.rate</th>\n",
       "      <th>cons.price.idx</th>\n",
       "      <th>cons.conf.idx</th>\n",
       "      <th>euribor3m</th>\n",
       "      <th>nr.employed</th>\n",
       "      <th>y</th>\n",
       "    </tr>\n",
       "  </thead>\n",
       "  <tbody>\n",
       "    <tr>\n",
       "      <th>29</th>\n",
       "      <td>55</td>\n",
       "      <td>admin.</td>\n",
       "      <td>married</td>\n",
       "      <td>university.degree</td>\n",
       "      <td>unknown</td>\n",
       "      <td>unknown</td>\n",
       "      <td>NaN</td>\n",
       "      <td>telephone</td>\n",
       "      <td>may</td>\n",
       "      <td>mon</td>\n",
       "      <td>...</td>\n",
       "      <td>1</td>\n",
       "      <td>999</td>\n",
       "      <td>0</td>\n",
       "      <td>nonexistent</td>\n",
       "      <td>1.1</td>\n",
       "      <td>93.994</td>\n",
       "      <td>-36.4</td>\n",
       "      <td>4.857</td>\n",
       "      <td>5191.0</td>\n",
       "      <td>no</td>\n",
       "    </tr>\n",
       "    <tr>\n",
       "      <th>81</th>\n",
       "      <td>51</td>\n",
       "      <td>blue-collar</td>\n",
       "      <td>married</td>\n",
       "      <td>basic.4y</td>\n",
       "      <td>unknown</td>\n",
       "      <td>unknown</td>\n",
       "      <td>NaN</td>\n",
       "      <td>telephone</td>\n",
       "      <td>may</td>\n",
       "      <td>mon</td>\n",
       "      <td>...</td>\n",
       "      <td>1</td>\n",
       "      <td>999</td>\n",
       "      <td>0</td>\n",
       "      <td>nonexistent</td>\n",
       "      <td>1.1</td>\n",
       "      <td>93.994</td>\n",
       "      <td>-36.4</td>\n",
       "      <td>4.857</td>\n",
       "      <td>5191.0</td>\n",
       "      <td>no</td>\n",
       "    </tr>\n",
       "    <tr>\n",
       "      <th>261</th>\n",
       "      <td>27</td>\n",
       "      <td>blue-collar</td>\n",
       "      <td>single</td>\n",
       "      <td>basic.6y</td>\n",
       "      <td>no</td>\n",
       "      <td>unknown</td>\n",
       "      <td>NaN</td>\n",
       "      <td>telephone</td>\n",
       "      <td>may</td>\n",
       "      <td>mon</td>\n",
       "      <td>...</td>\n",
       "      <td>1</td>\n",
       "      <td>999</td>\n",
       "      <td>0</td>\n",
       "      <td>nonexistent</td>\n",
       "      <td>1.1</td>\n",
       "      <td>93.994</td>\n",
       "      <td>-36.4</td>\n",
       "      <td>4.857</td>\n",
       "      <td>5191.0</td>\n",
       "      <td>no</td>\n",
       "    </tr>\n",
       "    <tr>\n",
       "      <th>385</th>\n",
       "      <td>59</td>\n",
       "      <td>management</td>\n",
       "      <td>married</td>\n",
       "      <td>basic.4y</td>\n",
       "      <td>unknown</td>\n",
       "      <td>unknown</td>\n",
       "      <td>NaN</td>\n",
       "      <td>telephone</td>\n",
       "      <td>may</td>\n",
       "      <td>tue</td>\n",
       "      <td>...</td>\n",
       "      <td>1</td>\n",
       "      <td>999</td>\n",
       "      <td>0</td>\n",
       "      <td>nonexistent</td>\n",
       "      <td>1.1</td>\n",
       "      <td>93.994</td>\n",
       "      <td>-36.4</td>\n",
       "      <td>4.857</td>\n",
       "      <td>5191.0</td>\n",
       "      <td>no</td>\n",
       "    </tr>\n",
       "    <tr>\n",
       "      <th>401</th>\n",
       "      <td>48</td>\n",
       "      <td>services</td>\n",
       "      <td>married</td>\n",
       "      <td>high.school</td>\n",
       "      <td>unknown</td>\n",
       "      <td>unknown</td>\n",
       "      <td>NaN</td>\n",
       "      <td>telephone</td>\n",
       "      <td>may</td>\n",
       "      <td>tue</td>\n",
       "      <td>...</td>\n",
       "      <td>1</td>\n",
       "      <td>999</td>\n",
       "      <td>0</td>\n",
       "      <td>nonexistent</td>\n",
       "      <td>1.1</td>\n",
       "      <td>93.994</td>\n",
       "      <td>-36.4</td>\n",
       "      <td>4.857</td>\n",
       "      <td>5191.0</td>\n",
       "      <td>no</td>\n",
       "    </tr>\n",
       "    <tr>\n",
       "      <th>...</th>\n",
       "      <td>...</td>\n",
       "      <td>...</td>\n",
       "      <td>...</td>\n",
       "      <td>...</td>\n",
       "      <td>...</td>\n",
       "      <td>...</td>\n",
       "      <td>...</td>\n",
       "      <td>...</td>\n",
       "      <td>...</td>\n",
       "      <td>...</td>\n",
       "      <td>...</td>\n",
       "      <td>...</td>\n",
       "      <td>...</td>\n",
       "      <td>...</td>\n",
       "      <td>...</td>\n",
       "      <td>...</td>\n",
       "      <td>...</td>\n",
       "      <td>...</td>\n",
       "      <td>...</td>\n",
       "      <td>...</td>\n",
       "      <td>...</td>\n",
       "    </tr>\n",
       "    <tr>\n",
       "      <th>40990</th>\n",
       "      <td>31</td>\n",
       "      <td>admin.</td>\n",
       "      <td>single</td>\n",
       "      <td>university.degree</td>\n",
       "      <td>no</td>\n",
       "      <td>unknown</td>\n",
       "      <td>NaN</td>\n",
       "      <td>cellular</td>\n",
       "      <td>oct</td>\n",
       "      <td>tue</td>\n",
       "      <td>...</td>\n",
       "      <td>1</td>\n",
       "      <td>3</td>\n",
       "      <td>1</td>\n",
       "      <td>success</td>\n",
       "      <td>-1.1</td>\n",
       "      <td>94.601</td>\n",
       "      <td>-49.5</td>\n",
       "      <td>1.008</td>\n",
       "      <td>4963.6</td>\n",
       "      <td>yes</td>\n",
       "    </tr>\n",
       "    <tr>\n",
       "      <th>41014</th>\n",
       "      <td>31</td>\n",
       "      <td>technician</td>\n",
       "      <td>single</td>\n",
       "      <td>professional.course</td>\n",
       "      <td>no</td>\n",
       "      <td>unknown</td>\n",
       "      <td>NaN</td>\n",
       "      <td>cellular</td>\n",
       "      <td>oct</td>\n",
       "      <td>thu</td>\n",
       "      <td>...</td>\n",
       "      <td>2</td>\n",
       "      <td>999</td>\n",
       "      <td>0</td>\n",
       "      <td>nonexistent</td>\n",
       "      <td>-1.1</td>\n",
       "      <td>94.601</td>\n",
       "      <td>-49.5</td>\n",
       "      <td>1.025</td>\n",
       "      <td>4963.6</td>\n",
       "      <td>yes</td>\n",
       "    </tr>\n",
       "    <tr>\n",
       "      <th>41015</th>\n",
       "      <td>34</td>\n",
       "      <td>admin.</td>\n",
       "      <td>divorced</td>\n",
       "      <td>university.degree</td>\n",
       "      <td>no</td>\n",
       "      <td>unknown</td>\n",
       "      <td>NaN</td>\n",
       "      <td>cellular</td>\n",
       "      <td>oct</td>\n",
       "      <td>thu</td>\n",
       "      <td>...</td>\n",
       "      <td>2</td>\n",
       "      <td>999</td>\n",
       "      <td>1</td>\n",
       "      <td>failure</td>\n",
       "      <td>-1.1</td>\n",
       "      <td>94.601</td>\n",
       "      <td>-49.5</td>\n",
       "      <td>1.025</td>\n",
       "      <td>4963.6</td>\n",
       "      <td>no</td>\n",
       "    </tr>\n",
       "    <tr>\n",
       "      <th>41029</th>\n",
       "      <td>46</td>\n",
       "      <td>management</td>\n",
       "      <td>married</td>\n",
       "      <td>university.degree</td>\n",
       "      <td>no</td>\n",
       "      <td>unknown</td>\n",
       "      <td>NaN</td>\n",
       "      <td>cellular</td>\n",
       "      <td>oct</td>\n",
       "      <td>mon</td>\n",
       "      <td>...</td>\n",
       "      <td>2</td>\n",
       "      <td>12</td>\n",
       "      <td>2</td>\n",
       "      <td>failure</td>\n",
       "      <td>-1.1</td>\n",
       "      <td>94.601</td>\n",
       "      <td>-49.5</td>\n",
       "      <td>1.032</td>\n",
       "      <td>4963.6</td>\n",
       "      <td>no</td>\n",
       "    </tr>\n",
       "    <tr>\n",
       "      <th>41115</th>\n",
       "      <td>42</td>\n",
       "      <td>services</td>\n",
       "      <td>divorced</td>\n",
       "      <td>university.degree</td>\n",
       "      <td>no</td>\n",
       "      <td>unknown</td>\n",
       "      <td>NaN</td>\n",
       "      <td>cellular</td>\n",
       "      <td>nov</td>\n",
       "      <td>tue</td>\n",
       "      <td>...</td>\n",
       "      <td>1</td>\n",
       "      <td>999</td>\n",
       "      <td>1</td>\n",
       "      <td>failure</td>\n",
       "      <td>-1.1</td>\n",
       "      <td>94.767</td>\n",
       "      <td>-50.8</td>\n",
       "      <td>1.046</td>\n",
       "      <td>4963.6</td>\n",
       "      <td>yes</td>\n",
       "    </tr>\n",
       "  </tbody>\n",
       "</table>\n",
       "<p>990 rows × 21 columns</p>\n",
       "</div>"
      ],
      "text/plain": [
       "       age          job   marital            education  default  housing loan  \\\n",
       "29      55       admin.   married    university.degree  unknown  unknown  NaN   \n",
       "81      51  blue-collar   married             basic.4y  unknown  unknown  NaN   \n",
       "261     27  blue-collar    single             basic.6y       no  unknown  NaN   \n",
       "385     59   management   married             basic.4y  unknown  unknown  NaN   \n",
       "401     48     services   married          high.school  unknown  unknown  NaN   \n",
       "...    ...          ...       ...                  ...      ...      ...  ...   \n",
       "40990   31       admin.    single    university.degree       no  unknown  NaN   \n",
       "41014   31   technician    single  professional.course       no  unknown  NaN   \n",
       "41015   34       admin.  divorced    university.degree       no  unknown  NaN   \n",
       "41029   46   management   married    university.degree       no  unknown  NaN   \n",
       "41115   42     services  divorced    university.degree       no  unknown  NaN   \n",
       "\n",
       "         contact month day_of_week  ...  campaign  pdays  previous  \\\n",
       "29     telephone   may         mon  ...         1    999         0   \n",
       "81     telephone   may         mon  ...         1    999         0   \n",
       "261    telephone   may         mon  ...         1    999         0   \n",
       "385    telephone   may         tue  ...         1    999         0   \n",
       "401    telephone   may         tue  ...         1    999         0   \n",
       "...          ...   ...         ...  ...       ...    ...       ...   \n",
       "40990   cellular   oct         tue  ...         1      3         1   \n",
       "41014   cellular   oct         thu  ...         2    999         0   \n",
       "41015   cellular   oct         thu  ...         2    999         1   \n",
       "41029   cellular   oct         mon  ...         2     12         2   \n",
       "41115   cellular   nov         tue  ...         1    999         1   \n",
       "\n",
       "          poutcome emp.var.rate  cons.price.idx  cons.conf.idx  euribor3m  \\\n",
       "29     nonexistent          1.1          93.994          -36.4      4.857   \n",
       "81     nonexistent          1.1          93.994          -36.4      4.857   \n",
       "261    nonexistent          1.1          93.994          -36.4      4.857   \n",
       "385    nonexistent          1.1          93.994          -36.4      4.857   \n",
       "401    nonexistent          1.1          93.994          -36.4      4.857   \n",
       "...            ...          ...             ...            ...        ...   \n",
       "40990      success         -1.1          94.601          -49.5      1.008   \n",
       "41014  nonexistent         -1.1          94.601          -49.5      1.025   \n",
       "41015      failure         -1.1          94.601          -49.5      1.025   \n",
       "41029      failure         -1.1          94.601          -49.5      1.032   \n",
       "41115      failure         -1.1          94.767          -50.8      1.046   \n",
       "\n",
       "       nr.employed    y  \n",
       "29          5191.0   no  \n",
       "81          5191.0   no  \n",
       "261         5191.0   no  \n",
       "385         5191.0   no  \n",
       "401         5191.0   no  \n",
       "...            ...  ...  \n",
       "40990       4963.6  yes  \n",
       "41014       4963.6  yes  \n",
       "41015       4963.6   no  \n",
       "41029       4963.6   no  \n",
       "41115       4963.6  yes  \n",
       "\n",
       "[990 rows x 21 columns]"
      ]
     },
     "execution_count": 314,
     "metadata": {},
     "output_type": "execute_result"
    }
   ],
   "source": [
    "bank[pd.isna(bank['loan'])] #to locate the row with an empty entry"
   ]
  },
  {
   "cell_type": "code",
   "execution_count": 315,
   "id": "7920edc8",
   "metadata": {},
   "outputs": [],
   "source": [
    "replace_loannan = bank['loan'].replace(np.nan,\"unknown\",inplace=True) #replacing the nan values"
   ]
  },
  {
   "cell_type": "code",
   "execution_count": 316,
   "id": "c5034d21",
   "metadata": {},
   "outputs": [],
   "source": [
    "# to replace admin to admin.\n",
    "bank['loan']= bank['loan'].replace ('','unknown')"
   ]
  },
  {
   "cell_type": "code",
   "execution_count": 317,
   "id": "1e072847",
   "metadata": {},
   "outputs": [
    {
     "data": {
      "text/plain": [
       "0"
      ]
     },
     "execution_count": 317,
     "metadata": {},
     "output_type": "execute_result"
    }
   ],
   "source": [
    "bank['loan'].isna().sum() #check for missing rows"
   ]
  },
  {
   "cell_type": "code",
   "execution_count": 318,
   "id": "93db09c6",
   "metadata": {},
   "outputs": [
    {
     "data": {
      "text/plain": [
       "array(['no', 'yes', 'unknown'], dtype=object)"
      ]
     },
     "execution_count": 318,
     "metadata": {},
     "output_type": "execute_result"
    }
   ],
   "source": [
    "loan.unique() #check for the unique rows"
   ]
  },
  {
   "cell_type": "markdown",
   "id": "189c9df0",
   "metadata": {},
   "source": [
    "The empty records in the loan column were also replaced with the class label ‘unknown’."
   ]
  },
  {
   "cell_type": "code",
   "execution_count": 319,
   "id": "f8451195",
   "metadata": {},
   "outputs": [
    {
     "data": {
      "text/plain": [
       "age               0\n",
       "job               0\n",
       "marital           0\n",
       "education         0\n",
       "default           0\n",
       "housing           0\n",
       "loan              0\n",
       "contact           0\n",
       "month             0\n",
       "day_of_week       0\n",
       "duration          0\n",
       "campaign          0\n",
       "pdays             0\n",
       "previous          0\n",
       "poutcome          0\n",
       "emp.var.rate      0\n",
       "cons.price.idx    0\n",
       "cons.conf.idx     0\n",
       "euribor3m         0\n",
       "nr.employed       0\n",
       "y                 0\n",
       "dtype: int64"
      ]
     },
     "execution_count": 319,
     "metadata": {},
     "output_type": "execute_result"
    }
   ],
   "source": [
    "bank.isna().sum()"
   ]
  },
  {
   "cell_type": "code",
   "execution_count": 320,
   "id": "be9c6453",
   "metadata": {},
   "outputs": [
    {
     "name": "stdout",
     "output_type": "stream",
     "text": [
      "<class 'pandas.core.frame.DataFrame'>\n",
      "RangeIndex: 41188 entries, 0 to 41187\n",
      "Data columns (total 21 columns):\n",
      " #   Column          Non-Null Count  Dtype  \n",
      "---  ------          --------------  -----  \n",
      " 0   age             41188 non-null  int64  \n",
      " 1   job             41188 non-null  object \n",
      " 2   marital         41188 non-null  object \n",
      " 3   education       41188 non-null  object \n",
      " 4   default         41188 non-null  object \n",
      " 5   housing         41188 non-null  object \n",
      " 6   loan            41188 non-null  object \n",
      " 7   contact         41188 non-null  object \n",
      " 8   month           41188 non-null  object \n",
      " 9   day_of_week     41188 non-null  object \n",
      " 10  duration        41188 non-null  int64  \n",
      " 11  campaign        41188 non-null  int64  \n",
      " 12  pdays           41188 non-null  int64  \n",
      " 13  previous        41188 non-null  int64  \n",
      " 14  poutcome        41188 non-null  object \n",
      " 15  emp.var.rate    41188 non-null  float64\n",
      " 16  cons.price.idx  41188 non-null  float64\n",
      " 17  cons.conf.idx   41188 non-null  float64\n",
      " 18  euribor3m       41188 non-null  float64\n",
      " 19  nr.employed     41188 non-null  float64\n",
      " 20  y               41188 non-null  object \n",
      "dtypes: float64(5), int64(5), object(11)\n",
      "memory usage: 6.6+ MB\n"
     ]
    }
   ],
   "source": [
    "bank.info()"
   ]
  },
  {
   "cell_type": "markdown",
   "id": "8d8cdc0c",
   "metadata": {},
   "source": [
    "After completely cleaning the bank marketing data, the finalized information or features would look like the above, with no missing values"
   ]
  },
  {
   "cell_type": "code",
   "execution_count": 321,
   "id": "00ba4002",
   "metadata": {},
   "outputs": [],
   "source": [
    "#drop the duration column\n",
    "drop_data = bank.drop('duration', axis=1,inplace=True)"
   ]
  },
  {
   "cell_type": "markdown",
   "id": "cd626f76",
   "metadata": {},
   "source": [
    "The duration coulmn was dropped or deleted because it would affectthe performance of the model"
   ]
  },
  {
   "cell_type": "code",
   "execution_count": 322,
   "id": "a3110ade",
   "metadata": {},
   "outputs": [
    {
     "data": {
      "text/plain": [
       "age               0\n",
       "job               0\n",
       "marital           0\n",
       "education         0\n",
       "default           0\n",
       "housing           0\n",
       "loan              0\n",
       "contact           0\n",
       "month             0\n",
       "day_of_week       0\n",
       "campaign          0\n",
       "pdays             0\n",
       "previous          0\n",
       "poutcome          0\n",
       "emp.var.rate      0\n",
       "cons.price.idx    0\n",
       "cons.conf.idx     0\n",
       "euribor3m         0\n",
       "nr.employed       0\n",
       "y                 0\n",
       "dtype: int64"
      ]
     },
     "execution_count": 322,
     "metadata": {},
     "output_type": "execute_result"
    }
   ],
   "source": [
    "bank.isnull().sum()"
   ]
  },
  {
   "cell_type": "code",
   "execution_count": 323,
   "id": "04a41dc0",
   "metadata": {},
   "outputs": [
    {
     "name": "stdout",
     "output_type": "stream",
     "text": [
      "<class 'pandas.core.frame.DataFrame'>\n",
      "RangeIndex: 41188 entries, 0 to 41187\n",
      "Data columns (total 20 columns):\n",
      " #   Column          Non-Null Count  Dtype  \n",
      "---  ------          --------------  -----  \n",
      " 0   age             41188 non-null  int64  \n",
      " 1   job             41188 non-null  object \n",
      " 2   marital         41188 non-null  object \n",
      " 3   education       41188 non-null  object \n",
      " 4   default         41188 non-null  object \n",
      " 5   housing         41188 non-null  object \n",
      " 6   loan            41188 non-null  object \n",
      " 7   contact         41188 non-null  object \n",
      " 8   month           41188 non-null  object \n",
      " 9   day_of_week     41188 non-null  object \n",
      " 10  campaign        41188 non-null  int64  \n",
      " 11  pdays           41188 non-null  int64  \n",
      " 12  previous        41188 non-null  int64  \n",
      " 13  poutcome        41188 non-null  object \n",
      " 14  emp.var.rate    41188 non-null  float64\n",
      " 15  cons.price.idx  41188 non-null  float64\n",
      " 16  cons.conf.idx   41188 non-null  float64\n",
      " 17  euribor3m       41188 non-null  float64\n",
      " 18  nr.employed     41188 non-null  float64\n",
      " 19  y               41188 non-null  object \n",
      "dtypes: float64(5), int64(4), object(11)\n",
      "memory usage: 6.3+ MB\n"
     ]
    }
   ],
   "source": [
    "bank.info()"
   ]
  },
  {
   "cell_type": "markdown",
   "id": "039a427b",
   "metadata": {},
   "source": [
    "The bank data contains object data types for categorical variables This would be changed to categrical data types below"
   ]
  },
  {
   "cell_type": "markdown",
   "id": "3f38200b",
   "metadata": {},
   "source": [
    "### CHANGING OBJECT DATA TYPES TO CATEGORICAL DATA TYPES"
   ]
  },
  {
   "cell_type": "code",
   "execution_count": 324,
   "id": "f938cf0b",
   "metadata": {},
   "outputs": [],
   "source": [
    "bank['job'] = bank['job'].astype('category')\n",
    "bank['marital'] = bank['marital'].astype('category')\n",
    "bank['education'] = bank['education'].astype('category')\n",
    "bank['default'] = bank['default'].astype('category')\n",
    "bank['housing'] = bank['housing'].astype('category')\n",
    "bank['loan'] = bank['contact'].astype('category')\n",
    "bank['contact'] = bank['contact'].astype('category')\n",
    "bank['month'] = bank['month'].astype('category')\n",
    "bank['day_of_week'] = bank['day_of_week'].astype('category')\n",
    "bank['poutcome'] = bank['poutcome'].astype('category')\n",
    "bank['y'] = bank['y'].astype('category')"
   ]
  },
  {
   "cell_type": "code",
   "execution_count": 325,
   "id": "e02f81cd",
   "metadata": {},
   "outputs": [
    {
     "data": {
      "text/plain": [
       "age                  int64\n",
       "job               category\n",
       "marital           category\n",
       "education         category\n",
       "default           category\n",
       "housing           category\n",
       "loan              category\n",
       "contact           category\n",
       "month             category\n",
       "day_of_week       category\n",
       "campaign             int64\n",
       "pdays                int64\n",
       "previous             int64\n",
       "poutcome          category\n",
       "emp.var.rate       float64\n",
       "cons.price.idx     float64\n",
       "cons.conf.idx      float64\n",
       "euribor3m          float64\n",
       "nr.employed        float64\n",
       "y                 category\n",
       "dtype: object"
      ]
     },
     "execution_count": 325,
     "metadata": {},
     "output_type": "execute_result"
    }
   ],
   "source": [
    "bank.dtypes #to check for the data types after changing to categorical data types"
   ]
  },
  {
   "cell_type": "code",
   "execution_count": 326,
   "id": "4f67ea4f",
   "metadata": {},
   "outputs": [
    {
     "data": {
      "text/html": [
       "<div>\n",
       "<style scoped>\n",
       "    .dataframe tbody tr th:only-of-type {\n",
       "        vertical-align: middle;\n",
       "    }\n",
       "\n",
       "    .dataframe tbody tr th {\n",
       "        vertical-align: top;\n",
       "    }\n",
       "\n",
       "    .dataframe thead th {\n",
       "        text-align: right;\n",
       "    }\n",
       "</style>\n",
       "<table border=\"1\" class=\"dataframe\">\n",
       "  <thead>\n",
       "    <tr style=\"text-align: right;\">\n",
       "      <th></th>\n",
       "      <th>age</th>\n",
       "      <th>job</th>\n",
       "      <th>marital</th>\n",
       "      <th>education</th>\n",
       "      <th>default</th>\n",
       "      <th>housing</th>\n",
       "      <th>loan</th>\n",
       "      <th>contact</th>\n",
       "      <th>month</th>\n",
       "      <th>day_of_week</th>\n",
       "      <th>campaign</th>\n",
       "      <th>pdays</th>\n",
       "      <th>previous</th>\n",
       "      <th>poutcome</th>\n",
       "      <th>emp.var.rate</th>\n",
       "      <th>cons.price.idx</th>\n",
       "      <th>cons.conf.idx</th>\n",
       "      <th>euribor3m</th>\n",
       "      <th>nr.employed</th>\n",
       "      <th>y</th>\n",
       "    </tr>\n",
       "  </thead>\n",
       "  <tbody>\n",
       "    <tr>\n",
       "      <th>0</th>\n",
       "      <td>56</td>\n",
       "      <td>housemaid</td>\n",
       "      <td>married</td>\n",
       "      <td>basic.4y</td>\n",
       "      <td>no</td>\n",
       "      <td>no</td>\n",
       "      <td>telephone</td>\n",
       "      <td>telephone</td>\n",
       "      <td>may</td>\n",
       "      <td>mon</td>\n",
       "      <td>1</td>\n",
       "      <td>999</td>\n",
       "      <td>0</td>\n",
       "      <td>nonexistent</td>\n",
       "      <td>1.1</td>\n",
       "      <td>93.994</td>\n",
       "      <td>-36.4</td>\n",
       "      <td>4.857</td>\n",
       "      <td>5191.0</td>\n",
       "      <td>no</td>\n",
       "    </tr>\n",
       "    <tr>\n",
       "      <th>1</th>\n",
       "      <td>57</td>\n",
       "      <td>services</td>\n",
       "      <td>married</td>\n",
       "      <td>high.school</td>\n",
       "      <td>unknown</td>\n",
       "      <td>no</td>\n",
       "      <td>telephone</td>\n",
       "      <td>telephone</td>\n",
       "      <td>may</td>\n",
       "      <td>mon</td>\n",
       "      <td>1</td>\n",
       "      <td>999</td>\n",
       "      <td>0</td>\n",
       "      <td>nonexistent</td>\n",
       "      <td>1.1</td>\n",
       "      <td>93.994</td>\n",
       "      <td>-36.4</td>\n",
       "      <td>4.857</td>\n",
       "      <td>5191.0</td>\n",
       "      <td>no</td>\n",
       "    </tr>\n",
       "    <tr>\n",
       "      <th>2</th>\n",
       "      <td>37</td>\n",
       "      <td>services</td>\n",
       "      <td>married</td>\n",
       "      <td>high.school</td>\n",
       "      <td>no</td>\n",
       "      <td>yes</td>\n",
       "      <td>telephone</td>\n",
       "      <td>telephone</td>\n",
       "      <td>may</td>\n",
       "      <td>mon</td>\n",
       "      <td>1</td>\n",
       "      <td>999</td>\n",
       "      <td>0</td>\n",
       "      <td>nonexistent</td>\n",
       "      <td>1.1</td>\n",
       "      <td>93.994</td>\n",
       "      <td>-36.4</td>\n",
       "      <td>4.857</td>\n",
       "      <td>5191.0</td>\n",
       "      <td>no</td>\n",
       "    </tr>\n",
       "    <tr>\n",
       "      <th>3</th>\n",
       "      <td>40</td>\n",
       "      <td>admin.</td>\n",
       "      <td>married</td>\n",
       "      <td>basic.6y</td>\n",
       "      <td>no</td>\n",
       "      <td>no</td>\n",
       "      <td>telephone</td>\n",
       "      <td>telephone</td>\n",
       "      <td>may</td>\n",
       "      <td>mon</td>\n",
       "      <td>1</td>\n",
       "      <td>999</td>\n",
       "      <td>0</td>\n",
       "      <td>nonexistent</td>\n",
       "      <td>1.1</td>\n",
       "      <td>93.994</td>\n",
       "      <td>-36.4</td>\n",
       "      <td>4.857</td>\n",
       "      <td>5191.0</td>\n",
       "      <td>no</td>\n",
       "    </tr>\n",
       "    <tr>\n",
       "      <th>4</th>\n",
       "      <td>56</td>\n",
       "      <td>services</td>\n",
       "      <td>married</td>\n",
       "      <td>high.school</td>\n",
       "      <td>no</td>\n",
       "      <td>no</td>\n",
       "      <td>telephone</td>\n",
       "      <td>telephone</td>\n",
       "      <td>may</td>\n",
       "      <td>mon</td>\n",
       "      <td>1</td>\n",
       "      <td>999</td>\n",
       "      <td>0</td>\n",
       "      <td>nonexistent</td>\n",
       "      <td>1.1</td>\n",
       "      <td>93.994</td>\n",
       "      <td>-36.4</td>\n",
       "      <td>4.857</td>\n",
       "      <td>5191.0</td>\n",
       "      <td>no</td>\n",
       "    </tr>\n",
       "  </tbody>\n",
       "</table>\n",
       "</div>"
      ],
      "text/plain": [
       "   age        job  marital    education  default housing       loan  \\\n",
       "0   56  housemaid  married     basic.4y       no      no  telephone   \n",
       "1   57   services  married  high.school  unknown      no  telephone   \n",
       "2   37   services  married  high.school       no     yes  telephone   \n",
       "3   40     admin.  married     basic.6y       no      no  telephone   \n",
       "4   56   services  married  high.school       no      no  telephone   \n",
       "\n",
       "     contact month day_of_week  campaign  pdays  previous     poutcome  \\\n",
       "0  telephone   may         mon         1    999         0  nonexistent   \n",
       "1  telephone   may         mon         1    999         0  nonexistent   \n",
       "2  telephone   may         mon         1    999         0  nonexistent   \n",
       "3  telephone   may         mon         1    999         0  nonexistent   \n",
       "4  telephone   may         mon         1    999         0  nonexistent   \n",
       "\n",
       "   emp.var.rate  cons.price.idx  cons.conf.idx  euribor3m  nr.employed   y  \n",
       "0           1.1          93.994          -36.4      4.857       5191.0  no  \n",
       "1           1.1          93.994          -36.4      4.857       5191.0  no  \n",
       "2           1.1          93.994          -36.4      4.857       5191.0  no  \n",
       "3           1.1          93.994          -36.4      4.857       5191.0  no  \n",
       "4           1.1          93.994          -36.4      4.857       5191.0  no  "
      ]
     },
     "execution_count": 326,
     "metadata": {},
     "output_type": "execute_result"
    }
   ],
   "source": [
    "bank.head()"
   ]
  },
  {
   "cell_type": "code",
   "execution_count": 327,
   "id": "7675a892",
   "metadata": {},
   "outputs": [],
   "source": [
    "#pf.ProfileReport(bank).to_file('Overview of Bank Marketing2')"
   ]
  },
  {
   "cell_type": "markdown",
   "id": "eece4e38",
   "metadata": {},
   "source": [
    "### DATA VISUALISATION"
   ]
  },
  {
   "cell_type": "code",
   "execution_count": 328,
   "id": "1364865c",
   "metadata": {},
   "outputs": [],
   "source": [
    "import seaborn as sns\n",
    "import matplotlib.pyplot as plt\n",
    "import plotly.express as px\n",
    "\n",
    "%matplotlib inline"
   ]
  },
  {
   "cell_type": "code",
   "execution_count": 329,
   "id": "074bbd46",
   "metadata": {},
   "outputs": [
    {
     "data": {
      "image/png": "[encoded data removed]",
      "text/plain": [
       "<Figure size 432x288 with 1 Axes>"
      ]
     },
     "metadata": {
      "needs_background": "light"
     },
     "output_type": "display_data"
    }
   ],
   "source": [
    "age_range=sns.boxplot(data=bank,x='age',y='y')\n",
    "plt.title('Age Range of Subscribers')\n",
    "plt.show()"
   ]
  },
  {
   "cell_type": "markdown",
   "id": "fc2dc96b",
   "metadata": {},
   "source": [
    "This shows that there are more term deposit subscribers in the upper quartile (75% percentile) of the age range, but more non-subscribers in the median age group (30-50years)"
   ]
  },
  {
   "cell_type": "code",
   "execution_count": 330,
   "id": "f66c4ca1",
   "metadata": {},
   "outputs": [
    {
     "data": {
      "image/png": "[encoded data removed]",
      "text/plain": [
       "<Figure size 360x360 with 1 Axes>"
      ]
     },
     "metadata": {
      "needs_background": "light"
     },
     "output_type": "display_data"
    }
   ],
   "source": [
    "sns.displot(x='y', data=bank)\n",
    "plt.title('Subscription to Term Deposit')\n",
    "plt.show()"
   ]
  },
  {
   "cell_type": "markdown",
   "id": "5f407f4b",
   "metadata": {},
   "source": [
    "From the above, it shows that there are fewer customers that subscribed to term deposits than there are actual subscribers"
   ]
  },
  {
   "cell_type": "code",
   "execution_count": 331,
   "id": "b78538a0",
   "metadata": {},
   "outputs": [
    {
     "data": {
      "image/png": "[encoded data removed]",
      "text/plain": [
       "<Figure size 432x288 with 1 Axes>"
      ]
     },
     "metadata": {
      "needs_background": "light"
     },
     "output_type": "display_data"
    }
   ],
   "source": [
    "sns.histplot(data=bank,x='job')\n",
    "plt.title('Distribution of Jobs')\n",
    "plt.xticks(rotation=60)\n",
    "plt.show()"
   ]
  },
  {
   "cell_type": "code",
   "execution_count": 332,
   "id": "dbce327e",
   "metadata": {},
   "outputs": [
    {
     "data": {
      "image/png": "[encoded data removed]",
      "text/plain": [
       "<Figure size 432x288 with 1 Axes>"
      ]
     },
     "metadata": {
      "needs_background": "light"
     },
     "output_type": "display_data"
    }
   ],
   "source": [
    "sns.histplot(data=bank,x='job',hue='y')\n",
    "plt.title('Subscribers across Jobs')\n",
    "plt.xticks(rotation=60)\n",
    "plt.show()"
   ]
  },
  {
   "cell_type": "markdown",
   "id": "8513438b",
   "metadata": {},
   "source": [
    "From analyzing the \"distribution of jobs\" and the \"subscription to a term deposit\", it identifies that the higher number of subscribers to term deposit falls within the customers that are gainfully employed(admin, blue-collar, technician), compared to those that are under-employed or unemployed."
   ]
  },
  {
   "cell_type": "code",
   "execution_count": 333,
   "id": "757222b4",
   "metadata": {},
   "outputs": [
    {
     "data": {
      "image/png": "[encoded data removed]",
      "text/plain": [
       "<Figure size 432x288 with 1 Axes>"
      ]
     },
     "metadata": {
      "needs_background": "light"
     },
     "output_type": "display_data"
    }
   ],
   "source": [
    "sns.histplot(data=bank,x='marital',hue='y')\n",
    "plt.title('Subscribers across Marital')\n",
    "\n",
    "plt.show()"
   ]
  },
  {
   "cell_type": "code",
   "execution_count": 334,
   "id": "2a248712",
   "metadata": {},
   "outputs": [
    {
     "data": {
      "image/png": "[encoded data removed]",
      "text/plain": [
       "<Figure size 432x288 with 1 Axes>"
      ]
     },
     "metadata": {
      "needs_background": "light"
     },
     "output_type": "display_data"
    }
   ],
   "source": [
    "sns.countplot(data=bank,x='marital',hue='y')\n",
    "plt.title('Term Deposit Subscription across Marital status')\n",
    "plt.show()"
   ]
  },
  {
   "cell_type": "markdown",
   "id": "8bbdd05d",
   "metadata": {},
   "source": [
    "Analysis of the above plots(subscribers across marital status and term deposit subscription across marital status) shows that married customers subscribed the most to a term deposit, followed by single customers, with divorced customers having the least amount of subscribers"
   ]
  },
  {
   "cell_type": "code",
   "execution_count": 335,
   "id": "53ef4031",
   "metadata": {},
   "outputs": [
    {
     "data": {
      "image/png": "[encoded data removed]",
      "text/plain": [
       "<Figure size 432x288 with 1 Axes>"
      ]
     },
     "metadata": {
      "needs_background": "light"
     },
     "output_type": "display_data"
    }
   ],
   "source": [
    "sns.countplot(data=bank,x='default',hue='y')\n",
    "plt.title('Term Deposit Subscription Conditioned by Credit Defaulters')\n",
    "plt.show()"
   ]
  },
  {
   "cell_type": "markdown",
   "id": "ac84f8fc",
   "metadata": {},
   "source": [
    "Early analysis shows that there is a correlation between those that have taken credit and subscription to a term deposit. Majority of the customers that did not default in credit successfully subscribed to a term deposit, compared to the credit defaulters"
   ]
  },
  {
   "cell_type": "code",
   "execution_count": 336,
   "id": "e02802ef",
   "metadata": {},
   "outputs": [
    {
     "data": {
      "image/png": "[encoded data removed]",
      "text/plain": [
       "<Figure size 432x288 with 1 Axes>"
      ]
     },
     "metadata": {
      "needs_background": "light"
     },
     "output_type": "display_data"
    }
   ],
   "source": [
    "sns.countplot(data=bank,x='loan',hue='y')\n",
    "plt.title('Loan Takers')\n",
    "plt.show()"
   ]
  },
  {
   "cell_type": "markdown",
   "id": "5c4b0469",
   "metadata": {},
   "source": [
    "Analysing the Loan Takers shows that there is a correlation between those that have taken Loans and subscription to a term deposit. Majority of the customers that did not take loans also did not subscribe to a term deposit"
   ]
  },
  {
   "cell_type": "markdown",
   "id": "97dbfc91",
   "metadata": {},
   "source": [
    "### DATA MANIPULATION"
   ]
  },
  {
   "cell_type": "markdown",
   "id": "3a24bb4e",
   "metadata": {},
   "source": [
    "#### CONVERT CATEGORICAL VARIABLES TO NUMERICAL VARIABLES"
   ]
  },
  {
   "cell_type": "code",
   "execution_count": 337,
   "id": "924d046a",
   "metadata": {},
   "outputs": [],
   "source": [
    "#import the libraries\n",
    "import pandas as pd\n",
    "from sklearn.preprocessing import LabelEncoder"
   ]
  },
  {
   "cell_type": "code",
   "execution_count": 339,
   "id": "b1ae44a2",
   "metadata": {},
   "outputs": [],
   "source": [
    "#create an instance\n",
    "label_encoder = LabelEncoder()"
   ]
  },
  {
   "cell_type": "code",
   "execution_count": 340,
   "id": "7a51681c",
   "metadata": {},
   "outputs": [],
   "source": [
    "bank['job'] = label_encoder.fit_transform(bank['job'])\n",
    "bank['marital'] = label_encoder.fit_transform(bank['marital'])\n",
    "bank['education'] = label_encoder.fit_transform(bank['education'])\n",
    "bank['default'] = label_encoder.fit_transform(bank['default'])\n",
    "bank['housing'] = label_encoder.fit_transform(bank['housing'])\n",
    "bank['loan'] = label_encoder.fit_transform(bank['loan'])\n",
    "bank['contact'] = label_encoder.fit_transform(bank['contact'])\n",
    "bank['month'] = label_encoder.fit_transform(bank['month'])\n",
    "bank['day_of_week'] = label_encoder.fit_transform(bank['day_of_week'])\n",
    "bank['poutcome'] = label_encoder.fit_transform(bank['poutcome'])\n",
    "bank['y'] = label_encoder.fit_transform(bank['y'])"
   ]
  },
  {
   "cell_type": "markdown",
   "id": "d030d1af",
   "metadata": {},
   "source": [
    "We had to use Label encoder to transform non-numerical labels to numerical labels"
   ]
  },
  {
   "cell_type": "code",
   "execution_count": 353,
   "id": "39876e61",
   "metadata": {},
   "outputs": [
    {
     "name": "stdout",
     "output_type": "stream",
     "text": [
      "<class 'pandas.core.frame.DataFrame'>\n",
      "RangeIndex: 41188 entries, 0 to 41187\n",
      "Data columns (total 20 columns):\n",
      " #   Column          Non-Null Count  Dtype  \n",
      "---  ------          --------------  -----  \n",
      " 0   age             41188 non-null  int64  \n",
      " 1   job             41188 non-null  int32  \n",
      " 2   marital         41188 non-null  int32  \n",
      " 3   education       41188 non-null  int32  \n",
      " 4   default         41188 non-null  int32  \n",
      " 5   housing         41188 non-null  int32  \n",
      " 6   loan            41188 non-null  int32  \n",
      " 7   contact         41188 non-null  int32  \n",
      " 8   month           41188 non-null  int32  \n",
      " 9   day_of_week     41188 non-null  int32  \n",
      " 10  campaign        41188 non-null  int64  \n",
      " 11  pdays           41188 non-null  int64  \n",
      " 12  previous        41188 non-null  int64  \n",
      " 13  poutcome        41188 non-null  int32  \n",
      " 14  emp.var.rate    41188 non-null  float64\n",
      " 15  cons.price.idx  41188 non-null  float64\n",
      " 16  cons.conf.idx   41188 non-null  float64\n",
      " 17  euribor3m       41188 non-null  float64\n",
      " 18  nr.employed     41188 non-null  float64\n",
      " 19  y               41188 non-null  int32  \n",
      "dtypes: float64(5), int32(11), int64(4)\n",
      "memory usage: 4.6 MB\n"
     ]
    }
   ],
   "source": [
    "bank.info()"
   ]
  },
  {
   "cell_type": "markdown",
   "id": "c4605a0f",
   "metadata": {},
   "source": [
    "The bank data contains integer and float data types. We have to convert all the float data types to Integer data types"
   ]
  },
  {
   "cell_type": "markdown",
   "id": "121842ed",
   "metadata": {},
   "source": [
    "#### CONVERT FLOAT TO INTEGER DATA TYPES"
   ]
  },
  {
   "cell_type": "code",
   "execution_count": 354,
   "id": "209b4cb7",
   "metadata": {},
   "outputs": [],
   "source": [
    "#to change the emp.var.rate data type to integer\n",
    "bank['emp.var.rate'] = bank['emp.var.rate'].astype(int)"
   ]
  },
  {
   "cell_type": "code",
   "execution_count": 355,
   "id": "83cf8881",
   "metadata": {},
   "outputs": [],
   "source": [
    "#to change the cons.price.idx data type to integer\n",
    "bank['cons.price.idx'] = bank['cons.price.idx'].astype(int)"
   ]
  },
  {
   "cell_type": "code",
   "execution_count": 356,
   "id": "4e2f3ea9",
   "metadata": {},
   "outputs": [],
   "source": [
    "#to change the cons.conf.idx data type to integer\n",
    "bank['cons.conf.idx'] = bank['cons.conf.idx'].astype(int)"
   ]
  },
  {
   "cell_type": "code",
   "execution_count": 357,
   "id": "d7677549",
   "metadata": {},
   "outputs": [],
   "source": [
    "#to change the euribor3m data type to integer\n",
    "bank['euribor3m'] = bank['euribor3m'].astype(int)"
   ]
  },
  {
   "cell_type": "code",
   "execution_count": 358,
   "id": "27c8b459",
   "metadata": {},
   "outputs": [],
   "source": [
    "#to change the nr.employed data type to integer\n",
    "bank['nr.employed'] = bank['nr.employed'].astype(int)"
   ]
  },
  {
   "cell_type": "code",
   "execution_count": 359,
   "id": "38b85d64",
   "metadata": {},
   "outputs": [
    {
     "name": "stdout",
     "output_type": "stream",
     "text": [
      "<class 'pandas.core.frame.DataFrame'>\n",
      "RangeIndex: 41188 entries, 0 to 41187\n",
      "Data columns (total 20 columns):\n",
      " #   Column          Non-Null Count  Dtype\n",
      "---  ------          --------------  -----\n",
      " 0   age             41188 non-null  int64\n",
      " 1   job             41188 non-null  int32\n",
      " 2   marital         41188 non-null  int32\n",
      " 3   education       41188 non-null  int32\n",
      " 4   default         41188 non-null  int32\n",
      " 5   housing         41188 non-null  int32\n",
      " 6   loan            41188 non-null  int32\n",
      " 7   contact         41188 non-null  int32\n",
      " 8   month           41188 non-null  int32\n",
      " 9   day_of_week     41188 non-null  int32\n",
      " 10  campaign        41188 non-null  int64\n",
      " 11  pdays           41188 non-null  int64\n",
      " 12  previous        41188 non-null  int64\n",
      " 13  poutcome        41188 non-null  int32\n",
      " 14  emp.var.rate    41188 non-null  int32\n",
      " 15  cons.price.idx  41188 non-null  int32\n",
      " 16  cons.conf.idx   41188 non-null  int32\n",
      " 17  euribor3m       41188 non-null  int32\n",
      " 18  nr.employed     41188 non-null  int32\n",
      " 19  y               41188 non-null  int32\n",
      "dtypes: int32(16), int64(4)\n",
      "memory usage: 3.8 MB\n"
     ]
    }
   ],
   "source": [
    "bank.info()"
   ]
  },
  {
   "cell_type": "markdown",
   "id": "8c7ab91e",
   "metadata": {},
   "source": [
    "All the variables were changed from categorical data types to numerical data types.\n",
    "Also, variables with float data types were cast into integer data types. This includes emp.var.rate, cons. price.idx, cons.conf.idx, euribor3m, and nr. employed variables. \n"
   ]
  },
  {
   "cell_type": "code",
   "execution_count": 360,
   "id": "015315d3",
   "metadata": {},
   "outputs": [
    {
     "data": {
      "text/plain": [
       "age               int64\n",
       "job               int32\n",
       "marital           int32\n",
       "education         int32\n",
       "default           int32\n",
       "housing           int32\n",
       "loan              int32\n",
       "contact           int32\n",
       "month             int32\n",
       "day_of_week       int32\n",
       "campaign          int64\n",
       "pdays             int64\n",
       "previous          int64\n",
       "poutcome          int32\n",
       "emp.var.rate      int32\n",
       "cons.price.idx    int32\n",
       "cons.conf.idx     int32\n",
       "euribor3m         int32\n",
       "nr.employed       int32\n",
       "y                 int32\n",
       "dtype: object"
      ]
     },
     "execution_count": 360,
     "metadata": {},
     "output_type": "execute_result"
    }
   ],
   "source": [
    "bank.dtypes #to check for the data types"
   ]
  },
  {
   "cell_type": "code",
   "execution_count": 361,
   "id": "62228137",
   "metadata": {},
   "outputs": [],
   "source": [
    "#convert all columns of the data frame to integer\n",
    "bank = bank.apply(pd.to_numeric)"
   ]
  },
  {
   "cell_type": "code",
   "execution_count": 362,
   "id": "833038d8",
   "metadata": {},
   "outputs": [
    {
     "data": {
      "text/plain": [
       "age               int64\n",
       "job               int32\n",
       "marital           int32\n",
       "education         int32\n",
       "default           int32\n",
       "housing           int32\n",
       "loan              int32\n",
       "contact           int32\n",
       "month             int32\n",
       "day_of_week       int32\n",
       "campaign          int64\n",
       "pdays             int64\n",
       "previous          int64\n",
       "poutcome          int32\n",
       "emp.var.rate      int32\n",
       "cons.price.idx    int32\n",
       "cons.conf.idx     int32\n",
       "euribor3m         int32\n",
       "nr.employed       int32\n",
       "y                 int32\n",
       "dtype: object"
      ]
     },
     "execution_count": 362,
     "metadata": {},
     "output_type": "execute_result"
    }
   ],
   "source": [
    "bank.dtypes #to check for the data types"
   ]
  },
  {
   "cell_type": "code",
   "execution_count": 363,
   "id": "8d47cebf",
   "metadata": {},
   "outputs": [
    {
     "data": {
      "text/html": [
       "<div>\n",
       "<style scoped>\n",
       "    .dataframe tbody tr th:only-of-type {\n",
       "        vertical-align: middle;\n",
       "    }\n",
       "\n",
       "    .dataframe tbody tr th {\n",
       "        vertical-align: top;\n",
       "    }\n",
       "\n",
       "    .dataframe thead th {\n",
       "        text-align: right;\n",
       "    }\n",
       "</style>\n",
       "<table border=\"1\" class=\"dataframe\">\n",
       "  <thead>\n",
       "    <tr style=\"text-align: right;\">\n",
       "      <th></th>\n",
       "      <th>age</th>\n",
       "      <th>job</th>\n",
       "      <th>marital</th>\n",
       "      <th>education</th>\n",
       "      <th>default</th>\n",
       "      <th>housing</th>\n",
       "      <th>loan</th>\n",
       "      <th>contact</th>\n",
       "      <th>month</th>\n",
       "      <th>day_of_week</th>\n",
       "      <th>campaign</th>\n",
       "      <th>pdays</th>\n",
       "      <th>previous</th>\n",
       "      <th>poutcome</th>\n",
       "      <th>emp.var.rate</th>\n",
       "      <th>cons.price.idx</th>\n",
       "      <th>cons.conf.idx</th>\n",
       "      <th>euribor3m</th>\n",
       "      <th>nr.employed</th>\n",
       "      <th>y</th>\n",
       "    </tr>\n",
       "  </thead>\n",
       "  <tbody>\n",
       "    <tr>\n",
       "      <th>0</th>\n",
       "      <td>56</td>\n",
       "      <td>3</td>\n",
       "      <td>1</td>\n",
       "      <td>0</td>\n",
       "      <td>0</td>\n",
       "      <td>0</td>\n",
       "      <td>1</td>\n",
       "      <td>1</td>\n",
       "      <td>6</td>\n",
       "      <td>1</td>\n",
       "      <td>1</td>\n",
       "      <td>999</td>\n",
       "      <td>0</td>\n",
       "      <td>1</td>\n",
       "      <td>1</td>\n",
       "      <td>93</td>\n",
       "      <td>-36</td>\n",
       "      <td>4</td>\n",
       "      <td>5191</td>\n",
       "      <td>0</td>\n",
       "    </tr>\n",
       "    <tr>\n",
       "      <th>1</th>\n",
       "      <td>57</td>\n",
       "      <td>7</td>\n",
       "      <td>1</td>\n",
       "      <td>3</td>\n",
       "      <td>1</td>\n",
       "      <td>0</td>\n",
       "      <td>1</td>\n",
       "      <td>1</td>\n",
       "      <td>6</td>\n",
       "      <td>1</td>\n",
       "      <td>1</td>\n",
       "      <td>999</td>\n",
       "      <td>0</td>\n",
       "      <td>1</td>\n",
       "      <td>1</td>\n",
       "      <td>93</td>\n",
       "      <td>-36</td>\n",
       "      <td>4</td>\n",
       "      <td>5191</td>\n",
       "      <td>0</td>\n",
       "    </tr>\n",
       "    <tr>\n",
       "      <th>2</th>\n",
       "      <td>37</td>\n",
       "      <td>7</td>\n",
       "      <td>1</td>\n",
       "      <td>3</td>\n",
       "      <td>0</td>\n",
       "      <td>2</td>\n",
       "      <td>1</td>\n",
       "      <td>1</td>\n",
       "      <td>6</td>\n",
       "      <td>1</td>\n",
       "      <td>1</td>\n",
       "      <td>999</td>\n",
       "      <td>0</td>\n",
       "      <td>1</td>\n",
       "      <td>1</td>\n",
       "      <td>93</td>\n",
       "      <td>-36</td>\n",
       "      <td>4</td>\n",
       "      <td>5191</td>\n",
       "      <td>0</td>\n",
       "    </tr>\n",
       "    <tr>\n",
       "      <th>3</th>\n",
       "      <td>40</td>\n",
       "      <td>0</td>\n",
       "      <td>1</td>\n",
       "      <td>1</td>\n",
       "      <td>0</td>\n",
       "      <td>0</td>\n",
       "      <td>1</td>\n",
       "      <td>1</td>\n",
       "      <td>6</td>\n",
       "      <td>1</td>\n",
       "      <td>1</td>\n",
       "      <td>999</td>\n",
       "      <td>0</td>\n",
       "      <td>1</td>\n",
       "      <td>1</td>\n",
       "      <td>93</td>\n",
       "      <td>-36</td>\n",
       "      <td>4</td>\n",
       "      <td>5191</td>\n",
       "      <td>0</td>\n",
       "    </tr>\n",
       "    <tr>\n",
       "      <th>4</th>\n",
       "      <td>56</td>\n",
       "      <td>7</td>\n",
       "      <td>1</td>\n",
       "      <td>3</td>\n",
       "      <td>0</td>\n",
       "      <td>0</td>\n",
       "      <td>1</td>\n",
       "      <td>1</td>\n",
       "      <td>6</td>\n",
       "      <td>1</td>\n",
       "      <td>1</td>\n",
       "      <td>999</td>\n",
       "      <td>0</td>\n",
       "      <td>1</td>\n",
       "      <td>1</td>\n",
       "      <td>93</td>\n",
       "      <td>-36</td>\n",
       "      <td>4</td>\n",
       "      <td>5191</td>\n",
       "      <td>0</td>\n",
       "    </tr>\n",
       "  </tbody>\n",
       "</table>\n",
       "</div>"
      ],
      "text/plain": [
       "   age  job  marital  education  default  housing  loan  contact  month  \\\n",
       "0   56    3        1          0        0        0     1        1      6   \n",
       "1   57    7        1          3        1        0     1        1      6   \n",
       "2   37    7        1          3        0        2     1        1      6   \n",
       "3   40    0        1          1        0        0     1        1      6   \n",
       "4   56    7        1          3        0        0     1        1      6   \n",
       "\n",
       "   day_of_week  campaign  pdays  previous  poutcome  emp.var.rate  \\\n",
       "0            1         1    999         0         1             1   \n",
       "1            1         1    999         0         1             1   \n",
       "2            1         1    999         0         1             1   \n",
       "3            1         1    999         0         1             1   \n",
       "4            1         1    999         0         1             1   \n",
       "\n",
       "   cons.price.idx  cons.conf.idx  euribor3m  nr.employed  y  \n",
       "0              93            -36          4         5191  0  \n",
       "1              93            -36          4         5191  0  \n",
       "2              93            -36          4         5191  0  \n",
       "3              93            -36          4         5191  0  \n",
       "4              93            -36          4         5191  0  "
      ]
     },
     "execution_count": 363,
     "metadata": {},
     "output_type": "execute_result"
    }
   ],
   "source": [
    "bank.head()"
   ]
  },
  {
   "cell_type": "code",
   "execution_count": 456,
   "id": "a7dc3759",
   "metadata": {},
   "outputs": [],
   "source": [
    "#save the data as csv\n",
    "bank.to_csv('bank.csv',index=False)"
   ]
  },
  {
   "cell_type": "markdown",
   "id": "9882062c",
   "metadata": {},
   "source": [
    "The cleaned and manipulated data was saved as a csv file"
   ]
  },
  {
   "cell_type": "markdown",
   "id": "6997028f",
   "metadata": {},
   "source": [
    "### MODELLING"
   ]
  },
  {
   "cell_type": "code",
   "execution_count": 460,
   "id": "dd13e22a",
   "metadata": {},
   "outputs": [],
   "source": [
    "#load  the libraries\n",
    "import pandas as pd\n",
    "from sklearn.model_selection import train_test_split\n",
    "from sklearn.preprocessing import MinMaxScaler\n",
    "from sklearn.linear_model import LogisticRegression"
   ]
  },
  {
   "cell_type": "code",
   "execution_count": 461,
   "id": "13d3d8f8",
   "metadata": {},
   "outputs": [],
   "source": [
    "#load the data\n",
    "url = 'bank.csv'\n",
    "bank = pd.read_csv(url)"
   ]
  },
  {
   "cell_type": "code",
   "execution_count": 367,
   "id": "3cce596b",
   "metadata": {},
   "outputs": [
    {
     "data": {
      "text/html": [
       "<div>\n",
       "<style scoped>\n",
       "    .dataframe tbody tr th:only-of-type {\n",
       "        vertical-align: middle;\n",
       "    }\n",
       "\n",
       "    .dataframe tbody tr th {\n",
       "        vertical-align: top;\n",
       "    }\n",
       "\n",
       "    .dataframe thead th {\n",
       "        text-align: right;\n",
       "    }\n",
       "</style>\n",
       "<table border=\"1\" class=\"dataframe\">\n",
       "  <thead>\n",
       "    <tr style=\"text-align: right;\">\n",
       "      <th></th>\n",
       "      <th>age</th>\n",
       "      <th>job</th>\n",
       "      <th>marital</th>\n",
       "      <th>education</th>\n",
       "      <th>default</th>\n",
       "      <th>housing</th>\n",
       "      <th>loan</th>\n",
       "      <th>contact</th>\n",
       "      <th>month</th>\n",
       "      <th>day_of_week</th>\n",
       "      <th>campaign</th>\n",
       "      <th>pdays</th>\n",
       "      <th>previous</th>\n",
       "      <th>poutcome</th>\n",
       "      <th>emp.var.rate</th>\n",
       "      <th>cons.price.idx</th>\n",
       "      <th>cons.conf.idx</th>\n",
       "      <th>euribor3m</th>\n",
       "      <th>nr.employed</th>\n",
       "      <th>y</th>\n",
       "    </tr>\n",
       "  </thead>\n",
       "  <tbody>\n",
       "    <tr>\n",
       "      <th>0</th>\n",
       "      <td>56</td>\n",
       "      <td>3</td>\n",
       "      <td>1</td>\n",
       "      <td>0</td>\n",
       "      <td>0</td>\n",
       "      <td>0</td>\n",
       "      <td>1</td>\n",
       "      <td>1</td>\n",
       "      <td>6</td>\n",
       "      <td>1</td>\n",
       "      <td>1</td>\n",
       "      <td>999</td>\n",
       "      <td>0</td>\n",
       "      <td>1</td>\n",
       "      <td>1</td>\n",
       "      <td>93</td>\n",
       "      <td>-36</td>\n",
       "      <td>4</td>\n",
       "      <td>5191</td>\n",
       "      <td>0</td>\n",
       "    </tr>\n",
       "    <tr>\n",
       "      <th>1</th>\n",
       "      <td>57</td>\n",
       "      <td>7</td>\n",
       "      <td>1</td>\n",
       "      <td>3</td>\n",
       "      <td>1</td>\n",
       "      <td>0</td>\n",
       "      <td>1</td>\n",
       "      <td>1</td>\n",
       "      <td>6</td>\n",
       "      <td>1</td>\n",
       "      <td>1</td>\n",
       "      <td>999</td>\n",
       "      <td>0</td>\n",
       "      <td>1</td>\n",
       "      <td>1</td>\n",
       "      <td>93</td>\n",
       "      <td>-36</td>\n",
       "      <td>4</td>\n",
       "      <td>5191</td>\n",
       "      <td>0</td>\n",
       "    </tr>\n",
       "    <tr>\n",
       "      <th>2</th>\n",
       "      <td>37</td>\n",
       "      <td>7</td>\n",
       "      <td>1</td>\n",
       "      <td>3</td>\n",
       "      <td>0</td>\n",
       "      <td>2</td>\n",
       "      <td>1</td>\n",
       "      <td>1</td>\n",
       "      <td>6</td>\n",
       "      <td>1</td>\n",
       "      <td>1</td>\n",
       "      <td>999</td>\n",
       "      <td>0</td>\n",
       "      <td>1</td>\n",
       "      <td>1</td>\n",
       "      <td>93</td>\n",
       "      <td>-36</td>\n",
       "      <td>4</td>\n",
       "      <td>5191</td>\n",
       "      <td>0</td>\n",
       "    </tr>\n",
       "    <tr>\n",
       "      <th>3</th>\n",
       "      <td>40</td>\n",
       "      <td>0</td>\n",
       "      <td>1</td>\n",
       "      <td>1</td>\n",
       "      <td>0</td>\n",
       "      <td>0</td>\n",
       "      <td>1</td>\n",
       "      <td>1</td>\n",
       "      <td>6</td>\n",
       "      <td>1</td>\n",
       "      <td>1</td>\n",
       "      <td>999</td>\n",
       "      <td>0</td>\n",
       "      <td>1</td>\n",
       "      <td>1</td>\n",
       "      <td>93</td>\n",
       "      <td>-36</td>\n",
       "      <td>4</td>\n",
       "      <td>5191</td>\n",
       "      <td>0</td>\n",
       "    </tr>\n",
       "    <tr>\n",
       "      <th>4</th>\n",
       "      <td>56</td>\n",
       "      <td>7</td>\n",
       "      <td>1</td>\n",
       "      <td>3</td>\n",
       "      <td>0</td>\n",
       "      <td>0</td>\n",
       "      <td>1</td>\n",
       "      <td>1</td>\n",
       "      <td>6</td>\n",
       "      <td>1</td>\n",
       "      <td>1</td>\n",
       "      <td>999</td>\n",
       "      <td>0</td>\n",
       "      <td>1</td>\n",
       "      <td>1</td>\n",
       "      <td>93</td>\n",
       "      <td>-36</td>\n",
       "      <td>4</td>\n",
       "      <td>5191</td>\n",
       "      <td>0</td>\n",
       "    </tr>\n",
       "    <tr>\n",
       "      <th>...</th>\n",
       "      <td>...</td>\n",
       "      <td>...</td>\n",
       "      <td>...</td>\n",
       "      <td>...</td>\n",
       "      <td>...</td>\n",
       "      <td>...</td>\n",
       "      <td>...</td>\n",
       "      <td>...</td>\n",
       "      <td>...</td>\n",
       "      <td>...</td>\n",
       "      <td>...</td>\n",
       "      <td>...</td>\n",
       "      <td>...</td>\n",
       "      <td>...</td>\n",
       "      <td>...</td>\n",
       "      <td>...</td>\n",
       "      <td>...</td>\n",
       "      <td>...</td>\n",
       "      <td>...</td>\n",
       "      <td>...</td>\n",
       "    </tr>\n",
       "    <tr>\n",
       "      <th>41183</th>\n",
       "      <td>73</td>\n",
       "      <td>5</td>\n",
       "      <td>1</td>\n",
       "      <td>5</td>\n",
       "      <td>0</td>\n",
       "      <td>2</td>\n",
       "      <td>0</td>\n",
       "      <td>0</td>\n",
       "      <td>7</td>\n",
       "      <td>0</td>\n",
       "      <td>1</td>\n",
       "      <td>999</td>\n",
       "      <td>0</td>\n",
       "      <td>1</td>\n",
       "      <td>-1</td>\n",
       "      <td>94</td>\n",
       "      <td>-50</td>\n",
       "      <td>1</td>\n",
       "      <td>4963</td>\n",
       "      <td>1</td>\n",
       "    </tr>\n",
       "    <tr>\n",
       "      <th>41184</th>\n",
       "      <td>46</td>\n",
       "      <td>1</td>\n",
       "      <td>1</td>\n",
       "      <td>5</td>\n",
       "      <td>0</td>\n",
       "      <td>0</td>\n",
       "      <td>0</td>\n",
       "      <td>0</td>\n",
       "      <td>7</td>\n",
       "      <td>0</td>\n",
       "      <td>1</td>\n",
       "      <td>999</td>\n",
       "      <td>0</td>\n",
       "      <td>1</td>\n",
       "      <td>-1</td>\n",
       "      <td>94</td>\n",
       "      <td>-50</td>\n",
       "      <td>1</td>\n",
       "      <td>4963</td>\n",
       "      <td>0</td>\n",
       "    </tr>\n",
       "    <tr>\n",
       "      <th>41185</th>\n",
       "      <td>56</td>\n",
       "      <td>5</td>\n",
       "      <td>1</td>\n",
       "      <td>6</td>\n",
       "      <td>0</td>\n",
       "      <td>2</td>\n",
       "      <td>0</td>\n",
       "      <td>0</td>\n",
       "      <td>7</td>\n",
       "      <td>0</td>\n",
       "      <td>2</td>\n",
       "      <td>999</td>\n",
       "      <td>0</td>\n",
       "      <td>1</td>\n",
       "      <td>-1</td>\n",
       "      <td>94</td>\n",
       "      <td>-50</td>\n",
       "      <td>1</td>\n",
       "      <td>4963</td>\n",
       "      <td>0</td>\n",
       "    </tr>\n",
       "    <tr>\n",
       "      <th>41186</th>\n",
       "      <td>44</td>\n",
       "      <td>9</td>\n",
       "      <td>1</td>\n",
       "      <td>5</td>\n",
       "      <td>0</td>\n",
       "      <td>0</td>\n",
       "      <td>0</td>\n",
       "      <td>0</td>\n",
       "      <td>7</td>\n",
       "      <td>0</td>\n",
       "      <td>1</td>\n",
       "      <td>999</td>\n",
       "      <td>0</td>\n",
       "      <td>1</td>\n",
       "      <td>-1</td>\n",
       "      <td>94</td>\n",
       "      <td>-50</td>\n",
       "      <td>1</td>\n",
       "      <td>4963</td>\n",
       "      <td>1</td>\n",
       "    </tr>\n",
       "    <tr>\n",
       "      <th>41187</th>\n",
       "      <td>74</td>\n",
       "      <td>5</td>\n",
       "      <td>1</td>\n",
       "      <td>5</td>\n",
       "      <td>0</td>\n",
       "      <td>2</td>\n",
       "      <td>0</td>\n",
       "      <td>0</td>\n",
       "      <td>7</td>\n",
       "      <td>0</td>\n",
       "      <td>3</td>\n",
       "      <td>999</td>\n",
       "      <td>1</td>\n",
       "      <td>0</td>\n",
       "      <td>-1</td>\n",
       "      <td>94</td>\n",
       "      <td>-50</td>\n",
       "      <td>1</td>\n",
       "      <td>4963</td>\n",
       "      <td>0</td>\n",
       "    </tr>\n",
       "  </tbody>\n",
       "</table>\n",
       "<p>41188 rows × 20 columns</p>\n",
       "</div>"
      ],
      "text/plain": [
       "       age  job  marital  education  default  housing  loan  contact  month  \\\n",
       "0       56    3        1          0        0        0     1        1      6   \n",
       "1       57    7        1          3        1        0     1        1      6   \n",
       "2       37    7        1          3        0        2     1        1      6   \n",
       "3       40    0        1          1        0        0     1        1      6   \n",
       "4       56    7        1          3        0        0     1        1      6   \n",
       "...    ...  ...      ...        ...      ...      ...   ...      ...    ...   \n",
       "41183   73    5        1          5        0        2     0        0      7   \n",
       "41184   46    1        1          5        0        0     0        0      7   \n",
       "41185   56    5        1          6        0        2     0        0      7   \n",
       "41186   44    9        1          5        0        0     0        0      7   \n",
       "41187   74    5        1          5        0        2     0        0      7   \n",
       "\n",
       "       day_of_week  campaign  pdays  previous  poutcome  emp.var.rate  \\\n",
       "0                1         1    999         0         1             1   \n",
       "1                1         1    999         0         1             1   \n",
       "2                1         1    999         0         1             1   \n",
       "3                1         1    999         0         1             1   \n",
       "4                1         1    999         0         1             1   \n",
       "...            ...       ...    ...       ...       ...           ...   \n",
       "41183            0         1    999         0         1            -1   \n",
       "41184            0         1    999         0         1            -1   \n",
       "41185            0         2    999         0         1            -1   \n",
       "41186            0         1    999         0         1            -1   \n",
       "41187            0         3    999         1         0            -1   \n",
       "\n",
       "       cons.price.idx  cons.conf.idx  euribor3m  nr.employed  y  \n",
       "0                  93            -36          4         5191  0  \n",
       "1                  93            -36          4         5191  0  \n",
       "2                  93            -36          4         5191  0  \n",
       "3                  93            -36          4         5191  0  \n",
       "4                  93            -36          4         5191  0  \n",
       "...               ...            ...        ...          ... ..  \n",
       "41183              94            -50          1         4963  1  \n",
       "41184              94            -50          1         4963  0  \n",
       "41185              94            -50          1         4963  0  \n",
       "41186              94            -50          1         4963  1  \n",
       "41187              94            -50          1         4963  0  \n",
       "\n",
       "[41188 rows x 20 columns]"
      ]
     },
     "execution_count": 367,
     "metadata": {},
     "output_type": "execute_result"
    }
   ],
   "source": [
    "bank"
   ]
  },
  {
   "cell_type": "markdown",
   "id": "9b7507b5",
   "metadata": {},
   "source": [
    "The new data has 41188 rows and 20 features, after dropping the duration column"
   ]
  },
  {
   "cell_type": "markdown",
   "id": "80366826",
   "metadata": {},
   "source": [
    "### LOGISTICS REGRESSION"
   ]
  },
  {
   "cell_type": "code",
   "execution_count": 471,
   "id": "e7d9ba75",
   "metadata": {},
   "outputs": [],
   "source": [
    "#create a function that will load the data, splits the data into training and test sets, and normalize the data\n",
    "def get_data(url,target):\n",
    "#load the data\n",
    "    bank = pd.read_csv(url)\n",
    "#get the features and the target\n",
    "    features = bank.drop(target,axis=1).values\n",
    "    label = bank[target].values\n",
    "#split the data\n",
    "    x_train,x_test,y_train,y_test = train_test_split(features,label,test_size=0.2,random_state=0)\n",
    "#normalize the data\n",
    "    scaler=MinMaxScaler()\n",
    "    x_train_scaler= scaler.fit_transform(x_train)\n",
    "    x_test_scaler = scaler.transform(x_test)\n",
    "\n",
    "    return x_train_scaler,x_test_scaler,y_train,y_test\n",
    "\n"
   ]
  },
  {
   "cell_type": "code",
   "execution_count": 463,
   "id": "5cee8a0c",
   "metadata": {},
   "outputs": [
    {
     "data": {
      "text/plain": [
       "((32950, 19), (8238, 19), (32950,))"
      ]
     },
     "execution_count": 463,
     "metadata": {},
     "output_type": "execute_result"
    }
   ],
   "source": [
    "x_train_scaler.shape,x_test_scaler.shape,y_train.shape"
   ]
  },
  {
   "cell_type": "code",
   "execution_count": 472,
   "id": "cb06e4e7",
   "metadata": {},
   "outputs": [],
   "source": [
    "#calling the function\n",
    "x_train_scaler,x_test_scaler,y_train,y_test = get_data(url,'y')"
   ]
  },
  {
   "cell_type": "code",
   "execution_count": 473,
   "id": "1aba2dbe",
   "metadata": {},
   "outputs": [],
   "source": [
    "y=bank['y']"
   ]
  },
  {
   "cell_type": "markdown",
   "id": "a84b6122",
   "metadata": {},
   "source": [
    "#### Model the Data"
   ]
  },
  {
   "cell_type": "code",
   "execution_count": 466,
   "id": "0a958600",
   "metadata": {},
   "outputs": [],
   "source": [
    "#function to model the data\n",
    "def modelling(model_name):\n",
    "#create an instance of the model    \n",
    "    model = model_name\n",
    "#train the model\n",
    "    model.fit(x_train_scaler,y_train)\n",
    "#get the training and testing accuracy \n",
    "    train_acc = model.score(x_train_scaler,y_train)\n",
    "    test_acc = model.score(x_test_scaler,y_test)\n",
    "#return the training and testing accuracy    \n",
    "    return train_acc,test_acc"
   ]
  },
  {
   "cell_type": "code",
   "execution_count": 467,
   "id": "5c2f0d7a",
   "metadata": {},
   "outputs": [],
   "source": [
    "#calling the function\n",
    "train_acc,test_acc = modelling(LogisticRegression())"
   ]
  },
  {
   "cell_type": "code",
   "execution_count": 374,
   "id": "675c009c",
   "metadata": {},
   "outputs": [
    {
     "data": {
      "text/plain": [
       "(0.9004248861911988, 0.8999757222626851)"
      ]
     },
     "execution_count": 374,
     "metadata": {},
     "output_type": "execute_result"
    }
   ],
   "source": [
    "train_acc,test_acc"
   ]
  },
  {
   "cell_type": "markdown",
   "id": "c4d70adb",
   "metadata": {},
   "source": [
    "- It generalizes well (doesn't overfit or underfit)"
   ]
  },
  {
   "cell_type": "markdown",
   "id": "be2c4396",
   "metadata": {},
   "source": [
    "#### Regularization of the model"
   ]
  },
  {
   "cell_type": "code",
   "execution_count": 375,
   "id": "e9ba522c",
   "metadata": {},
   "outputs": [],
   "source": [
    "#regularize the model using different values of c\n",
    "c_values = [0.1,0.2,0.3,0.5,0.8,1.0]\n",
    "#function to regularize the model\n",
    "def log_reg(c_values,penalty=\"l1\",solver=\"liblinear\"):\n",
    "    train_accuracy,test_accuracy = [],[] #empty list to save the result\n",
    "    for val in c_values:\n",
    "        train_logreg,test_logreg = modelling(LogisticRegression(C=val))\n",
    "        \n",
    "        train_accuracy.append(train_logreg)\n",
    "        test_accuracy.append(test_logreg)\n",
    "#return the training and testing accuracy        \n",
    "    return train_accuracy,test_accuracy    \n",
    "        "
   ]
  },
  {
   "cell_type": "code",
   "execution_count": 376,
   "id": "8c276b22",
   "metadata": {},
   "outputs": [],
   "source": [
    "#calling the function\n",
    "train_accuracy,test_accuracy = log_reg(c_values,penalty=\"l1\",solver=\"liblinear\")"
   ]
  },
  {
   "cell_type": "markdown",
   "id": "86e3bbda",
   "metadata": {},
   "source": [
    "Further regularization of the model was carried out to help with the performance of the model, by using a hyperparameter tuning c-values. \n",
    "The c-values of 0.1, 0.2, 0.3, 0.5, 0.8, and 1.0 were used and the model generalized well in all the c-value\n",
    "A plot of the c-values against the accuracies shows that the testing accuracy went above the training accuracy in all the c-values. The testing accuracy went highest at a c-value of 0.2. A distance function (l1) was used. Because an l1 penalty was used, liblinear was applied as the solver. If the penalty was l2, lbgs or saga would be applied as the solver. This was used to build the model."
   ]
  },
  {
   "cell_type": "code",
   "execution_count": 377,
   "id": "3711a7f5",
   "metadata": {},
   "outputs": [
    {
     "data": {
      "text/plain": [
       "[0.9001213960546283,\n",
       " 0.9001820940819424,\n",
       " 0.9002427921092564,\n",
       " 0.9004248861911988,\n",
       " 0.9004855842185129,\n",
       " 0.9004248861911988]"
      ]
     },
     "execution_count": 377,
     "metadata": {},
     "output_type": "execute_result"
    }
   ],
   "source": [
    "train_accuracy"
   ]
  },
  {
   "cell_type": "code",
   "execution_count": 378,
   "id": "b1a6d801",
   "metadata": {},
   "outputs": [
    {
     "data": {
      "text/plain": [
       "[0.899368778829813,\n",
       " 0.899368778829813,\n",
       " 0.8994901675163874,\n",
       " 0.8997329448895363,\n",
       " 0.8998543335761107,\n",
       " 0.8999757222626851]"
      ]
     },
     "execution_count": 378,
     "metadata": {},
     "output_type": "execute_result"
    }
   ],
   "source": [
    "test_accuracy"
   ]
  },
  {
   "cell_type": "markdown",
   "id": "f41180c2",
   "metadata": {},
   "source": [
    "#### PLOTTING"
   ]
  },
  {
   "cell_type": "code",
   "execution_count": 379,
   "id": "6f910e92",
   "metadata": {},
   "outputs": [],
   "source": [
    "import matplotlib.pyplot as plt\n",
    "%matplotlib inline"
   ]
  },
  {
   "cell_type": "code",
   "execution_count": 380,
   "id": "a3f0079f",
   "metadata": {},
   "outputs": [
    {
     "data": {
      "image/png": "[encoded data removed]",
      "text/plain": [
       "<Figure size 432x288 with 1 Axes>"
      ]
     },
     "metadata": {
      "needs_background": "light"
     },
     "output_type": "display_data"
    }
   ],
   "source": [
    "#adding visualisations\n",
    "plt.plot(c_values,train_accuracy,label=\"Training Accuracy\")\n",
    "plt.plot(c_values,test_accuracy,label=\"Testing Accuracy\")\n",
    "plt.legend()\n",
    "plt.xlabel(\"Values of C\")\n",
    "plt.ylabel(\"Accuracy\")\n",
    "plt.show()"
   ]
  },
  {
   "cell_type": "markdown",
   "id": "6b69cfba",
   "metadata": {},
   "source": [
    "From the plot it shows that the training went above the testing in all the c-values. But it was closest at 0.5 and 0.8. let us use the c-values for 0.5 and 0.8 and see which one fits more"
   ]
  },
  {
   "cell_type": "code",
   "execution_count": 383,
   "id": "8152aee0",
   "metadata": {},
   "outputs": [],
   "source": [
    "train_logreg1,test_logreg1 = modelling(LogisticRegression(C=0.5,penalty=\"l1\",solver=\"liblinear\"))"
   ]
  },
  {
   "cell_type": "code",
   "execution_count": 384,
   "id": "6ff0183c",
   "metadata": {},
   "outputs": [],
   "source": [
    "train_logreg2,test_logreg2 = modelling(LogisticRegression(C=0.8,penalty=\"l1\",solver=\"liblinear\"))"
   ]
  },
  {
   "cell_type": "code",
   "execution_count": 385,
   "id": "9ce393a8",
   "metadata": {},
   "outputs": [
    {
     "data": {
      "text/plain": [
       "(0.900546282245827, 0.8999757222626851)"
      ]
     },
     "execution_count": 385,
     "metadata": {},
     "output_type": "execute_result"
    }
   ],
   "source": [
    "train_logreg1,test_logreg1"
   ]
  },
  {
   "cell_type": "code",
   "execution_count": 386,
   "id": "87053fbc",
   "metadata": {},
   "outputs": [
    {
     "data": {
      "text/plain": [
       "(0.900546282245827, 0.8997329448895363)"
      ]
     },
     "execution_count": 386,
     "metadata": {},
     "output_type": "execute_result"
    }
   ],
   "source": [
    "train_logreg2,test_logreg2"
   ]
  },
  {
   "cell_type": "markdown",
   "id": "d093411f",
   "metadata": {},
   "source": [
    "For further regularization to help with the performance of the model, a distance function (l1) was used. \n",
    "Because an l1 penalty was used, liblinear was applied as the solver.\n",
    "If the penalty was l2, lbgs or saga would be applied as the solver"
   ]
  },
  {
   "cell_type": "markdown",
   "id": "b547adbd",
   "metadata": {},
   "source": [
    "Approximated values of the training accuracy shows that the model generalises well, in other words it does not overfit or underfit"
   ]
  },
  {
   "cell_type": "markdown",
   "id": "cc906136",
   "metadata": {},
   "source": [
    "#### Model Prediction"
   ]
  },
  {
   "cell_type": "code",
   "execution_count": 387,
   "id": "f000d104",
   "metadata": {},
   "outputs": [],
   "source": [
    "#create an instance of the model\n",
    "logreg = LogisticRegression(C=0.2,penalty=\"l1\",solver=\"liblinear\")\n",
    "\n",
    "#fit the model\n",
    "logreg.fit(x_train_scaler,y_train)\n",
    "\n",
    "#make predictions on the test data\n",
    "prediction = logreg.predict(x_test_scaler)\n",
    "\n"
   ]
  },
  {
   "cell_type": "code",
   "execution_count": 388,
   "id": "591c12c0",
   "metadata": {},
   "outputs": [
    {
     "data": {
      "text/plain": [
       "array([0, 0, 0, ..., 0, 0, 0], dtype=int64)"
      ]
     },
     "execution_count": 388,
     "metadata": {},
     "output_type": "execute_result"
    }
   ],
   "source": [
    "prediction"
   ]
  },
  {
   "cell_type": "markdown",
   "id": "6eb8b2f7",
   "metadata": {},
   "source": [
    "### PERFORMANCE METRICS FOR LOGISTIC REGRESSION"
   ]
  },
  {
   "cell_type": "code",
   "execution_count": 389,
   "id": "8fdd3013",
   "metadata": {},
   "outputs": [],
   "source": [
    "#import the libraries\n",
    "from sklearn.metrics import recall_score,precision_score,f1_score,confusion_matrix,classification_report"
   ]
  },
  {
   "cell_type": "markdown",
   "id": "4aadcbab",
   "metadata": {},
   "source": [
    "#### Confusion Matrix"
   ]
  },
  {
   "cell_type": "code",
   "execution_count": 390,
   "id": "9a2b7391",
   "metadata": {},
   "outputs": [
    {
     "data": {
      "text/plain": [
       "array([[7232,   87],\n",
       "       [ 741,  178]], dtype=int64)"
      ]
     },
     "execution_count": 390,
     "metadata": {},
     "output_type": "execute_result"
    }
   ],
   "source": [
    "#apply the confusion matrix function\n",
    "conf = confusion_matrix(y_test,prediction)\n",
    "\n",
    "conf"
   ]
  },
  {
   "cell_type": "markdown",
   "id": "6d26a9be",
   "metadata": {},
   "source": [
    "True Positive - This implies that 178 customers subscribed to term deposit and the model correctly predicts that the customers subscribed to term deposit"
   ]
  },
  {
   "cell_type": "markdown",
   "id": "b9908b78",
   "metadata": {},
   "source": [
    "True Negative - 7232 customers did not subscribe to term deposit and the model correctly predicts that the customers did not subscribe to term deposit"
   ]
  },
  {
   "cell_type": "markdown",
   "id": "a3558cf3",
   "metadata": {},
   "source": [
    "False Positive - 87 customers did not subscribe to a term deposit but the model wrongly predicts that the customers subscribed to a term deposit"
   ]
  },
  {
   "cell_type": "markdown",
   "id": "bc600e3e",
   "metadata": {},
   "source": [
    "False Negative - 741 customers subscribed to a term deposit but the model incorrectly predicts that the customer did not subscribe to a term deposit"
   ]
  },
  {
   "cell_type": "markdown",
   "id": "eb6ea337",
   "metadata": {},
   "source": [
    "#### Recall and Precision"
   ]
  },
  {
   "cell_type": "code",
   "execution_count": 391,
   "id": "1ac0abc7",
   "metadata": {},
   "outputs": [
    {
     "data": {
      "text/plain": [
       "(0.19368879216539717, 0.6716981132075471)"
      ]
     },
     "execution_count": 391,
     "metadata": {},
     "output_type": "execute_result"
    }
   ],
   "source": [
    "#apply the recall and precision functions\n",
    "recall = recall_score(y_test,prediction)\n",
    "\n",
    "precision = precision_score(y_test,prediction)\n",
    "\n",
    "recall,precision"
   ]
  },
  {
   "cell_type": "markdown",
   "id": "2a4829cb",
   "metadata": {},
   "source": [
    "Here, we have a recall of 19% and a precision of 67%"
   ]
  },
  {
   "cell_type": "markdown",
   "id": "28b66153",
   "metadata": {},
   "source": [
    "Recall - out of all the customers that subscribed to term deposit, the model predicted 19% as having subscribed to term deposit"
   ]
  },
  {
   "cell_type": "markdown",
   "id": "e05ccc58",
   "metadata": {},
   "source": [
    "Precision - out of all the customers that were predicted as having subscribed to a term deposit,the model correctly predicted 67%"
   ]
  },
  {
   "cell_type": "markdown",
   "id": "6bfeff9b",
   "metadata": {},
   "source": [
    "#### F1_Score"
   ]
  },
  {
   "cell_type": "code",
   "execution_count": 392,
   "id": "7e924461",
   "metadata": {},
   "outputs": [
    {
     "data": {
      "text/plain": [
       "0.3006756756756757"
      ]
     },
     "execution_count": 392,
     "metadata": {},
     "output_type": "execute_result"
    }
   ],
   "source": [
    "#apply the recall and precision functions\n",
    "f1_score = f1_score(y_test,prediction)\n",
    "\n",
    "f1_score"
   ]
  },
  {
   "cell_type": "markdown",
   "id": "1451e1b3",
   "metadata": {},
   "source": [
    "We have an F1 score of 30%"
   ]
  },
  {
   "cell_type": "code",
   "execution_count": 393,
   "id": "40e0157a",
   "metadata": {},
   "outputs": [
    {
     "name": "stdout",
     "output_type": "stream",
     "text": [
      "classification report : \n",
      "              precision    recall  f1-score   support\n",
      "\n",
      "           0       0.91      0.99      0.95      7319\n",
      "           1       0.67      0.19      0.30       919\n",
      "\n",
      "    accuracy                           0.90      8238\n",
      "   macro avg       0.79      0.59      0.62      8238\n",
      "weighted avg       0.88      0.90      0.87      8238\n",
      "\n"
     ]
    }
   ],
   "source": [
    "#apply the classification report function\n",
    "class_rep = classification_report(y_test,prediction)\n",
    "\n",
    "print (\"classification report : \\n{}\".format(class_rep))"
   ]
  },
  {
   "cell_type": "markdown",
   "id": "7b0921d2",
   "metadata": {},
   "source": [
    "A summary of the perfomance metrics for this model, which includes the accuracy, precision, recall and f1-score"
   ]
  },
  {
   "cell_type": "markdown",
   "id": "3288ed8b",
   "metadata": {},
   "source": [
    "#### K-NEAREST NEIGHBOR"
   ]
  },
  {
   "cell_type": "code",
   "execution_count": 394,
   "id": "0cd35053",
   "metadata": {},
   "outputs": [],
   "source": [
    "from sklearn.neighbors import KNeighborsClassifier"
   ]
  },
  {
   "cell_type": "code",
   "execution_count": 395,
   "id": "f9ac1833",
   "metadata": {},
   "outputs": [],
   "source": [
    "#calling the function to model the data\n",
    "train_acc,test_acc = modelling(KNeighborsClassifier(n_neighbors=1))"
   ]
  },
  {
   "cell_type": "code",
   "execution_count": 396,
   "id": "7be7654e",
   "metadata": {
    "scrolled": true
   },
   "outputs": [
    {
     "name": "stdout",
     "output_type": "stream",
     "text": [
      "Train Accuracy:0.993\n",
      "Test Accuracy:0.850\n"
     ]
    }
   ],
   "source": [
    "#print the accuracies\n",
    "print(\"Train Accuracy:{:.3f}\".format(train_acc))\n",
    "print(\"Test Accuracy:{:.3f}\".format(test_acc))"
   ]
  },
  {
   "cell_type": "markdown",
   "id": "b3847727",
   "metadata": {},
   "source": [
    "This model overfits, as the training accuracy is higher than the testing accuracy"
   ]
  },
  {
   "cell_type": "markdown",
   "id": "54cd27ac",
   "metadata": {},
   "source": [
    "The hyperparameter that was used here is n-neighbors"
   ]
  },
  {
   "cell_type": "code",
   "execution_count": 397,
   "id": "0a7a2598",
   "metadata": {},
   "outputs": [],
   "source": [
    "#predict the model\n",
    "#create an instance of the model\n",
    "KNN = KNeighborsClassifier(n_neighbors=1)\n",
    "\n",
    "#fit the model\n",
    "KNN.fit(x_train_scaler,y_train)\n",
    "\n",
    "#make predictions on the test data\n",
    "prediction1 = KNN.predict(x_test_scaler)\n"
   ]
  },
  {
   "cell_type": "code",
   "execution_count": 398,
   "id": "1e9e6d9b",
   "metadata": {},
   "outputs": [
    {
     "data": {
      "text/plain": [
       "array([0, 0, 0, ..., 0, 0, 0], dtype=int64)"
      ]
     },
     "execution_count": 398,
     "metadata": {},
     "output_type": "execute_result"
    }
   ],
   "source": [
    "prediction1"
   ]
  },
  {
   "cell_type": "markdown",
   "id": "8855aa4e",
   "metadata": {},
   "source": [
    "#### Plotting"
   ]
  },
  {
   "cell_type": "markdown",
   "id": "3ed272a1",
   "metadata": {},
   "source": [
    "The hyperparameter that was used is n-neigbors . We visualise the accuracy for each neighbor"
   ]
  },
  {
   "cell_type": "code",
   "execution_count": 399,
   "id": "8a19b267",
   "metadata": {},
   "outputs": [
    {
     "data": {
      "image/png": "[encoded data removed]",
      "text/plain": [
       "<Figure size 432x288 with 1 Axes>"
      ]
     },
     "metadata": {
      "needs_background": "light"
     },
     "output_type": "display_data"
    }
   ],
   "source": [
    "num_neighbors = [5, 6, 7, 8, 9, 10, 15, 20]\n",
    "\n",
    "training_accuracy = []\n",
    "testing_accuracy = []\n",
    "\n",
    "for n_neighbors in num_neighbors:\n",
    "  knn = KNeighborsClassifier(n_neighbors=n_neighbors)\n",
    "  knn_model = knn.fit(x_train_scaler, y_train)\n",
    "\n",
    "  # append the training accuracy to the training accuracy list\n",
    "  training_accuracy.append(knn.score(x_train_scaler, y_train))\n",
    "  testing_accuracy.append(knn.score(x_test_scaler, y_test))\n",
    "\n",
    "# visualize the plot\n",
    "plt.plot(num_neighbors, training_accuracy, label = \"training accuracy\") \n",
    "plt.plot(num_neighbors, testing_accuracy, label = \"testing accuracy\")\n",
    "plt.legend(loc = 'best')\n",
    "plt.show() "
   ]
  },
  {
   "cell_type": "markdown",
   "id": "0d1beed3",
   "metadata": {},
   "source": [
    "From the plot, it shows that the model overfits in all the n-neighbours considered(in other words the training accuracy is higher than the testing accuracy). 20 n-neighbors gives a better result than the default n-neighbour value of 5"
   ]
  },
  {
   "cell_type": "code",
   "execution_count": 400,
   "id": "0e3658d2",
   "metadata": {},
   "outputs": [],
   "source": [
    "#calling the function to model the data with n-neighbors 20\n",
    "train_acc,test_acc = modelling(KNeighborsClassifier(n_neighbors=20))"
   ]
  },
  {
   "cell_type": "code",
   "execution_count": 401,
   "id": "7316083f",
   "metadata": {},
   "outputs": [
    {
     "name": "stdout",
     "output_type": "stream",
     "text": [
      "Train Accuracy:0.902\n",
      "Test Accuracy:0.898\n"
     ]
    }
   ],
   "source": [
    "#print the accuracies\n",
    "print(\"Train Accuracy:{:.3f}\".format(train_acc))\n",
    "print(\"Test Accuracy:{:.3f}\".format(test_acc))"
   ]
  },
  {
   "cell_type": "markdown",
   "id": "9250eb2c",
   "metadata": {},
   "source": [
    "So, we see the training accuracy reduced from 99.3% to 90.2% while the testing accuracy increased from 85% to 89.8% with 20 neighors. This shows that the KNN model with 20 n-neighbors performs better than the first model in predicting the term deposit subscribers"
   ]
  },
  {
   "cell_type": "code",
   "execution_count": 402,
   "id": "d5c02438",
   "metadata": {},
   "outputs": [],
   "source": [
    "#predict the model\n",
    "#create an instance of the model\n",
    "KNN = KNeighborsClassifier(n_neighbors=20)\n",
    "\n",
    "#fit the model\n",
    "KNN.fit(x_train_scaler,y_train)\n",
    "\n",
    "#make predictions on the test data\n",
    "prediction1 = KNN.predict(x_test_scaler)"
   ]
  },
  {
   "cell_type": "code",
   "execution_count": 403,
   "id": "15ed95f6",
   "metadata": {},
   "outputs": [
    {
     "data": {
      "text/plain": [
       "array([0, 0, 0, ..., 1, 0, 0], dtype=int64)"
      ]
     },
     "execution_count": 403,
     "metadata": {},
     "output_type": "execute_result"
    }
   ],
   "source": [
    "prediction1"
   ]
  },
  {
   "cell_type": "markdown",
   "id": "1f33de46",
   "metadata": {},
   "source": [
    "### PERFORMANCE METRICS FOR K-NN MODEL"
   ]
  },
  {
   "cell_type": "markdown",
   "id": "6f492d8b",
   "metadata": {},
   "source": [
    "#### Confusion Matrix"
   ]
  },
  {
   "cell_type": "code",
   "execution_count": 404,
   "id": "47a38a94",
   "metadata": {},
   "outputs": [
    {
     "data": {
      "text/plain": [
       "array([[7203,  116],\n",
       "       [ 727,  192]], dtype=int64)"
      ]
     },
     "execution_count": 404,
     "metadata": {},
     "output_type": "execute_result"
    }
   ],
   "source": [
    "#apply the confusion matrix function\n",
    "conf1 = confusion_matrix(y_test,prediction1)\n",
    "\n",
    "conf1"
   ]
  },
  {
   "cell_type": "markdown",
   "id": "c3979055",
   "metadata": {},
   "source": [
    "True Positive - This implies that 192 customers subscribed to term deposit and the model correctly predicts that the customers subscribed to term deposit"
   ]
  },
  {
   "cell_type": "markdown",
   "id": "7aa0ea2a",
   "metadata": {},
   "source": [
    "True Negative - 7203 customers did not subscribe to term deposit and the model correctly predicts that the customers did not subscribe to term deposit"
   ]
  },
  {
   "cell_type": "markdown",
   "id": "ef0e9c18",
   "metadata": {},
   "source": [
    "False Positive - 116 customers did not subscribe to a term deposit but the model wrongly predicts that the customers subscribed to a term deposit"
   ]
  },
  {
   "cell_type": "markdown",
   "id": "e0a06612",
   "metadata": {},
   "source": [
    "False Negative - 727 customers subscribed to a term deposit but the model incorrectly predicts that the customer did not subscribe to a term deposit"
   ]
  },
  {
   "cell_type": "markdown",
   "id": "c82af2d2",
   "metadata": {},
   "source": [
    "#### Recall and Precision"
   ]
  },
  {
   "cell_type": "code",
   "execution_count": 405,
   "id": "50572c2e",
   "metadata": {},
   "outputs": [
    {
     "data": {
      "text/plain": [
       "(0.2089227421109902, 0.6233766233766234)"
      ]
     },
     "execution_count": 405,
     "metadata": {},
     "output_type": "execute_result"
    }
   ],
   "source": [
    "#apply the recall and precision functions\n",
    "recall1 = recall_score(y_test,prediction1)\n",
    "\n",
    "precision1 = precision_score(y_test,prediction1)\n",
    "\n",
    "recall1,precision1"
   ]
  },
  {
   "cell_type": "markdown",
   "id": "c17a6538",
   "metadata": {},
   "source": [
    "#### Here, we have a recall of 21% and a precision of 62%"
   ]
  },
  {
   "cell_type": "markdown",
   "id": "b1081ca9",
   "metadata": {},
   "source": [
    "Recall - out of all the customers that subscribed to term deposit, the model predicted 21% as having subscribed to term deposit"
   ]
  },
  {
   "cell_type": "markdown",
   "id": "7ac70a2f",
   "metadata": {},
   "source": [
    "Precision - out of all the customers that were predicted as having subscribed to a term deposit,the model correctly predicted 62%"
   ]
  },
  {
   "cell_type": "code",
   "execution_count": 406,
   "id": "d8ec220f",
   "metadata": {},
   "outputs": [],
   "source": [
    "from sklearn.metrics import recall_score,precision_score,f1_score,confusion_matrix,classification_report"
   ]
  },
  {
   "cell_type": "markdown",
   "id": "9e88aa72",
   "metadata": {},
   "source": [
    "#### F1_Score"
   ]
  },
  {
   "cell_type": "code",
   "execution_count": 407,
   "id": "db2e16d3",
   "metadata": {},
   "outputs": [
    {
     "data": {
      "text/plain": [
       "0.3129584352078239"
      ]
     },
     "execution_count": 407,
     "metadata": {},
     "output_type": "execute_result"
    }
   ],
   "source": [
    "#apply the recall and precision functions\n",
    "f1_score1 = f1_score(y_test,prediction1)\n",
    "\n",
    "f1_score1"
   ]
  },
  {
   "cell_type": "markdown",
   "id": "6ccf8b31",
   "metadata": {},
   "source": [
    "#### We have an F1 score of 31%"
   ]
  },
  {
   "cell_type": "markdown",
   "id": "afe81ddb",
   "metadata": {},
   "source": [
    "#### Classification Report"
   ]
  },
  {
   "cell_type": "code",
   "execution_count": 408,
   "id": "a4f50b41",
   "metadata": {},
   "outputs": [
    {
     "name": "stdout",
     "output_type": "stream",
     "text": [
      "classification report : \n",
      "              precision    recall  f1-score   support\n",
      "\n",
      "           0       0.91      0.98      0.94      7319\n",
      "           1       0.62      0.21      0.31       919\n",
      "\n",
      "    accuracy                           0.90      8238\n",
      "   macro avg       0.77      0.60      0.63      8238\n",
      "weighted avg       0.88      0.90      0.87      8238\n",
      "\n"
     ]
    }
   ],
   "source": [
    "#apply the classification report function\n",
    "class_rep1 = classification_report(y_test,prediction1)\n",
    "\n",
    "print (\"classification report : \\n{}\".format(class_rep1))"
   ]
  },
  {
   "cell_type": "markdown",
   "id": "fcc882de",
   "metadata": {},
   "source": [
    "A summary of the perfomance metrics for this model, which includes the accuracy, precision, recall and f1-score"
   ]
  },
  {
   "cell_type": "markdown",
   "id": "3cf26ec3",
   "metadata": {},
   "source": [
    "### DECISION TREES"
   ]
  },
  {
   "cell_type": "code",
   "execution_count": 409,
   "id": "a6596d07",
   "metadata": {},
   "outputs": [],
   "source": [
    "from sklearn import tree\n",
    "from sklearn.tree import DecisionTreeClassifier"
   ]
  },
  {
   "cell_type": "code",
   "execution_count": 410,
   "id": "a3432d9e",
   "metadata": {},
   "outputs": [],
   "source": [
    "#calling the function to model the data\n",
    "train_acc,test_acc = modelling(DecisionTreeClassifier())"
   ]
  },
  {
   "cell_type": "code",
   "execution_count": 411,
   "id": "e27a75e0",
   "metadata": {},
   "outputs": [
    {
     "name": "stdout",
     "output_type": "stream",
     "text": [
      "Train Accuracy:0.992\n",
      "Test Accuracy:0.847\n"
     ]
    }
   ],
   "source": [
    "#print the accuracies\n",
    "print(\"Train Accuracy:{:.3f}\".format(train_acc))\n",
    "print(\"Test Accuracy:{:.3f}\".format(test_acc))"
   ]
  },
  {
   "cell_type": "markdown",
   "id": "bde54e95",
   "metadata": {},
   "source": [
    "This model overfits, this is because the training accuracy is higher than the test accuracy"
   ]
  },
  {
   "cell_type": "code",
   "execution_count": 412,
   "id": "21d08136",
   "metadata": {},
   "outputs": [],
   "source": [
    "#predict the model\n",
    "#create an instance of the model\n",
    "Dec_Tree = DecisionTreeClassifier()\n",
    "\n",
    "#fit the model\n",
    "Dec_Tree.fit(x_train_scaler,y_train)\n",
    "\n",
    "#make predictions on the test data\n",
    "prediction2 = Dec_Tree.predict(x_test_scaler)"
   ]
  },
  {
   "cell_type": "code",
   "execution_count": 413,
   "id": "6c63999c",
   "metadata": {},
   "outputs": [
    {
     "data": {
      "text/plain": [
       "array([0, 0, 0, ..., 1, 0, 0], dtype=int64)"
      ]
     },
     "execution_count": 413,
     "metadata": {},
     "output_type": "execute_result"
    }
   ],
   "source": [
    "prediction2"
   ]
  },
  {
   "cell_type": "markdown",
   "id": "e948f0a7",
   "metadata": {},
   "source": [
    "#### Plotting"
   ]
  },
  {
   "cell_type": "code",
   "execution_count": 414,
   "id": "f4568151",
   "metadata": {},
   "outputs": [
    {
     "data": {
      "image/png": "[encoded data removed]",
      "text/plain": [
       "<Figure size 1080x720 with 1 Axes>"
      ]
     },
     "metadata": {
      "needs_background": "light"
     },
     "output_type": "display_data"
    }
   ],
   "source": [
    "#set the figure size\n",
    "plt.figure(figsize=(15,10))\n",
    "#plot the tree using \"plot_tree\" method\n",
    "tree.plot_tree(Dec_Tree)\n",
    "#show the plot\n",
    "plt.show()"
   ]
  },
  {
   "cell_type": "markdown",
   "id": "32ef8532",
   "metadata": {},
   "source": [
    "#### Prunning"
   ]
  },
  {
   "cell_type": "markdown",
   "id": "fa059999",
   "metadata": {},
   "source": [
    "The hyperparameter that was used for tuning this model is the max_depth"
   ]
  },
  {
   "cell_type": "code",
   "execution_count": 415,
   "id": "05a3db45",
   "metadata": {},
   "outputs": [],
   "source": [
    "#calling the function to model the data\n",
    "train_acc,test_acc = modelling(DecisionTreeClassifier(max_depth=4))"
   ]
  },
  {
   "cell_type": "code",
   "execution_count": 418,
   "id": "13da1439",
   "metadata": {},
   "outputs": [
    {
     "name": "stdout",
     "output_type": "stream",
     "text": [
      "Train Accuracy:0.901\n",
      "Test Accuracy:0.900\n"
     ]
    }
   ],
   "source": [
    "#print the accuracies\n",
    "print(\"Train Accuracy:{:.3f}\".format(train_acc))\n",
    "print(\"Test Accuracy:{:.3f}\".format(test_acc))"
   ]
  },
  {
   "cell_type": "markdown",
   "id": "34d34eb1",
   "metadata": {},
   "source": [
    "After Prunning, the model generalises well. In other words, the training accuracy is equal to the testing accuracy "
   ]
  },
  {
   "cell_type": "markdown",
   "id": "2cfa2fb1",
   "metadata": {},
   "source": [
    "On our Decision tree, we specify a max_depth of 4 , this resulted to a model that generalises very well"
   ]
  },
  {
   "cell_type": "markdown",
   "id": "c91311f8",
   "metadata": {},
   "source": [
    "#### Model Prediction"
   ]
  },
  {
   "cell_type": "code",
   "execution_count": 419,
   "id": "fafbe869",
   "metadata": {},
   "outputs": [],
   "source": [
    "#create an instance of the model\n",
    "Dec_Tree2 = DecisionTreeClassifier(max_depth=4)\n",
    "\n",
    "#fit the model\n",
    "Dec_Tree2.fit(x_train_scaler,y_train)\n",
    "\n",
    "#make predictions on the test data\n",
    "prediction3 = Dec_Tree2.predict(x_test_scaler)"
   ]
  },
  {
   "cell_type": "code",
   "execution_count": 420,
   "id": "99702794",
   "metadata": {},
   "outputs": [
    {
     "data": {
      "text/plain": [
       "array([0, 0, 0, ..., 0, 0, 0], dtype=int64)"
      ]
     },
     "execution_count": 420,
     "metadata": {},
     "output_type": "execute_result"
    }
   ],
   "source": [
    "prediction3"
   ]
  },
  {
   "cell_type": "code",
   "execution_count": 421,
   "id": "b543bcf0",
   "metadata": {},
   "outputs": [
    {
     "data": {
      "image/png": "[encoded data removed]",
      "text/plain": [
       "<Figure size 1296x864 with 1 Axes>"
      ]
     },
     "metadata": {
      "needs_background": "light"
     },
     "output_type": "display_data"
    }
   ],
   "source": [
    "#set the figure size\n",
    "plt.figure(figsize=(18,12))\n",
    "#plot the tree using \"plot_tree\" method\n",
    "tree.plot_tree(Dec_Tree2)\n",
    "#show the plot\n",
    "plt.show()"
   ]
  },
  {
   "cell_type": "markdown",
   "id": "145413d6",
   "metadata": {},
   "source": [
    "Visualising the Decision Tree"
   ]
  },
  {
   "cell_type": "markdown",
   "id": "5ab03d96",
   "metadata": {},
   "source": [
    "### PERFORMANCE METRICS FOR DECISION TREE MODEL"
   ]
  },
  {
   "cell_type": "markdown",
   "id": "b510df2e",
   "metadata": {},
   "source": [
    "#### Confusion Matrix"
   ]
  },
  {
   "cell_type": "code",
   "execution_count": 422,
   "id": "a89bbd8b",
   "metadata": {},
   "outputs": [
    {
     "data": {
      "text/plain": [
       "array([[7234,   85],\n",
       "       [ 738,  181]], dtype=int64)"
      ]
     },
     "execution_count": 422,
     "metadata": {},
     "output_type": "execute_result"
    }
   ],
   "source": [
    "#apply the confusion matrix function\n",
    "conf3 = confusion_matrix(y_test,prediction3)\n",
    "\n",
    "conf3"
   ]
  },
  {
   "cell_type": "markdown",
   "id": "b2735d05",
   "metadata": {},
   "source": [
    "True Positive - This implies that 181 customers subscribed to term deposit and the model correctly predicts that the customers subscribed to term deposit"
   ]
  },
  {
   "cell_type": "markdown",
   "id": "a6bdbb85",
   "metadata": {},
   "source": [
    "True Negative - 7234 customers did not subscribe to term deposit and the model correctly predicts that the customers did not subscribe to term deposit"
   ]
  },
  {
   "cell_type": "markdown",
   "id": "c12b7c65",
   "metadata": {},
   "source": [
    "False Positive - 85 customers did not subscribe to a term deposit but the model wrongly predicts that the customers subscribed to a term deposit"
   ]
  },
  {
   "cell_type": "markdown",
   "id": "816dbbcd",
   "metadata": {},
   "source": [
    "False Negative - 738 customers subscribed to a term deposit but the model incorrectly predicts that the customer did not subscribe to a term deposit"
   ]
  },
  {
   "cell_type": "markdown",
   "id": "d4d71c06",
   "metadata": {},
   "source": [
    "#### Recall and Precision"
   ]
  },
  {
   "cell_type": "code",
   "execution_count": 423,
   "id": "1168f98c",
   "metadata": {},
   "outputs": [
    {
     "data": {
      "text/plain": [
       "(0.1969532100108814, 0.6804511278195489)"
      ]
     },
     "execution_count": 423,
     "metadata": {},
     "output_type": "execute_result"
    }
   ],
   "source": [
    "#apply the recall and precision functions\n",
    "recall3 = recall_score(y_test,prediction3)\n",
    "\n",
    "precision3 = precision_score(y_test,prediction3)\n",
    "\n",
    "recall3,precision3"
   ]
  },
  {
   "cell_type": "markdown",
   "id": "cc94d48c",
   "metadata": {},
   "source": [
    "#### Here, we have a recall of 20% and a precision of 68%"
   ]
  },
  {
   "cell_type": "markdown",
   "id": "9ae398e6",
   "metadata": {},
   "source": [
    "Recall - out of all the customers that subscribed to term deposit, the model predicted 20% as having subscribed to term deposit"
   ]
  },
  {
   "cell_type": "markdown",
   "id": "bdc1d9ad",
   "metadata": {},
   "source": [
    "Precision - out of all the customers that were predicted as having subscribed to a term deposit,the model correctly predicted 68%"
   ]
  },
  {
   "cell_type": "markdown",
   "id": "a00c4446",
   "metadata": {},
   "source": [
    "#### F1_Score"
   ]
  },
  {
   "cell_type": "code",
   "execution_count": 424,
   "id": "7e2d67f7",
   "metadata": {},
   "outputs": [
    {
     "data": {
      "text/plain": [
       "0.3054852320675106"
      ]
     },
     "execution_count": 424,
     "metadata": {},
     "output_type": "execute_result"
    }
   ],
   "source": [
    "#apply the recall and precision functions\n",
    "f1_score3 = f1_score(y_test,prediction3)\n",
    "\n",
    "f1_score3"
   ]
  },
  {
   "cell_type": "markdown",
   "id": "274834d6",
   "metadata": {},
   "source": [
    "#### We have an F1 score of 31%"
   ]
  },
  {
   "cell_type": "markdown",
   "id": "021f3dd3",
   "metadata": {},
   "source": [
    "#### Classification Report"
   ]
  },
  {
   "cell_type": "code",
   "execution_count": 425,
   "id": "ebe591fc",
   "metadata": {},
   "outputs": [
    {
     "name": "stdout",
     "output_type": "stream",
     "text": [
      "classification report : \n",
      "              precision    recall  f1-score   support\n",
      "\n",
      "           0       0.91      0.99      0.95      7319\n",
      "           1       0.68      0.20      0.31       919\n",
      "\n",
      "    accuracy                           0.90      8238\n",
      "   macro avg       0.79      0.59      0.63      8238\n",
      "weighted avg       0.88      0.90      0.87      8238\n",
      "\n"
     ]
    }
   ],
   "source": [
    "#apply the classification report function\n",
    "class_rep3= classification_report(y_test,prediction3)\n",
    "\n",
    "print (\"classification report : \\n{}\".format(class_rep3))"
   ]
  },
  {
   "cell_type": "markdown",
   "id": "107cbd11",
   "metadata": {},
   "source": [
    "A summary of the perfomance metrics for this model, which includes the accuracy, precision, recall and f1-score"
   ]
  },
  {
   "cell_type": "markdown",
   "id": "2501b3bf",
   "metadata": {},
   "source": [
    "#### Visualising Feature Importances for Decision Tree"
   ]
  },
  {
   "cell_type": "code",
   "execution_count": 426,
   "id": "d0f103f9",
   "metadata": {},
   "outputs": [
    {
     "data": {
      "image/png": "[encoded data removed]",
      "text/plain": [
       "<Figure size 720x360 with 1 Axes>"
      ]
     },
     "metadata": {
      "needs_background": "light"
     },
     "output_type": "display_data"
    }
   ],
   "source": [
    "plt.figure(figsize=(10,5))\n",
    "plt.plot(Dec_Tree2.feature_importances_,linestyle='dashdot', linewidth='1', color='red')\n",
    "plt.xticks(range(bank.shape[1]),bank,rotation=60)\n",
    "plt.title(\"Plot of Decision Tree Feature Importances\")\n",
    "plt.show()"
   ]
  },
  {
   "cell_type": "markdown",
   "id": "35c352f6",
   "metadata": {},
   "source": [
    "Based on the feature importance plot above, it appears that the most important features considered by the random forest model are number of employees(nr_employed) and number of days that passed by after the client was last contacted from a previous campaign (pdays) , followed closely by consumer confidence index - monthly indicator (cons.conf.idx)"
   ]
  },
  {
   "cell_type": "markdown",
   "id": "c577af3e",
   "metadata": {},
   "source": [
    "### RANDOM FOREST"
   ]
  },
  {
   "cell_type": "code",
   "execution_count": 427,
   "id": "cc0b70e0",
   "metadata": {},
   "outputs": [],
   "source": [
    "from sklearn.ensemble import RandomForestClassifier\n"
   ]
  },
  {
   "cell_type": "code",
   "execution_count": 428,
   "id": "04e78d19",
   "metadata": {},
   "outputs": [],
   "source": [
    "#calling the function to model the data\n",
    "train_acc,test_acc = modelling(RandomForestClassifier())"
   ]
  },
  {
   "cell_type": "code",
   "execution_count": 429,
   "id": "2f77297c",
   "metadata": {},
   "outputs": [
    {
     "name": "stdout",
     "output_type": "stream",
     "text": [
      "Train Accuracy:0.992\n",
      "Test Accuracy:0.891\n"
     ]
    }
   ],
   "source": [
    "#print the accuracies\n",
    "print(\"Train Accuracy:{:.3f}\".format(train_acc))\n",
    "print(\"Test Accuracy:{:.3f}\".format(test_acc))"
   ]
  },
  {
   "cell_type": "markdown",
   "id": "11cad1e8",
   "metadata": {},
   "source": [
    "#### The random forest model overfits with a training and testing accuracy of 99.2% and 89.1% respectively"
   ]
  },
  {
   "cell_type": "markdown",
   "id": "8c4ae2b1",
   "metadata": {},
   "source": [
    "##### Model Prediction"
   ]
  },
  {
   "cell_type": "code",
   "execution_count": 430,
   "id": "021d123f",
   "metadata": {},
   "outputs": [],
   "source": [
    "#create an instance of the model\n",
    "rf= RandomForestClassifier()\n",
    "\n",
    "#fit the model\n",
    "rf.fit(x_train_scaler,y_train)\n",
    "\n",
    "#make predictions on the test data\n",
    "prediction4 = rf.predict(x_test_scaler)"
   ]
  },
  {
   "cell_type": "code",
   "execution_count": 431,
   "id": "d351b90f",
   "metadata": {},
   "outputs": [
    {
     "data": {
      "text/plain": [
       "array([0, 0, 0, ..., 0, 0, 0], dtype=int64)"
      ]
     },
     "execution_count": 431,
     "metadata": {},
     "output_type": "execute_result"
    }
   ],
   "source": [
    "prediction4"
   ]
  },
  {
   "cell_type": "markdown",
   "id": "7678cdde",
   "metadata": {},
   "source": [
    "#### Tuning"
   ]
  },
  {
   "cell_type": "markdown",
   "id": "920b5491",
   "metadata": {},
   "source": [
    "The hyperparameter that was used is max_depth"
   ]
  },
  {
   "cell_type": "code",
   "execution_count": 432,
   "id": "dc7b9ad8",
   "metadata": {},
   "outputs": [],
   "source": [
    "#calling the function to model the data\n",
    "train_acc,test_acc = modelling(RandomForestClassifier(max_depth=4))"
   ]
  },
  {
   "cell_type": "code",
   "execution_count": 433,
   "id": "bf01273c",
   "metadata": {},
   "outputs": [
    {
     "name": "stdout",
     "output_type": "stream",
     "text": [
      "Train Accuracy:0.900\n",
      "Test Accuracy:0.900\n"
     ]
    }
   ],
   "source": [
    "#print the accuracies\n",
    "print(\"Train Accuracy:{:.3f}\".format(train_acc))\n",
    "print(\"Test Accuracy:{:.3f}\".format(test_acc))"
   ]
  },
  {
   "cell_type": "markdown",
   "id": "7d2b0520",
   "metadata": {},
   "source": [
    "#### After tuning the model with a max-depth set at 4, the model generalises very well with a training and testing accuracy of 90%."
   ]
  },
  {
   "cell_type": "markdown",
   "id": "6b2aa89b",
   "metadata": {},
   "source": [
    "#### Model Prediction"
   ]
  },
  {
   "cell_type": "code",
   "execution_count": 434,
   "id": "1932199b",
   "metadata": {},
   "outputs": [],
   "source": [
    "#create an instance of the model\n",
    "rf= RandomForestClassifier(max_depth=4)\n",
    "\n",
    "#fit the model\n",
    "rf.fit(x_train_scaler,y_train)\n",
    "\n",
    "#make predictions on the test data\n",
    "prediction5 = rf.predict(x_test_scaler)"
   ]
  },
  {
   "cell_type": "code",
   "execution_count": 435,
   "id": "cf083016",
   "metadata": {},
   "outputs": [
    {
     "data": {
      "text/plain": [
       "array([0, 0, 0, ..., 0, 0, 0], dtype=int64)"
      ]
     },
     "execution_count": 435,
     "metadata": {},
     "output_type": "execute_result"
    }
   ],
   "source": [
    "prediction5"
   ]
  },
  {
   "cell_type": "markdown",
   "id": "cd2b2c3f",
   "metadata": {},
   "source": [
    "### PERFORMANCE METRICS FOR RANDOM FOREST MODEL"
   ]
  },
  {
   "cell_type": "markdown",
   "id": "a1b89da9",
   "metadata": {},
   "source": [
    "#### Confusion Matrix"
   ]
  },
  {
   "cell_type": "code",
   "execution_count": 436,
   "id": "cb01010b",
   "metadata": {},
   "outputs": [
    {
     "data": {
      "text/plain": [
       "array([[7239,   80],\n",
       "       [ 748,  171]], dtype=int64)"
      ]
     },
     "execution_count": 436,
     "metadata": {},
     "output_type": "execute_result"
    }
   ],
   "source": [
    "#apply the confusion matrix function\n",
    "conf4 = confusion_matrix(y_test,prediction5)\n",
    "\n",
    "conf4"
   ]
  },
  {
   "cell_type": "markdown",
   "id": "d8533be4",
   "metadata": {},
   "source": [
    "True Positive - This implies that 171 customers subscribed to term deposit and the model correctly predicts that the customers subscribed to term deposit"
   ]
  },
  {
   "cell_type": "markdown",
   "id": "e47da8fe",
   "metadata": {},
   "source": [
    "True Negative - 7239 customers did not subscribe to term deposit and the model correctly predicts that the customers did not subscribe to term deposit"
   ]
  },
  {
   "cell_type": "markdown",
   "id": "c89df617",
   "metadata": {},
   "source": [
    "False Positive - 80 customers did not subscribe to a term deposit but the model wrongly predicts that the customers subscribed to a term deposit"
   ]
  },
  {
   "cell_type": "markdown",
   "id": "fc362462",
   "metadata": {},
   "source": [
    "False Negative - 748 customers subscribed to a term deposit but the model incorrectly predicts that the customer did not subscribe to a term deposit"
   ]
  },
  {
   "cell_type": "markdown",
   "id": "42b1dcc5",
   "metadata": {},
   "source": [
    "#### Recall and Precision"
   ]
  },
  {
   "cell_type": "code",
   "execution_count": 437,
   "id": "b4ecb0b6",
   "metadata": {},
   "outputs": [
    {
     "data": {
      "text/plain": [
       "(0.18607181719260066, 0.6812749003984063)"
      ]
     },
     "execution_count": 437,
     "metadata": {},
     "output_type": "execute_result"
    }
   ],
   "source": [
    "#apply the recall and precision functions\n",
    "recall4 = recall_score(y_test,prediction5)\n",
    "\n",
    "precision4 = precision_score(y_test,prediction5)\n",
    "\n",
    "recall4,precision4"
   ]
  },
  {
   "cell_type": "markdown",
   "id": "ebabc8ae",
   "metadata": {},
   "source": [
    "#### Here, we have a recall of 19% and a precision of 68%"
   ]
  },
  {
   "cell_type": "markdown",
   "id": "da65c50c",
   "metadata": {},
   "source": [
    "Recall - out of all the customers that subscribed to term deposit, the model predicted 19% as having subscribed to term deposit"
   ]
  },
  {
   "cell_type": "markdown",
   "id": "dda61167",
   "metadata": {},
   "source": [
    "Precision - out of all the customers that were predicted as having subscribed to a term deposit,the model correctly predicted 68%"
   ]
  },
  {
   "cell_type": "markdown",
   "id": "b9bc323f",
   "metadata": {},
   "source": [
    "#### F1_Score"
   ]
  },
  {
   "cell_type": "code",
   "execution_count": 438,
   "id": "a24d8c57",
   "metadata": {},
   "outputs": [
    {
     "data": {
      "text/plain": [
       "0.29230769230769227"
      ]
     },
     "execution_count": 438,
     "metadata": {},
     "output_type": "execute_result"
    }
   ],
   "source": [
    "#apply the recall and precision functions\n",
    "f1_score4 = f1_score(y_test,prediction5)\n",
    "\n",
    "f1_score4"
   ]
  },
  {
   "cell_type": "markdown",
   "id": "90485660",
   "metadata": {},
   "source": [
    "#### We have an F1 score of 29%"
   ]
  },
  {
   "cell_type": "markdown",
   "id": "44d9dcf6",
   "metadata": {},
   "source": [
    "#### Classification Report"
   ]
  },
  {
   "cell_type": "code",
   "execution_count": 439,
   "id": "e1cf5623",
   "metadata": {},
   "outputs": [
    {
     "name": "stdout",
     "output_type": "stream",
     "text": [
      "classification report : \n",
      "              precision    recall  f1-score   support\n",
      "\n",
      "           0       0.91      0.99      0.95      7319\n",
      "           1       0.68      0.19      0.29       919\n",
      "\n",
      "    accuracy                           0.90      8238\n",
      "   macro avg       0.79      0.59      0.62      8238\n",
      "weighted avg       0.88      0.90      0.87      8238\n",
      "\n"
     ]
    }
   ],
   "source": [
    "#apply the classification report function\n",
    "class_rep4= classification_report(y_test,prediction5)\n",
    "\n",
    "print (\"classification report : \\n{}\".format(class_rep4))"
   ]
  },
  {
   "cell_type": "markdown",
   "id": "e62250c7",
   "metadata": {},
   "source": [
    "A summary of the perfomance metrics for this model, which includes the accuracy, precision, recall and f1-score"
   ]
  },
  {
   "cell_type": "markdown",
   "id": "ea24445e",
   "metadata": {},
   "source": [
    "#### Visualising Feature Importances for Random Forest"
   ]
  },
  {
   "cell_type": "code",
   "execution_count": 440,
   "id": "86520357",
   "metadata": {},
   "outputs": [
    {
     "data": {
      "image/png": "[encoded data removed]",
      "text/plain": [
       "<Figure size 720x360 with 1 Axes>"
      ]
     },
     "metadata": {
      "needs_background": "light"
     },
     "output_type": "display_data"
    }
   ],
   "source": [
    "plt.figure(figsize=(10,5))\n",
    "plt.plot(rf.feature_importances_,linestyle='dashdot', linewidth='1', color='red')\n",
    "plt.xticks(range(bank.shape[1]),bank,rotation=60)\n",
    "plt.title(\"Plot of Random Forest Feature Importances\")\n",
    "plt.show()"
   ]
  },
  {
   "cell_type": "markdown",
   "id": "671576d5",
   "metadata": {},
   "source": [
    "Based on the feature importance plot above, it appears that the most important features considered by the random forest model are number of employees(nr_employed) and number of days that passed by after the client was last contacted from a previous campaign (pdays) , followed closely by poutcome "
   ]
  },
  {
   "cell_type": "markdown",
   "id": "cdc88c62",
   "metadata": {},
   "source": [
    "### DEEP LEARNING"
   ]
  },
  {
   "cell_type": "code",
   "execution_count": 441,
   "id": "2d289901",
   "metadata": {},
   "outputs": [
    {
     "name": "stdout",
     "output_type": "stream",
     "text": [
      "Requirement already satisfied: tensorflow in c:\\users\\acer\\appdata\\local\\programs\\python\\python39\\lib\\site-packages (2.7.0)\n",
      "Requirement already satisfied: opt-einsum>=2.3.2 in c:\\users\\acer\\appdata\\local\\programs\\python\\python39\\lib\\site-packages (from tensorflow) (3.3.0)\n",
      "Requirement already satisfied: google-pasta>=0.1.1 in c:\\users\\acer\\appdata\\local\\programs\\python\\python39\\lib\\site-packages (from tensorflow) (0.2.0)\n",
      "Requirement already satisfied: tensorflow-estimator<2.8,~=2.7.0rc0 in c:\\users\\acer\\appdata\\local\\programs\\python\\python39\\lib\\site-packages (from tensorflow) (2.7.0)\n",
      "Requirement already satisfied: six>=1.12.0 in c:\\users\\acer\\appdata\\local\\programs\\python\\python39\\lib\\site-packages (from tensorflow) (1.16.0)\n",
      "Requirement already satisfied: termcolor>=1.1.0 in c:\\users\\acer\\appdata\\local\\programs\\python\\python39\\lib\\site-packages (from tensorflow) (1.1.0)\n",
      "Requirement already satisfied: flatbuffers<3.0,>=1.12 in c:\\users\\acer\\appdata\\local\\programs\\python\\python39\\lib\\site-packages (from tensorflow) (2.0)\n",
      "Requirement already satisfied: libclang>=9.0.1 in c:\\users\\acer\\appdata\\local\\programs\\python\\python39\\lib\\site-packages (from tensorflow) (12.0.0)\n",
      "Requirement already satisfied: tensorboard~=2.6 in c:\\users\\acer\\appdata\\local\\programs\\python\\python39\\lib\\site-packages (from tensorflow) (2.7.0)\n",
      "Requirement already satisfied: protobuf>=3.9.2 in c:\\users\\acer\\appdata\\local\\programs\\python\\python39\\lib\\site-packages (from tensorflow) (3.19.1)\n",
      "Requirement already satisfied: typing-extensions>=3.6.6 in c:\\users\\acer\\appdata\\local\\programs\\python\\python39\\lib\\site-packages (from tensorflow) (4.0.0)\n",
      "Requirement already satisfied: wheel<1.0,>=0.32.0 in c:\\users\\acer\\appdata\\local\\programs\\python\\python39\\lib\\site-packages (from tensorflow) (0.37.1)\n",
      "Requirement already satisfied: astunparse>=1.6.0 in c:\\users\\acer\\appdata\\local\\programs\\python\\python39\\lib\\site-packages (from tensorflow) (1.6.3)\n",
      "Requirement already satisfied: gast<0.5.0,>=0.2.1 in c:\\users\\acer\\appdata\\local\\programs\\python\\python39\\lib\\site-packages (from tensorflow) (0.4.0)\n",
      "Requirement already satisfied: grpcio<2.0,>=1.24.3 in c:\\users\\acer\\appdata\\local\\programs\\python\\python39\\lib\\site-packages (from tensorflow) (1.43.0)\n",
      "Requirement already satisfied: keras<2.8,>=2.7.0rc0 in c:\\users\\acer\\appdata\\local\\programs\\python\\python39\\lib\\site-packages (from tensorflow) (2.7.0)\n",
      "Requirement already satisfied: numpy>=1.14.5 in c:\\users\\acer\\appdata\\local\\programs\\python\\python39\\lib\\site-packages (from tensorflow) (1.21.2)\n",
      "Requirement already satisfied: absl-py>=0.4.0 in c:\\users\\acer\\appdata\\local\\programs\\python\\python39\\lib\\site-packages (from tensorflow) (1.0.0)\n",
      "Requirement already satisfied: wrapt>=1.11.0 in c:\\users\\acer\\appdata\\local\\programs\\python\\python39\\lib\\site-packages (from tensorflow) (1.13.3)\n",
      "Requirement already satisfied: h5py>=2.9.0 in c:\\users\\acer\\appdata\\local\\programs\\python\\python39\\lib\\site-packages (from tensorflow) (3.6.0)\n",
      "Requirement already satisfied: keras-preprocessing>=1.1.1 in c:\\users\\acer\\appdata\\local\\programs\\python\\python39\\lib\\site-packages (from tensorflow) (1.1.2)\n",
      "Requirement already satisfied: tensorflow-io-gcs-filesystem>=0.21.0 in c:\\users\\acer\\appdata\\local\\programs\\python\\python39\\lib\\site-packages (from tensorflow) (0.23.1)\n",
      "Requirement already satisfied: setuptools>=41.0.0 in c:\\users\\acer\\appdata\\local\\programs\\python\\python39\\lib\\site-packages (from tensorboard~=2.6->tensorflow) (57.4.0)\n",
      "Requirement already satisfied: markdown>=2.6.8 in c:\\users\\acer\\appdata\\local\\programs\\python\\python39\\lib\\site-packages (from tensorboard~=2.6->tensorflow) (3.3.6)\n",
      "Requirement already satisfied: tensorboard-data-server<0.7.0,>=0.6.0 in c:\\users\\acer\\appdata\\local\\programs\\python\\python39\\lib\\site-packages (from tensorboard~=2.6->tensorflow) (0.6.1)\n",
      "Requirement already satisfied: requests<3,>=2.21.0 in c:\\users\\acer\\appdata\\local\\programs\\python\\python39\\lib\\site-packages (from tensorboard~=2.6->tensorflow) (2.26.0)\n",
      "Requirement already satisfied: werkzeug>=0.11.15 in c:\\users\\acer\\appdata\\local\\programs\\python\\python39\\lib\\site-packages (from tensorboard~=2.6->tensorflow) (2.0.2)\n",
      "Requirement already satisfied: tensorboard-plugin-wit>=1.6.0 in c:\\users\\acer\\appdata\\local\\programs\\python\\python39\\lib\\site-packages (from tensorboard~=2.6->tensorflow) (1.8.1)\n",
      "Requirement already satisfied: google-auth<3,>=1.6.3 in c:\\users\\acer\\appdata\\local\\programs\\python\\python39\\lib\\site-packages (from tensorboard~=2.6->tensorflow) (2.3.3)\n",
      "Requirement already satisfied: google-auth-oauthlib<0.5,>=0.4.1 in c:\\users\\acer\\appdata\\local\\programs\\python\\python39\\lib\\site-packages (from tensorboard~=2.6->tensorflow) (0.4.6)\n",
      "Requirement already satisfied: pyasn1-modules>=0.2.1 in c:\\users\\acer\\appdata\\local\\programs\\python\\python39\\lib\\site-packages (from google-auth<3,>=1.6.3->tensorboard~=2.6->tensorflow) (0.2.8)\n",
      "Requirement already satisfied: cachetools<5.0,>=2.0.0 in c:\\users\\acer\\appdata\\local\\programs\\python\\python39\\lib\\site-packages (from google-auth<3,>=1.6.3->tensorboard~=2.6->tensorflow) (4.2.4)\n",
      "Requirement already satisfied: rsa<5,>=3.1.4 in c:\\users\\acer\\appdata\\local\\programs\\python\\python39\\lib\\site-packages (from google-auth<3,>=1.6.3->tensorboard~=2.6->tensorflow) (4.8)\n",
      "Requirement already satisfied: requests-oauthlib>=0.7.0 in c:\\users\\acer\\appdata\\local\\programs\\python\\python39\\lib\\site-packages (from google-auth-oauthlib<0.5,>=0.4.1->tensorboard~=2.6->tensorflow) (1.3.0)\n",
      "Requirement already satisfied: importlib-metadata>=4.4 in c:\\users\\acer\\appdata\\local\\programs\\python\\python39\\lib\\site-packages (from markdown>=2.6.8->tensorboard~=2.6->tensorflow) (4.10.0)\n",
      "Requirement already satisfied: urllib3<1.27,>=1.21.1 in c:\\users\\acer\\appdata\\local\\programs\\python\\python39\\lib\\site-packages (from requests<3,>=2.21.0->tensorboard~=2.6->tensorflow) (1.26.7)\n",
      "Requirement already satisfied: idna<4,>=2.5 in c:\\users\\acer\\appdata\\local\\programs\\python\\python39\\lib\\site-packages (from requests<3,>=2.21.0->tensorboard~=2.6->tensorflow) (3.3)\n",
      "Requirement already satisfied: certifi>=2017.4.17 in c:\\users\\acer\\appdata\\local\\programs\\python\\python39\\lib\\site-packages (from requests<3,>=2.21.0->tensorboard~=2.6->tensorflow) (2021.10.8)\n",
      "Requirement already satisfied: charset-normalizer~=2.0.0 in c:\\users\\acer\\appdata\\local\\programs\\python\\python39\\lib\\site-packages (from requests<3,>=2.21.0->tensorboard~=2.6->tensorflow) (2.0.7)\n",
      "Requirement already satisfied: zipp>=0.5 in c:\\users\\acer\\appdata\\local\\programs\\python\\python39\\lib\\site-packages (from importlib-metadata>=4.4->markdown>=2.6.8->tensorboard~=2.6->tensorflow) (3.7.0)\n",
      "Requirement already satisfied: pyasn1<0.5.0,>=0.4.6 in c:\\users\\acer\\appdata\\local\\programs\\python\\python39\\lib\\site-packages (from pyasn1-modules>=0.2.1->google-auth<3,>=1.6.3->tensorboard~=2.6->tensorflow) (0.4.8)\n",
      "Requirement already satisfied: oauthlib>=3.0.0 in c:\\users\\acer\\appdata\\local\\programs\\python\\python39\\lib\\site-packages (from requests-oauthlib>=0.7.0->google-auth-oauthlib<0.5,>=0.4.1->tensorboard~=2.6->tensorflow) (3.1.1)\n"
     ]
    }
   ],
   "source": [
    "#install the libraries\n",
    "!pip install tensorflow"
   ]
  },
  {
   "cell_type": "code",
   "execution_count": 442,
   "id": "5257b5c9",
   "metadata": {},
   "outputs": [],
   "source": [
    "import tensorflow as tf\n",
    "from tensorflow import keras\n",
    "from keras.models import Sequential\n",
    "from keras.layers import Dense\n",
    "import numpy as np"
   ]
  },
  {
   "cell_type": "code",
   "execution_count": 443,
   "id": "938e3749",
   "metadata": {},
   "outputs": [],
   "source": [
    "#calling the  get_data function\n",
    "x_train_scaler,x_test_scaler,y_train,y_test = get_data(url,'y')"
   ]
  },
  {
   "cell_type": "code",
   "execution_count": 444,
   "id": "155e1cec",
   "metadata": {},
   "outputs": [
    {
     "data": {
      "text/plain": [
       "((32950, 19), (8238, 19), (32950,))"
      ]
     },
     "execution_count": 444,
     "metadata": {},
     "output_type": "execute_result"
    }
   ],
   "source": [
    "x_train_scaler.shape,x_test_scaler.shape,y_train.shape #to get the shape or dimension of the split data"
   ]
  },
  {
   "cell_type": "markdown",
   "id": "f901de81",
   "metadata": {},
   "source": [
    "#### Model Architecture"
   ]
  },
  {
   "cell_type": "code",
   "execution_count": 445,
   "id": "50390689",
   "metadata": {},
   "outputs": [
    {
     "name": "stdout",
     "output_type": "stream",
     "text": [
      "Model: \"sequential\"\n",
      "_________________________________________________________________\n",
      " Layer (type)                Output Shape              Param #   \n",
      "=================================================================\n",
      " dense (Dense)               (None, 64)                1280      \n",
      "                                                                 \n",
      " dense_1 (Dense)             (None, 64)                4160      \n",
      "                                                                 \n",
      " dense_2 (Dense)             (None, 1)                 65        \n",
      "                                                                 \n",
      "=================================================================\n",
      "Total params: 5,505\n",
      "Trainable params: 5,505\n",
      "Non-trainable params: 0\n",
      "_________________________________________________________________\n"
     ]
    }
   ],
   "source": [
    "model =Sequential()\n",
    "model.add(Dense(64,input_dim = 19,activation = \"relu\"))\n",
    "model.add(Dense(64,activation = \"relu\"))\n",
    "model.add(Dense(1,activation = \"sigmoid\"))\n",
    "model.summary()"
   ]
  },
  {
   "cell_type": "markdown",
   "id": "672fb955",
   "metadata": {},
   "source": [
    "The architecture of the model had a total of 5,505 parameters "
   ]
  },
  {
   "cell_type": "code",
   "execution_count": 446,
   "id": "9b0cc436",
   "metadata": {},
   "outputs": [],
   "source": [
    "#compile the model\n",
    "model.compile(optimizer = \"adam\", loss = \"binary_crossentropy\", metrics = [\"accuracy\"])"
   ]
  },
  {
   "cell_type": "markdown",
   "id": "5b4aed3e",
   "metadata": {},
   "source": [
    "Optimiser that was used is adam. the loss function was binary_crossentropy and the metrics was accuracy "
   ]
  },
  {
   "cell_type": "code",
   "execution_count": 447,
   "id": "9fd57588",
   "metadata": {},
   "outputs": [
    {
     "name": "stdout",
     "output_type": "stream",
     "text": [
      "Epoch 1/10\n",
      "927/927 [==============================] - 6s 4ms/step - loss: 0.2912 - accuracy: 0.8968 - val_loss: 0.2644 - val_accuracy: 0.9093\n",
      "Epoch 2/10\n",
      "927/927 [==============================] - 3s 3ms/step - loss: 0.2855 - accuracy: 0.8989 - val_loss: 0.2654 - val_accuracy: 0.9099\n",
      "Epoch 3/10\n",
      "927/927 [==============================] - 3s 3ms/step - loss: 0.2846 - accuracy: 0.8987 - val_loss: 0.2617 - val_accuracy: 0.9086\n",
      "Epoch 4/10\n",
      "927/927 [==============================] - 3s 3ms/step - loss: 0.2833 - accuracy: 0.8993 - val_loss: 0.2620 - val_accuracy: 0.9090\n",
      "Epoch 5/10\n",
      "927/927 [==============================] - 3s 3ms/step - loss: 0.2827 - accuracy: 0.8994 - val_loss: 0.2588 - val_accuracy: 0.9093\n",
      "Epoch 6/10\n",
      "927/927 [==============================] - 3s 4ms/step - loss: 0.2818 - accuracy: 0.8995 - val_loss: 0.2642 - val_accuracy: 0.9059\n",
      "Epoch 7/10\n",
      "927/927 [==============================] - 3s 3ms/step - loss: 0.2811 - accuracy: 0.8994 - val_loss: 0.2561 - val_accuracy: 0.9086\n",
      "Epoch 8/10\n",
      "927/927 [==============================] - 3s 3ms/step - loss: 0.2805 - accuracy: 0.8995 - val_loss: 0.2568 - val_accuracy: 0.9096\n",
      "Epoch 9/10\n",
      "927/927 [==============================] - 3s 3ms/step - loss: 0.2798 - accuracy: 0.8999 - val_loss: 0.2562 - val_accuracy: 0.9102\n",
      "Epoch 10/10\n",
      "927/927 [==============================] - 3s 3ms/step - loss: 0.2790 - accuracy: 0.9001 - val_loss: 0.2561 - val_accuracy: 0.9099\n"
     ]
    },
    {
     "data": {
      "text/plain": [
       "<keras.callbacks.History at 0x1559191bbb0>"
      ]
     },
     "execution_count": 447,
     "metadata": {},
     "output_type": "execute_result"
    }
   ],
   "source": [
    "#train the model\n",
    "model.fit(x_train_scaler,y_train,epochs = 10,batch_size = 32,validation_split=0.1)"
   ]
  },
  {
   "cell_type": "markdown",
   "id": "d4fc9b6c",
   "metadata": {},
   "source": [
    "##### training accuracy : 0.9001\n",
    "#### validation accuracy : 0.9099\n"
   ]
  },
  {
   "cell_type": "markdown",
   "id": "002253cb",
   "metadata": {},
   "source": [
    "The Deep Learning model generalises well, in other words it neither overfits nor underfits. The training accuracy is equal to the validation accuracy.\n",
    "Also, notice the consistent decrease in the loss"
   ]
  },
  {
   "cell_type": "markdown",
   "id": "9ff41a14",
   "metadata": {},
   "source": [
    "The architecture of the model I created had a total of 5,505 parameters with three dense layers with 64, 64, and 1 unit respectively, and a sigmoid activation function for the outer layer with epochs set to 10. The batch size was 32. The validation accuracy was 0.9099."
   ]
  },
  {
   "cell_type": "markdown",
   "id": "d0573361",
   "metadata": {},
   "source": [
    "### BALANCING THE DATA"
   ]
  },
  {
   "cell_type": "markdown",
   "id": "325977fe",
   "metadata": {},
   "source": [
    "To balance the data, we have to oversample the minority class in the target variable using the smote function\n",
    "\n",
    "The aim is to balance the data and then re-build those models we have built before, and finally compare the performances of these models"
   ]
  },
  {
   "cell_type": "code",
   "execution_count": 474,
   "id": "841b8c0a",
   "metadata": {},
   "outputs": [
    {
     "name": "stdout",
     "output_type": "stream",
     "text": [
      "Requirement already satisfied: imbalanced-learn in c:\\users\\acer\\appdata\\local\\programs\\python\\python39\\lib\\site-packages (0.8.1)\n",
      "Requirement already satisfied: numpy>=1.13.3 in c:\\users\\acer\\appdata\\local\\programs\\python\\python39\\lib\\site-packages (from imbalanced-learn) (1.21.2)\n",
      "Requirement already satisfied: scikit-learn>=0.24 in c:\\users\\acer\\appdata\\local\\programs\\python\\python39\\lib\\site-packages (from imbalanced-learn) (1.0.1)\n",
      "Requirement already satisfied: scipy>=0.19.1 in c:\\users\\acer\\appdata\\local\\programs\\python\\python39\\lib\\site-packages (from imbalanced-learn) (1.7.1)\n",
      "Requirement already satisfied: joblib>=0.11 in c:\\users\\acer\\appdata\\local\\programs\\python\\python39\\lib\\site-packages (from imbalanced-learn) (1.0.1)\n",
      "Requirement already satisfied: threadpoolctl>=2.0.0 in c:\\users\\acer\\appdata\\local\\programs\\python\\python39\\lib\\site-packages (from scikit-learn>=0.24->imbalanced-learn) (3.0.0)\n",
      "Note: you may need to restart the kernel to use updated packages.\n"
     ]
    }
   ],
   "source": [
    "pip install imbalanced-learn"
   ]
  },
  {
   "cell_type": "code",
   "execution_count": 475,
   "id": "e51558ab",
   "metadata": {},
   "outputs": [],
   "source": [
    "#import the SMOTE library\n",
    "from collections import Counter\n",
    "from imblearn import over_sampling\n",
    "from imblearn.over_sampling import SMOTE"
   ]
  },
  {
   "cell_type": "code",
   "execution_count": 469,
   "id": "5dcae6eb",
   "metadata": {},
   "outputs": [],
   "source": [
    "#create an instance for SMOTE\n",
    "sm = SMOTE(random_state=42)"
   ]
  },
  {
   "cell_type": "code",
   "execution_count": 484,
   "id": "4e083da0",
   "metadata": {},
   "outputs": [],
   "source": [
    "# select the features and the target for the model\n",
    "features = bank.drop('y', axis = 1)\n",
    "target = bank['y']"
   ]
  },
  {
   "cell_type": "code",
   "execution_count": 485,
   "id": "3e750a78",
   "metadata": {},
   "outputs": [
    {
     "name": "stdout",
     "output_type": "stream",
     "text": [
      "Original target shape: Counter({0: 36548, 1: 4640})\n",
      "Resampled target shape: Counter({0: 36548, 1: 36548})\n"
     ]
    }
   ],
   "source": [
    "#apply SMOTE to the features and target\n",
    "features_smote, target_smote = sm.fit_resample(features, target)\n",
    "print(\"Original target shape: {}\".format(Counter(target)))\n",
    "print(\"Resampled target shape: {}\".format(Counter(target_smote)))"
   ]
  },
  {
   "cell_type": "code",
   "execution_count": 486,
   "id": "343a42be",
   "metadata": {},
   "outputs": [
    {
     "data": {
      "text/plain": [
       "(73096, 73096)"
      ]
     },
     "execution_count": 486,
     "metadata": {},
     "output_type": "execute_result"
    }
   ],
   "source": [
    "len(features_smote),len(target_smote)"
   ]
  },
  {
   "cell_type": "markdown",
   "id": "9d486520",
   "metadata": {},
   "source": [
    "The length of data after balancing"
   ]
  },
  {
   "cell_type": "markdown",
   "id": "279b3283",
   "metadata": {},
   "source": [
    "#### Data Preparation after balancing the data"
   ]
  },
  {
   "cell_type": "code",
   "execution_count": 487,
   "id": "e8be4d66",
   "metadata": {},
   "outputs": [],
   "source": [
    "#create a function that will load the data, splits the data into training and test sets, and normalize the data\n",
    "def get_data(url,target):\n",
    "#load the data\n",
    "    bank = pd.read_csv(url)\n",
    "\n",
    "#split the data\n",
    "    x_train,x_test,y_train,y_test = train_test_split(features_smote,target_smote,test_size=0.2,random_state=0)\n",
    "#normalize the data\n",
    "    scaler=MinMaxScaler()\n",
    "    x_train_scaler= scaler.fit_transform(x_train)\n",
    "    x_test_scaler = scaler.transform(x_test)\n",
    "\n",
    "    return x_train_scaler,x_test_scaler,y_train,y_test\n"
   ]
  },
  {
   "cell_type": "code",
   "execution_count": 488,
   "id": "28a7f0cc",
   "metadata": {},
   "outputs": [],
   "source": [
    "#calling the get_data function\n",
    "x_train_scaler,x_test_scaler,y_train,y_test = get_data(url,'y')"
   ]
  },
  {
   "cell_type": "markdown",
   "id": "a94c4c19",
   "metadata": {},
   "source": [
    "#### Model the Data"
   ]
  },
  {
   "cell_type": "code",
   "execution_count": 489,
   "id": "0f73aee2",
   "metadata": {},
   "outputs": [],
   "source": [
    "#function to model the data\n",
    "def modelling(model_name):\n",
    "#create an instance of the model    \n",
    "    model = model_name\n",
    "#train the model\n",
    "    model.fit(x_train_scaler,y_train)\n",
    "#get the training and testing accuracy \n",
    "    train_acc = model.score(x_train_scaler,y_train)\n",
    "    test_acc = model.score(x_test_scaler,y_test)\n",
    "#return the training and testing accuracy    \n",
    "    return train_acc,test_acc"
   ]
  },
  {
   "cell_type": "markdown",
   "id": "85a32c57",
   "metadata": {},
   "source": [
    "#### Logistic Regression Model"
   ]
  },
  {
   "cell_type": "code",
   "execution_count": 490,
   "id": "6bdd71ac",
   "metadata": {},
   "outputs": [],
   "source": [
    "#calling the function\n",
    "train_acc,test_acc = modelling(LogisticRegression())"
   ]
  },
  {
   "cell_type": "code",
   "execution_count": 491,
   "id": "33fc8ea5",
   "metadata": {},
   "outputs": [
    {
     "data": {
      "text/plain": [
       "(0.7629967850058144, 0.7581395348837209)"
      ]
     },
     "execution_count": 491,
     "metadata": {},
     "output_type": "execute_result"
    }
   ],
   "source": [
    "train_acc,test_acc"
   ]
  },
  {
   "cell_type": "markdown",
   "id": "59fb1b67",
   "metadata": {},
   "source": [
    "The logistic regression model overfits slightly, with a training and test accuracy of 76.3% and 75.8%. Even though the model is better than before balancing the data, but the training accuracy reduced"
   ]
  },
  {
   "cell_type": "markdown",
   "id": "64ee3811",
   "metadata": {},
   "source": [
    "#### Model Prediction"
   ]
  },
  {
   "cell_type": "code",
   "execution_count": 492,
   "id": "329955ed",
   "metadata": {},
   "outputs": [],
   "source": [
    "#create an instance of the model\n",
    "logreg = LogisticRegression(C=0.2,penalty=\"l1\",solver=\"liblinear\")\n",
    "\n",
    "#fit the model\n",
    "logreg.fit(x_train_scaler,y_train)\n",
    "\n",
    "#make predictions on the test data\n",
    "prediction6 = logreg.predict(x_test_scaler)"
   ]
  },
  {
   "cell_type": "code",
   "execution_count": 493,
   "id": "952715d6",
   "metadata": {},
   "outputs": [
    {
     "data": {
      "text/plain": [
       "array([0, 1, 1, ..., 1, 1, 1], dtype=int64)"
      ]
     },
     "execution_count": 493,
     "metadata": {},
     "output_type": "execute_result"
    }
   ],
   "source": [
    "prediction6"
   ]
  },
  {
   "cell_type": "markdown",
   "id": "8ba65a94",
   "metadata": {},
   "source": [
    "#### Regularization of the Model"
   ]
  },
  {
   "cell_type": "code",
   "execution_count": 500,
   "id": "23e4fdee",
   "metadata": {},
   "outputs": [],
   "source": [
    "#regularize the model using different values of c\n",
    "c_values = [0.1,0.2,0.3,0.5,0.8,1.0]\n",
    "#function to regularize the model\n",
    "def log_reg(c_values,penalty=\"l1\",solver=\"liblinear\"):\n",
    "    train_accuracy,test_accuracy = [],[] #empty list to save the result\n",
    "    for val in c_values:\n",
    "        train_logreg2,test_logreg2 = modelling(LogisticRegression(C=val))\n",
    "        \n",
    "        train_accuracy.append(train_logreg2)\n",
    "        test_accuracy.append(test_logreg2)\n",
    "#return the training and testing accuracy        \n",
    "    return train_accuracy,test_accuracy "
   ]
  },
  {
   "cell_type": "code",
   "execution_count": 504,
   "id": "642f7b61",
   "metadata": {},
   "outputs": [],
   "source": [
    " #calling the function\n",
    "train_accuracy,test_accuracy = log_reg(c_values,penalty=\"l1\",solver=\"liblinear\")"
   ]
  },
  {
   "cell_type": "markdown",
   "id": "6c8912fe",
   "metadata": {},
   "source": [
    "For further regularization to help with the performance of the model, a distance function (l1) was used. Because an l1 penalty was used, liblinear was applied as the solver. If the penalty was l2, lbgs or saga would be applied as the solver"
   ]
  },
  {
   "cell_type": "code",
   "execution_count": 502,
   "id": "849091b7",
   "metadata": {},
   "outputs": [
    {
     "data": {
      "text/plain": [
       "[0.7606710445310897,\n",
       " 0.7616971065052329,\n",
       " 0.7620904302619879,\n",
       " 0.7626376633148643,\n",
       " 0.7630309870716191,\n",
       " 0.7629967850058144]"
      ]
     },
     "execution_count": 502,
     "metadata": {},
     "output_type": "execute_result"
    }
   ],
   "source": [
    "train_accuracy"
   ]
  },
  {
   "cell_type": "code",
   "execution_count": 503,
   "id": "8dd49e32",
   "metadata": {},
   "outputs": [
    {
     "data": {
      "text/plain": [
       "[0.755608755129959,\n",
       " 0.7568399452804377,\n",
       " 0.7575923392612859,\n",
       " 0.7578659370725034,\n",
       " 0.7579343365253078,\n",
       " 0.7581395348837209]"
      ]
     },
     "execution_count": 503,
     "metadata": {},
     "output_type": "execute_result"
    }
   ],
   "source": [
    "test_accuracy"
   ]
  },
  {
   "cell_type": "markdown",
   "id": "04f2d8bc",
   "metadata": {},
   "source": [
    "#### Plotting"
   ]
  },
  {
   "cell_type": "code",
   "execution_count": 505,
   "id": "e7c0cc32",
   "metadata": {},
   "outputs": [
    {
     "data": {
      "image/png": "[encoded data removed]",
      "text/plain": [
       "<Figure size 432x288 with 1 Axes>"
      ]
     },
     "metadata": {
      "needs_background": "light"
     },
     "output_type": "display_data"
    }
   ],
   "source": [
    "#adding visualisations\n",
    "plt.plot(c_values,train_accuracy,label=\"Training Accuracy\")\n",
    "plt.plot(c_values,test_accuracy,label=\"Testing Accuracy\")\n",
    "plt.legend()\n",
    "plt.xlabel(\"Values of C\")\n",
    "plt.ylabel(\"Accuracy\")\n",
    "plt.show()"
   ]
  },
  {
   "cell_type": "markdown",
   "id": "30c14c31",
   "metadata": {},
   "source": [
    "A plot of the model shows that the model overfits in all of the c-values, with the best accuracy achieved at a c-value of 0.5"
   ]
  },
  {
   "cell_type": "code",
   "execution_count": 506,
   "id": "c078765f",
   "metadata": {},
   "outputs": [],
   "source": [
    "train_logreg3,test_logreg3 = modelling(LogisticRegression(C=0.5,penalty=\"l1\",solver=\"liblinear\"))"
   ]
  },
  {
   "cell_type": "code",
   "execution_count": 507,
   "id": "a1b301a3",
   "metadata": {},
   "outputs": [
    {
     "data": {
      "text/plain": [
       "(0.7627915726109857, 0.7594391244870041)"
      ]
     },
     "execution_count": 507,
     "metadata": {},
     "output_type": "execute_result"
    }
   ],
   "source": [
    "train_logreg3,test_logreg3"
   ]
  },
  {
   "cell_type": "markdown",
   "id": "54661fcc",
   "metadata": {},
   "source": [
    "After using a c-value of 0.5, the model generalises well with approximated values of the training and testing accuracy, which gives 76% accuracy on both "
   ]
  },
  {
   "cell_type": "markdown",
   "id": "a37d7376",
   "metadata": {},
   "source": [
    "#### Model Prediction"
   ]
  },
  {
   "cell_type": "code",
   "execution_count": 508,
   "id": "b15bcb6d",
   "metadata": {},
   "outputs": [],
   "source": [
    "#create an instance of the model\n",
    "logreg3 = LogisticRegression(C=0.5,penalty=\"l1\",solver=\"liblinear\")\n",
    "\n",
    "#fit the model\n",
    "logreg3.fit(x_train_scaler,y_train)\n",
    "\n",
    "#make predictions on the test data\n",
    "prediction7 = logreg3.predict(x_test_scaler)"
   ]
  },
  {
   "cell_type": "code",
   "execution_count": 509,
   "id": "ea4efc7e",
   "metadata": {},
   "outputs": [
    {
     "data": {
      "text/plain": [
       "array([0, 1, 1, ..., 1, 1, 1], dtype=int64)"
      ]
     },
     "execution_count": 509,
     "metadata": {},
     "output_type": "execute_result"
    }
   ],
   "source": [
    "prediction7"
   ]
  },
  {
   "cell_type": "markdown",
   "id": "8f77fcee",
   "metadata": {},
   "source": [
    "### PERFORMANCE METRICS FOR LOGISTIC REGRESSION"
   ]
  },
  {
   "cell_type": "markdown",
   "id": "a3ab5ac4",
   "metadata": {},
   "source": [
    "#### Confusion Matrix"
   ]
  },
  {
   "cell_type": "code",
   "execution_count": 510,
   "id": "e2612591",
   "metadata": {},
   "outputs": [
    {
     "data": {
      "text/plain": [
       "array([[5835, 1367],\n",
       "       [2149, 5269]], dtype=int64)"
      ]
     },
     "execution_count": 510,
     "metadata": {},
     "output_type": "execute_result"
    }
   ],
   "source": [
    "#apply the confusion matrix function\n",
    "conf5 = confusion_matrix(y_test,prediction7)\n",
    "\n",
    "conf5"
   ]
  },
  {
   "cell_type": "markdown",
   "id": "34a166e4",
   "metadata": {},
   "source": [
    "True Positive - This implies that 5269 customers subscribed to term deposit and the model correctly predicts that the customers subscribed to term deposit"
   ]
  },
  {
   "cell_type": "markdown",
   "id": "2bfd9176",
   "metadata": {},
   "source": [
    "True Negative - 5835 customers did not subscribe to term deposit and the model correctly predicts that the customers did not subscribe to term deposit"
   ]
  },
  {
   "cell_type": "markdown",
   "id": "d0beb0c3",
   "metadata": {},
   "source": [
    "False Positive - 1367 customers did not subscribe to a term deposit but the model wrongly predicts that the customers subscribed to a term deposit"
   ]
  },
  {
   "cell_type": "markdown",
   "id": "1a95109b",
   "metadata": {},
   "source": [
    "False Negative - 2149 customers subscribed to a term deposit but the model incorrectly predicts that the customer did not subscribe to a term deposit"
   ]
  },
  {
   "cell_type": "markdown",
   "id": "de1c21e7",
   "metadata": {},
   "source": [
    "#### Recall and Precision"
   ]
  },
  {
   "cell_type": "code",
   "execution_count": 511,
   "id": "5e9a77e4",
   "metadata": {},
   "outputs": [
    {
     "data": {
      "text/plain": [
       "(0.7102992720409814, 0.7940024110910187)"
      ]
     },
     "execution_count": 511,
     "metadata": {},
     "output_type": "execute_result"
    }
   ],
   "source": [
    "#apply the recall and precision functions\n",
    "recall5 = recall_score(y_test,prediction7)\n",
    "\n",
    "precision5 = precision_score(y_test,prediction7)\n",
    "\n",
    "recall5,precision5"
   ]
  },
  {
   "cell_type": "markdown",
   "id": "58b4c703",
   "metadata": {},
   "source": [
    "#### Here, we have a recall of 71% and a precision of 79%"
   ]
  },
  {
   "cell_type": "markdown",
   "id": "56dc815b",
   "metadata": {},
   "source": [
    "Recall - out of all the customers that subscribed to term deposit, the model predicted 71% as having subscribed to term deposit"
   ]
  },
  {
   "cell_type": "markdown",
   "id": "74dcd843",
   "metadata": {},
   "source": [
    "Precision - out of all the customers that were predicted as having subscribed to a term deposit,the model correctly predicted 79%"
   ]
  },
  {
   "cell_type": "markdown",
   "id": "ca4f2003",
   "metadata": {},
   "source": [
    "#### F1_score"
   ]
  },
  {
   "cell_type": "code",
   "execution_count": 512,
   "id": "3cffeb2c",
   "metadata": {},
   "outputs": [
    {
     "data": {
      "text/plain": [
       "0.7498221147004411"
      ]
     },
     "execution_count": 512,
     "metadata": {},
     "output_type": "execute_result"
    }
   ],
   "source": [
    "#apply the recall and precision functions\n",
    "f1_score5 = f1_score(y_test,prediction7)\n",
    "\n",
    "f1_score5"
   ]
  },
  {
   "cell_type": "markdown",
   "id": "72d5a713",
   "metadata": {},
   "source": [
    "#### We have an F1 score of 75%"
   ]
  },
  {
   "cell_type": "markdown",
   "id": "fe163171",
   "metadata": {},
   "source": [
    "#### Classification Report"
   ]
  },
  {
   "cell_type": "code",
   "execution_count": 513,
   "id": "d5517857",
   "metadata": {},
   "outputs": [
    {
     "name": "stdout",
     "output_type": "stream",
     "text": [
      "classification report : \n",
      "              precision    recall  f1-score   support\n",
      "\n",
      "           0       0.73      0.81      0.77      7202\n",
      "           1       0.79      0.71      0.75      7418\n",
      "\n",
      "    accuracy                           0.76     14620\n",
      "   macro avg       0.76      0.76      0.76     14620\n",
      "weighted avg       0.76      0.76      0.76     14620\n",
      "\n"
     ]
    }
   ],
   "source": [
    "#apply the classification report function\n",
    "class_rep5 = classification_report(y_test,prediction7)\n",
    "\n",
    "print (\"classification report : \\n{}\".format(class_rep5))"
   ]
  },
  {
   "cell_type": "markdown",
   "id": "7af30f50",
   "metadata": {},
   "source": [
    "A summary of the perfomance metrics for this model, which includes the accuracy, precision, recall and f1-score"
   ]
  },
  {
   "cell_type": "markdown",
   "id": "876a123f",
   "metadata": {},
   "source": [
    "### K-NEAREST NEIGHBORS(K-NN)"
   ]
  },
  {
   "cell_type": "code",
   "execution_count": 514,
   "id": "da2470b2",
   "metadata": {},
   "outputs": [],
   "source": [
    "#calling the function to model the balanced data\n",
    "train_acc,test_acc = modelling(KNeighborsClassifier(n_neighbors=1))"
   ]
  },
  {
   "cell_type": "code",
   "execution_count": 515,
   "id": "db460cc1",
   "metadata": {},
   "outputs": [
    {
     "data": {
      "text/plain": [
       "(0.9870545180928928, 0.8681258549931601)"
      ]
     },
     "execution_count": 515,
     "metadata": {},
     "output_type": "execute_result"
    }
   ],
   "source": [
    "train_acc,test_acc"
   ]
  },
  {
   "cell_type": "markdown",
   "id": "df3071fb",
   "metadata": {},
   "source": [
    "#### This model overfits, with a training and testing accuracy of 98.7% and 86.8% respectively"
   ]
  },
  {
   "cell_type": "code",
   "execution_count": 516,
   "id": "58d03c66",
   "metadata": {},
   "outputs": [],
   "source": [
    "#predict the model\n",
    "#create an instance of the model\n",
    "KNN = KNeighborsClassifier(n_neighbors=1)\n",
    "\n",
    "#fit the model\n",
    "KNN.fit(x_train_scaler,y_train)\n",
    "\n",
    "#make predictions on the test data\n",
    "prediction8 = KNN.predict(x_test_scaler)"
   ]
  },
  {
   "cell_type": "code",
   "execution_count": 517,
   "id": "be4aa0d9",
   "metadata": {},
   "outputs": [
    {
     "data": {
      "text/plain": [
       "array([1, 1, 1, ..., 0, 1, 1], dtype=int64)"
      ]
     },
     "execution_count": 517,
     "metadata": {},
     "output_type": "execute_result"
    }
   ],
   "source": [
    "prediction8"
   ]
  },
  {
   "cell_type": "markdown",
   "id": "7913d8da",
   "metadata": {},
   "source": [
    "#### Plotting"
   ]
  },
  {
   "cell_type": "markdown",
   "id": "aad90ca5",
   "metadata": {},
   "source": [
    "The hyperparameter that was used is n-neighbors"
   ]
  },
  {
   "cell_type": "code",
   "execution_count": 518,
   "id": "7665e909",
   "metadata": {},
   "outputs": [
    {
     "data": {
      "image/png": "[encoded data removed]",
      "text/plain": [
       "<Figure size 432x288 with 1 Axes>"
      ]
     },
     "metadata": {
      "needs_background": "light"
     },
     "output_type": "display_data"
    }
   ],
   "source": [
    "num_neighbors = [5, 6, 7, 8, 9, 10, 15, 20]\n",
    "\n",
    "training_accuracy = []\n",
    "testing_accuracy = []\n",
    "\n",
    "for n_neighbors in num_neighbors:\n",
    "  knn = KNeighborsClassifier(n_neighbors=n_neighbors)\n",
    "  knn_model = knn.fit(x_train_scaler, y_train)\n",
    "\n",
    "  # append the training accuracy to the training accuracy list\n",
    "  training_accuracy.append(knn.score(x_train_scaler, y_train))\n",
    "  testing_accuracy.append(knn.score(x_test_scaler, y_test))\n",
    "\n",
    "# visualize the plot\n",
    "plt.plot(num_neighbors, training_accuracy, label = \"training accuracy\") \n",
    "plt.plot(num_neighbors, testing_accuracy, label = \"testing accuracy\")\n",
    "plt.legend(loc = 'best')\n",
    "plt.show() "
   ]
  },
  {
   "cell_type": "markdown",
   "id": "0feb7fa6",
   "metadata": {},
   "source": [
    "From the plot, it shows that the model overfits in all the n-neighbours considered. 20 n-neighbors gives a better result than the default n-neighbour value of 5"
   ]
  },
  {
   "cell_type": "code",
   "execution_count": 519,
   "id": "1ef57c55",
   "metadata": {},
   "outputs": [],
   "source": [
    "#calling the function to model the data with n-neighbors 20\n",
    "train_acc,test_acc = modelling(KNeighborsClassifier(n_neighbors=20))"
   ]
  },
  {
   "cell_type": "code",
   "execution_count": 520,
   "id": "ecbc722e",
   "metadata": {},
   "outputs": [
    {
     "name": "stdout",
     "output_type": "stream",
     "text": [
      "Train Accuracy:0.823\n",
      "Test Accuracy:0.802\n"
     ]
    }
   ],
   "source": [
    "#print the accuracies\n",
    "print(\"Train Accuracy:{:.3f}\".format(train_acc))\n",
    "print(\"Test Accuracy:{:.3f}\".format(test_acc))"
   ]
  },
  {
   "cell_type": "markdown",
   "id": "a4b1e39b",
   "metadata": {},
   "source": [
    "So, we see the training accuracy reduced from 99.1% to 82.3% while the testing accuracy also reduced from 86.8% to 80.2% with 20 neighors. This shows that the KNN model after balancing the data with 20 n-neighbors performs better than the first model in predicting the term deposit subscribers"
   ]
  },
  {
   "cell_type": "code",
   "execution_count": 521,
   "id": "a81b7ef1",
   "metadata": {},
   "outputs": [],
   "source": [
    "#predict the model\n",
    "#create an instance of the model\n",
    "KNN = KNeighborsClassifier(n_neighbors=20)\n",
    "\n",
    "#fit the model\n",
    "KNN.fit(x_train_scaler,y_train)\n",
    "\n",
    "#make predictions on the test data\n",
    "prediction9 = KNN.predict(x_test_scaler)"
   ]
  },
  {
   "cell_type": "code",
   "execution_count": 522,
   "id": "bf92f270",
   "metadata": {},
   "outputs": [
    {
     "data": {
      "text/plain": [
       "array([1, 1, 1, ..., 0, 1, 1], dtype=int64)"
      ]
     },
     "execution_count": 522,
     "metadata": {},
     "output_type": "execute_result"
    }
   ],
   "source": [
    "prediction9"
   ]
  },
  {
   "cell_type": "markdown",
   "id": "5d604793",
   "metadata": {},
   "source": [
    "### PERFORMANCE METRICS FOR K-NN MODEL"
   ]
  },
  {
   "cell_type": "markdown",
   "id": "560d6a9f",
   "metadata": {},
   "source": [
    "#### Confusion Matrix"
   ]
  },
  {
   "cell_type": "code",
   "execution_count": 523,
   "id": "3df04a87",
   "metadata": {},
   "outputs": [
    {
     "data": {
      "text/plain": [
       "array([[5902, 1300],\n",
       "       [1590, 5828]], dtype=int64)"
      ]
     },
     "execution_count": 523,
     "metadata": {},
     "output_type": "execute_result"
    }
   ],
   "source": [
    "#apply the confusion matrix function\n",
    "conf6 = confusion_matrix(y_test,prediction9)\n",
    "\n",
    "conf6"
   ]
  },
  {
   "cell_type": "markdown",
   "id": "b0df5ae2",
   "metadata": {},
   "source": [
    "True Positive - This implies that 5828 customers subscribed to term deposit and the model correctly predicts that the customers subscribed to term deposit"
   ]
  },
  {
   "cell_type": "markdown",
   "id": "4e5b18f7",
   "metadata": {},
   "source": [
    "True Negative - 5902 customers did not subscribe to term deposit and the model correctly predicts that the customers did not subscribe to term deposit"
   ]
  },
  {
   "cell_type": "markdown",
   "id": "b2f5d335",
   "metadata": {},
   "source": [
    "False Positive - 1300 customers did not subscribe to a term deposit but the model wrongly predicts that the customers subscribed to a term deposit"
   ]
  },
  {
   "cell_type": "markdown",
   "id": "c22dd96c",
   "metadata": {},
   "source": [
    "False Negative - 1590 customers subscribed to a term deposit but the model incorrectly predicts that the customer did not subscribe to a term deposit"
   ]
  },
  {
   "cell_type": "markdown",
   "id": "a66aacf8",
   "metadata": {},
   "source": [
    "#### Recall and Precision"
   ]
  },
  {
   "cell_type": "code",
   "execution_count": 524,
   "id": "76b3c844",
   "metadata": {},
   "outputs": [
    {
     "data": {
      "text/plain": [
       "(0.7856565111889997, 0.8176206509539843)"
      ]
     },
     "execution_count": 524,
     "metadata": {},
     "output_type": "execute_result"
    }
   ],
   "source": [
    "#apply the recall and precision functions\n",
    "recall6 = recall_score(y_test,prediction9)\n",
    "\n",
    "precision6 = precision_score(y_test,prediction9)\n",
    "\n",
    "recall6,precision6"
   ]
  },
  {
   "cell_type": "markdown",
   "id": "983ef10d",
   "metadata": {},
   "source": [
    "After balancing the data, the recall and precision increased to 79% and 82%% respectively, which is a better result compared to the unbalanced data"
   ]
  },
  {
   "cell_type": "markdown",
   "id": "53826c27",
   "metadata": {},
   "source": [
    "Recall - out of all the customers that subscribed to term deposit, the model predicted 79% as having subscribed to term deposit"
   ]
  },
  {
   "cell_type": "markdown",
   "id": "1929a07a",
   "metadata": {},
   "source": [
    "Precision - out of all the customers that were predicted as having subscribed to a term deposit,the model correctly predicted 82%"
   ]
  },
  {
   "cell_type": "markdown",
   "id": "65172105",
   "metadata": {},
   "source": [
    "#### F1_Score"
   ]
  },
  {
   "cell_type": "code",
   "execution_count": 525,
   "id": "e4f1d594",
   "metadata": {},
   "outputs": [
    {
     "data": {
      "text/plain": [
       "0.8013199505018562"
      ]
     },
     "execution_count": 525,
     "metadata": {},
     "output_type": "execute_result"
    }
   ],
   "source": [
    "#apply the recall and precision functions\n",
    "f1_score6 = f1_score(y_test,prediction9)\n",
    "\n",
    "f1_score6"
   ]
  },
  {
   "cell_type": "markdown",
   "id": "8b628548",
   "metadata": {},
   "source": [
    "After balancing the data, the F1 score increased to 80%, which is a better score than the unbalanced data"
   ]
  },
  {
   "cell_type": "markdown",
   "id": "57b7ce64",
   "metadata": {},
   "source": [
    "#### Classification Report"
   ]
  },
  {
   "cell_type": "code",
   "execution_count": 526,
   "id": "d564b6be",
   "metadata": {},
   "outputs": [
    {
     "name": "stdout",
     "output_type": "stream",
     "text": [
      "classification report : \n",
      "              precision    recall  f1-score   support\n",
      "\n",
      "           0       0.79      0.82      0.80      7202\n",
      "           1       0.82      0.79      0.80      7418\n",
      "\n",
      "    accuracy                           0.80     14620\n",
      "   macro avg       0.80      0.80      0.80     14620\n",
      "weighted avg       0.80      0.80      0.80     14620\n",
      "\n"
     ]
    }
   ],
   "source": [
    "#apply the classification report function\n",
    "class_rep6 = classification_report(y_test,prediction9)\n",
    "\n",
    "print (\"classification report : \\n{}\".format(class_rep6))"
   ]
  },
  {
   "cell_type": "markdown",
   "id": "24df553d",
   "metadata": {},
   "source": [
    "-A summary of the perfomance metrics for this model, which includes the accuracy, precision, recall and f1-score"
   ]
  },
  {
   "cell_type": "markdown",
   "id": "fc1cd3d2",
   "metadata": {},
   "source": [
    "### DECISION TREE"
   ]
  },
  {
   "cell_type": "code",
   "execution_count": 527,
   "id": "b2fde1c6",
   "metadata": {},
   "outputs": [],
   "source": [
    "#calling the function to model the balanced data\n",
    "train_acc,test_acc = modelling(DecisionTreeClassifier(max_depth=4))"
   ]
  },
  {
   "cell_type": "code",
   "execution_count": 528,
   "id": "50454886",
   "metadata": {},
   "outputs": [
    {
     "name": "stdout",
     "output_type": "stream",
     "text": [
      "Train Accuracy:0.742\n",
      "Test Accuracy:0.738\n"
     ]
    }
   ],
   "source": [
    "#print the accuracies\n",
    "print(\"Train Accuracy:{:.3f}\".format(train_acc))\n",
    "print(\"Test Accuracy:{:.3f}\".format(test_acc))"
   ]
  },
  {
   "cell_type": "markdown",
   "id": "4e7b4b16",
   "metadata": {},
   "source": [
    "For the Decision tree, we specify a tree with a max_depth of 4 , this resulted to a model that generalises very well. Although this resulted in a decrease of the training accuracy"
   ]
  },
  {
   "cell_type": "markdown",
   "id": "15501d2a",
   "metadata": {},
   "source": [
    "#### Model Prediction"
   ]
  },
  {
   "cell_type": "code",
   "execution_count": 529,
   "id": "755f5dd6",
   "metadata": {},
   "outputs": [],
   "source": [
    "#create an instance of the model\n",
    "Dec_Tree3 = DecisionTreeClassifier(max_depth=4)\n",
    "\n",
    "#fit the model\n",
    "Dec_Tree3.fit(x_train_scaler,y_train)\n",
    "\n",
    "#make predictions on the test data\n",
    "prediction10 = Dec_Tree3.predict(x_test_scaler)"
   ]
  },
  {
   "cell_type": "code",
   "execution_count": 530,
   "id": "646ebc16",
   "metadata": {},
   "outputs": [
    {
     "data": {
      "text/plain": [
       "array([0, 1, 1, ..., 0, 1, 1], dtype=int64)"
      ]
     },
     "execution_count": 530,
     "metadata": {},
     "output_type": "execute_result"
    }
   ],
   "source": [
    "prediction10"
   ]
  },
  {
   "cell_type": "markdown",
   "id": "0e391d4d",
   "metadata": {},
   "source": [
    "### PERFORMANCE METRICS OF THE DECISION TREE MODEL"
   ]
  },
  {
   "cell_type": "markdown",
   "id": "5f28c1ee",
   "metadata": {},
   "source": [
    "#### Confusion Matrix"
   ]
  },
  {
   "cell_type": "code",
   "execution_count": 531,
   "id": "374ca4bc",
   "metadata": {},
   "outputs": [
    {
     "data": {
      "text/plain": [
       "array([[6385,  817],\n",
       "       [3020, 4398]], dtype=int64)"
      ]
     },
     "execution_count": 531,
     "metadata": {},
     "output_type": "execute_result"
    }
   ],
   "source": [
    "#apply the confusion matrix function\n",
    "conf7 = confusion_matrix(y_test,prediction10)\n",
    "\n",
    "conf7"
   ]
  },
  {
   "cell_type": "markdown",
   "id": "9949c9fe",
   "metadata": {},
   "source": [
    "True Positive - This implies that 4398 customers subscribed to term deposit and the model correctly predicts that the customers subscribed to term deposit"
   ]
  },
  {
   "cell_type": "markdown",
   "id": "4462ef74",
   "metadata": {},
   "source": [
    "True Negative - 6385 customers did not subscribe to term deposit and the model correctly predicts that the customers did not subscribe to term deposit"
   ]
  },
  {
   "cell_type": "markdown",
   "id": "c587346d",
   "metadata": {},
   "source": [
    "False Positive - 817 customers did not subscribe to a term deposit but the model wrongly predicts that the customers subscribed to a term deposit"
   ]
  },
  {
   "cell_type": "markdown",
   "id": "2f146416",
   "metadata": {},
   "source": [
    "False Negative - 3020 customers subscribed to a term deposit but the model incorrectly predicts that the customer did not subscribe to a term deposit"
   ]
  },
  {
   "cell_type": "markdown",
   "id": "74ec0414",
   "metadata": {},
   "source": [
    "#### Recall and Precision"
   ]
  },
  {
   "cell_type": "code",
   "execution_count": 532,
   "id": "450b7e13",
   "metadata": {},
   "outputs": [
    {
     "data": {
      "text/plain": [
       "(0.5928821784847668, 0.8433365292425695)"
      ]
     },
     "execution_count": 532,
     "metadata": {},
     "output_type": "execute_result"
    }
   ],
   "source": [
    "#apply the recall and precision functions\n",
    "recall7 = recall_score(y_test,prediction10)\n",
    "\n",
    "precision7 = precision_score(y_test,prediction10)\n",
    "\n",
    "recall7,precision7"
   ]
  },
  {
   "cell_type": "markdown",
   "id": "26225604",
   "metadata": {},
   "source": [
    "After balancing the data, the recall and precision increased to 59% and 84%% respectively, which is a better result compared to the unbalanced data"
   ]
  },
  {
   "cell_type": "markdown",
   "id": "921090b7",
   "metadata": {},
   "source": [
    "Recall - out of all the customers that subscribed to term deposit, the model predicted 59% as having subscribed to term deposit"
   ]
  },
  {
   "cell_type": "markdown",
   "id": "be76f25b",
   "metadata": {},
   "source": [
    "Precision - out of all the customers that were predicted as having subscribed to a term deposit,the model correctly predicted 84%"
   ]
  },
  {
   "cell_type": "markdown",
   "id": "c4786c41",
   "metadata": {},
   "source": [
    "#### F1_Score"
   ]
  },
  {
   "cell_type": "code",
   "execution_count": 533,
   "id": "afe1e6c9",
   "metadata": {},
   "outputs": [
    {
     "data": {
      "text/plain": [
       "0.6962716694371883"
      ]
     },
     "execution_count": 533,
     "metadata": {},
     "output_type": "execute_result"
    }
   ],
   "source": [
    "#apply the recall and precision functions\n",
    "f1_score7 = f1_score(y_test,prediction10)\n",
    "\n",
    "f1_score7"
   ]
  },
  {
   "cell_type": "markdown",
   "id": "b517cec3",
   "metadata": {},
   "source": [
    "After balancing the data, the F1 score increased to 70%, which is a better score than the unbalanced data"
   ]
  },
  {
   "cell_type": "markdown",
   "id": "c907017e",
   "metadata": {},
   "source": [
    "#### Classification Report"
   ]
  },
  {
   "cell_type": "code",
   "execution_count": 534,
   "id": "ea87b917",
   "metadata": {},
   "outputs": [
    {
     "name": "stdout",
     "output_type": "stream",
     "text": [
      "classification report : \n",
      "              precision    recall  f1-score   support\n",
      "\n",
      "           0       0.68      0.89      0.77      7202\n",
      "           1       0.84      0.59      0.70      7418\n",
      "\n",
      "    accuracy                           0.74     14620\n",
      "   macro avg       0.76      0.74      0.73     14620\n",
      "weighted avg       0.76      0.74      0.73     14620\n",
      "\n"
     ]
    }
   ],
   "source": [
    "#apply the classification report function\n",
    "class_rep7 = classification_report(y_test,prediction10)\n",
    "\n",
    "print (\"classification report : \\n{}\".format(class_rep7))"
   ]
  },
  {
   "cell_type": "markdown",
   "id": "cfa24a40",
   "metadata": {},
   "source": [
    "A summary of the perfomance metrics for this model, which includes the accuracy, precision, recall and f1-score"
   ]
  },
  {
   "cell_type": "markdown",
   "id": "d9af244a",
   "metadata": {},
   "source": [
    "### RANDOM FOREST"
   ]
  },
  {
   "cell_type": "markdown",
   "id": "912ba9fd",
   "metadata": {},
   "source": [
    "The hyperparameter that was used is max-depth"
   ]
  },
  {
   "cell_type": "code",
   "execution_count": 535,
   "id": "8192b235",
   "metadata": {},
   "outputs": [],
   "source": [
    "#calling the function to model the data\n",
    "train_acc,test_acc = modelling(RandomForestClassifier(max_depth=4))"
   ]
  },
  {
   "cell_type": "code",
   "execution_count": 536,
   "id": "1a4d9041",
   "metadata": {},
   "outputs": [
    {
     "name": "stdout",
     "output_type": "stream",
     "text": [
      "Train Accuracy:0.752\n",
      "Test Accuracy:0.748\n"
     ]
    }
   ],
   "source": [
    "#print the accuracies\n",
    "print(\"Train Accuracy:{:.3f}\".format(train_acc))\n",
    "print(\"Test Accuracy:{:.3f}\".format(test_acc))"
   ]
  },
  {
   "cell_type": "markdown",
   "id": "53c5d840",
   "metadata": {},
   "source": [
    "After tuning the model with a max-depth set at 4, the model generalises very well with a training and testing accuracy of approximately 75%"
   ]
  },
  {
   "cell_type": "markdown",
   "id": "358fca92",
   "metadata": {},
   "source": [
    "#### Model Prediction"
   ]
  },
  {
   "cell_type": "code",
   "execution_count": 537,
   "id": "e85d00e2",
   "metadata": {},
   "outputs": [],
   "source": [
    "#create an instance of the model\n",
    "rf= RandomForestClassifier(max_depth=4)\n",
    "\n",
    "#fit the model\n",
    "rf.fit(x_train_scaler,y_train)\n",
    "\n",
    "#make predictions on the test data\n",
    "prediction11 = rf.predict(x_test_scaler)"
   ]
  },
  {
   "cell_type": "code",
   "execution_count": 538,
   "id": "129bdc3d",
   "metadata": {},
   "outputs": [
    {
     "data": {
      "text/plain": [
       "array([0, 1, 1, ..., 1, 1, 1], dtype=int64)"
      ]
     },
     "execution_count": 538,
     "metadata": {},
     "output_type": "execute_result"
    }
   ],
   "source": [
    "prediction11"
   ]
  },
  {
   "cell_type": "markdown",
   "id": "f0906074",
   "metadata": {},
   "source": [
    "### PERFORMANCE METRICS FOR THE RANDOM FOREST MODEL"
   ]
  },
  {
   "cell_type": "markdown",
   "id": "40f5efb8",
   "metadata": {},
   "source": [
    "#### Confusion Matrix"
   ]
  },
  {
   "cell_type": "code",
   "execution_count": 539,
   "id": "7246925b",
   "metadata": {},
   "outputs": [
    {
     "data": {
      "text/plain": [
       "array([[5729, 1473],\n",
       "       [2254, 5164]], dtype=int64)"
      ]
     },
     "execution_count": 539,
     "metadata": {},
     "output_type": "execute_result"
    }
   ],
   "source": [
    "#apply the confusion matrix function\n",
    "conf8 = confusion_matrix(y_test,prediction11)\n",
    "\n",
    "conf8"
   ]
  },
  {
   "cell_type": "markdown",
   "id": "546ec7a5",
   "metadata": {},
   "source": [
    "True Positive - This implies that 5164 customers subscribed to term deposit and the model correctly predicts that the customers subscribed to term deposit"
   ]
  },
  {
   "cell_type": "markdown",
   "id": "d76bf85c",
   "metadata": {},
   "source": [
    "True Negative - 5729 customers did not subscribe to term deposit and the model correctly predicts that the customers did not subscribe to term deposit"
   ]
  },
  {
   "cell_type": "markdown",
   "id": "5d4e5295",
   "metadata": {},
   "source": [
    "False Positive - 1473 customers did not subscribe to a term deposit but the model wrongly predicts that the customers subscribed to a term deposit"
   ]
  },
  {
   "cell_type": "markdown",
   "id": "ebd2bf05",
   "metadata": {},
   "source": [
    "False Negative - 2254 customers subscribed to a term deposit but the model incorrectly predicts that the customer did not subscribe to a term deposit"
   ]
  },
  {
   "cell_type": "markdown",
   "id": "958c03ce",
   "metadata": {},
   "source": [
    "#### Recall and Precision"
   ]
  },
  {
   "cell_type": "code",
   "execution_count": 540,
   "id": "d79e73d1",
   "metadata": {},
   "outputs": [
    {
     "data": {
      "text/plain": [
       "(0.6961445133459153, 0.778062377580232)"
      ]
     },
     "execution_count": 540,
     "metadata": {},
     "output_type": "execute_result"
    }
   ],
   "source": [
    "#apply the recall and precision functions\n",
    "recall8 = recall_score(y_test,prediction11)\n",
    "\n",
    "precision8 = precision_score(y_test,prediction11)\n",
    "\n",
    "recall8,precision8"
   ]
  },
  {
   "cell_type": "markdown",
   "id": "b0321dc1",
   "metadata": {},
   "source": [
    "After balancing the data, the recall and precision increased to 70% and 78% respectively, which is a better result compared to the unbalanced data"
   ]
  },
  {
   "cell_type": "markdown",
   "id": "96a2f393",
   "metadata": {},
   "source": [
    "Recall - out of all the customers that subscribed to term deposit, the model predicted 70% as having subscribed to term deposit"
   ]
  },
  {
   "cell_type": "markdown",
   "id": "dc1307e8",
   "metadata": {},
   "source": [
    "Precision - out of all the customers that were predicted as having subscribed to a term deposit,the model correctly predicted 78%"
   ]
  },
  {
   "cell_type": "markdown",
   "id": "24227bde",
   "metadata": {},
   "source": [
    "#### F1_Score"
   ]
  },
  {
   "cell_type": "code",
   "execution_count": 541,
   "id": "22a2dbb3",
   "metadata": {},
   "outputs": [
    {
     "data": {
      "text/plain": [
       "0.7348274635361082"
      ]
     },
     "execution_count": 541,
     "metadata": {},
     "output_type": "execute_result"
    }
   ],
   "source": [
    "#apply the recall and precision functions\n",
    "f1_score8 = f1_score(y_test,prediction11)\n",
    "\n",
    "f1_score8"
   ]
  },
  {
   "cell_type": "markdown",
   "id": "7cd0016b",
   "metadata": {},
   "source": [
    "After balancing the data, the F1 score increased to 73%, which is a better score than the unbalanced data"
   ]
  },
  {
   "cell_type": "markdown",
   "id": "94746fa4",
   "metadata": {},
   "source": [
    "#### Classification Report"
   ]
  },
  {
   "cell_type": "code",
   "execution_count": 542,
   "id": "35c96a0d",
   "metadata": {},
   "outputs": [
    {
     "name": "stdout",
     "output_type": "stream",
     "text": [
      "classification report : \n",
      "              precision    recall  f1-score   support\n",
      "\n",
      "           0       0.72      0.80      0.75      7202\n",
      "           1       0.78      0.70      0.73      7418\n",
      "\n",
      "    accuracy                           0.75     14620\n",
      "   macro avg       0.75      0.75      0.74     14620\n",
      "weighted avg       0.75      0.75      0.74     14620\n",
      "\n"
     ]
    }
   ],
   "source": [
    "#apply the classification report function\n",
    "class_rep8 = classification_report(y_test,prediction11)\n",
    "\n",
    "print (\"classification report : \\n{}\".format(class_rep8))"
   ]
  },
  {
   "cell_type": "markdown",
   "id": "878e3ff4",
   "metadata": {},
   "source": [
    "A summary of the perfomance metrics for this model, which includes the accuracy, precision, recall and f1-score"
   ]
  },
  {
   "cell_type": "markdown",
   "id": "562d48e1",
   "metadata": {},
   "source": [
    "### MODEL COMPARISON"
   ]
  },
  {
   "cell_type": "markdown",
   "id": "3f3c3244",
   "metadata": {},
   "source": [
    "Here, we compare all the models except the Deep Learning model using their accuracies, precision, recall and f1_score"
   ]
  },
  {
   "cell_type": "markdown",
   "id": "2f2e06ad",
   "metadata": {},
   "source": [
    "#### COMPARISON ON THE UNBALANCED DATA"
   ]
  },
  {
   "cell_type": "code",
   "execution_count": 543,
   "id": "fd28df39",
   "metadata": {},
   "outputs": [
    {
     "data": {
      "text/html": [
       "<div>\n",
       "<style scoped>\n",
       "    .dataframe tbody tr th:only-of-type {\n",
       "        vertical-align: middle;\n",
       "    }\n",
       "\n",
       "    .dataframe tbody tr th {\n",
       "        vertical-align: top;\n",
       "    }\n",
       "\n",
       "    .dataframe thead th {\n",
       "        text-align: right;\n",
       "    }\n",
       "</style>\n",
       "<table border=\"1\" class=\"dataframe\">\n",
       "  <thead>\n",
       "    <tr style=\"text-align: right;\">\n",
       "      <th></th>\n",
       "      <th>Models</th>\n",
       "      <th>Test_acc</th>\n",
       "      <th>Precision</th>\n",
       "      <th>Recall</th>\n",
       "      <th>F1-score</th>\n",
       "      <th>TP</th>\n",
       "      <th>TN</th>\n",
       "      <th>FP</th>\n",
       "      <th>FN</th>\n",
       "    </tr>\n",
       "  </thead>\n",
       "  <tbody>\n",
       "    <tr>\n",
       "      <th>0</th>\n",
       "      <td>Knn</td>\n",
       "      <td>89.8</td>\n",
       "      <td>62</td>\n",
       "      <td>21</td>\n",
       "      <td>31</td>\n",
       "      <td>192</td>\n",
       "      <td>7203</td>\n",
       "      <td>116</td>\n",
       "      <td>727</td>\n",
       "    </tr>\n",
       "    <tr>\n",
       "      <th>1</th>\n",
       "      <td>Logreg</td>\n",
       "      <td>90.0</td>\n",
       "      <td>67</td>\n",
       "      <td>19</td>\n",
       "      <td>30</td>\n",
       "      <td>178</td>\n",
       "      <td>7232</td>\n",
       "      <td>87</td>\n",
       "      <td>741</td>\n",
       "    </tr>\n",
       "    <tr>\n",
       "      <th>2</th>\n",
       "      <td>Dec_tree</td>\n",
       "      <td>90.0</td>\n",
       "      <td>63</td>\n",
       "      <td>20</td>\n",
       "      <td>31</td>\n",
       "      <td>181</td>\n",
       "      <td>7234</td>\n",
       "      <td>85</td>\n",
       "      <td>738</td>\n",
       "    </tr>\n",
       "    <tr>\n",
       "      <th>3</th>\n",
       "      <td>RF</td>\n",
       "      <td>90.0</td>\n",
       "      <td>68</td>\n",
       "      <td>19</td>\n",
       "      <td>29</td>\n",
       "      <td>171</td>\n",
       "      <td>7239</td>\n",
       "      <td>80</td>\n",
       "      <td>748</td>\n",
       "    </tr>\n",
       "  </tbody>\n",
       "</table>\n",
       "</div>"
      ],
      "text/plain": [
       "     Models  Test_acc  Precision  Recall  F1-score   TP    TN   FP   FN\n",
       "0       Knn      89.8         62      21        31  192  7203  116  727\n",
       "1    Logreg      90.0         67      19        30  178  7232   87  741\n",
       "2  Dec_tree      90.0         63      20        31  181  7234   85  738\n",
       "3        RF      90.0         68      19        29  171  7239   80  748"
      ]
     },
     "execution_count": 543,
     "metadata": {},
     "output_type": "execute_result"
    }
   ],
   "source": [
    "df = {'Models': [\"Knn\", \"Logreg\", \"Dec_tree\", \"RF\"],\n",
    "        \"Test_acc\": [89.8, 90.0, 90.0, 90.0],\n",
    "        \"Precision\": [62, 67, 63, 68],\n",
    "        \"Recall\": [21, 19, 20, 19],\n",
    "        \"F1-score\": [31, 30, 31, 29],\n",
    "        \"TP\": [192, 178, 181, 171],\n",
    "        \"TN\":[7203, 7232, 7234, 7239],\n",
    "        \"FP\":[116, 87, 85, 80],\n",
    "        \"FN\":[727, 741, 738, 748]}\n",
    "model_comparison = pd.DataFrame(data = df)\n",
    "\n",
    "# display the table of performance comparison\n",
    "model_comparison"
   ]
  },
  {
   "cell_type": "markdown",
   "id": "b387f185",
   "metadata": {},
   "source": [
    "#### COMPARISON ON THE BALANCED DATA"
   ]
  },
  {
   "cell_type": "code",
   "execution_count": 544,
   "id": "ebed19fc",
   "metadata": {},
   "outputs": [
    {
     "data": {
      "text/html": [
       "<div>\n",
       "<style scoped>\n",
       "    .dataframe tbody tr th:only-of-type {\n",
       "        vertical-align: middle;\n",
       "    }\n",
       "\n",
       "    .dataframe tbody tr th {\n",
       "        vertical-align: top;\n",
       "    }\n",
       "\n",
       "    .dataframe thead th {\n",
       "        text-align: right;\n",
       "    }\n",
       "</style>\n",
       "<table border=\"1\" class=\"dataframe\">\n",
       "  <thead>\n",
       "    <tr style=\"text-align: right;\">\n",
       "      <th></th>\n",
       "      <th>Models</th>\n",
       "      <th>Test_acc</th>\n",
       "      <th>Precision</th>\n",
       "      <th>Recall</th>\n",
       "      <th>F1-score</th>\n",
       "      <th>TP</th>\n",
       "      <th>TN</th>\n",
       "      <th>FP</th>\n",
       "      <th>FN</th>\n",
       "    </tr>\n",
       "  </thead>\n",
       "  <tbody>\n",
       "    <tr>\n",
       "      <th>0</th>\n",
       "      <td>Knn</td>\n",
       "      <td>80.2</td>\n",
       "      <td>82</td>\n",
       "      <td>79</td>\n",
       "      <td>80</td>\n",
       "      <td>5828</td>\n",
       "      <td>5902</td>\n",
       "      <td>1300</td>\n",
       "      <td>1590</td>\n",
       "    </tr>\n",
       "    <tr>\n",
       "      <th>1</th>\n",
       "      <td>Logreg</td>\n",
       "      <td>75.9</td>\n",
       "      <td>79</td>\n",
       "      <td>71</td>\n",
       "      <td>75</td>\n",
       "      <td>5269</td>\n",
       "      <td>5835</td>\n",
       "      <td>1367</td>\n",
       "      <td>2149</td>\n",
       "    </tr>\n",
       "    <tr>\n",
       "      <th>2</th>\n",
       "      <td>Dec_tree</td>\n",
       "      <td>73.8</td>\n",
       "      <td>84</td>\n",
       "      <td>59</td>\n",
       "      <td>70</td>\n",
       "      <td>4398</td>\n",
       "      <td>6385</td>\n",
       "      <td>817</td>\n",
       "      <td>3020</td>\n",
       "    </tr>\n",
       "    <tr>\n",
       "      <th>3</th>\n",
       "      <td>RF</td>\n",
       "      <td>74.8</td>\n",
       "      <td>78</td>\n",
       "      <td>70</td>\n",
       "      <td>73</td>\n",
       "      <td>5164</td>\n",
       "      <td>5729</td>\n",
       "      <td>1473</td>\n",
       "      <td>2254</td>\n",
       "    </tr>\n",
       "  </tbody>\n",
       "</table>\n",
       "</div>"
      ],
      "text/plain": [
       "     Models  Test_acc  Precision  Recall  F1-score    TP    TN    FP    FN\n",
       "0       Knn      80.2         82      79        80  5828  5902  1300  1590\n",
       "1    Logreg      75.9         79      71        75  5269  5835  1367  2149\n",
       "2  Dec_tree      73.8         84      59        70  4398  6385   817  3020\n",
       "3        RF      74.8         78      70        73  5164  5729  1473  2254"
      ]
     },
     "execution_count": 544,
     "metadata": {},
     "output_type": "execute_result"
    }
   ],
   "source": [
    "df_2 = {'Models': [\"Knn\", \"Logreg\", \"Dec_tree\", \"RF\"],\n",
    "        \"Test_acc\": [80.2, 75.9, 73.8, 74.8],\n",
    "        \"Precision\": [82, 79, 84, 78],\n",
    "        \"Recall\": [79, 71, 59, 70],\n",
    "        \"F1-score\": [80, 75, 70, 73],\n",
    "        \"TP\": [5828, 5269, 4398, 5164],\n",
    "        \"TN\":[5902, 5835, 6385, 5729],\n",
    "        \"FP\":[1300, 1367, 817, 1473],\n",
    "        \"FN\":[1590, 2149, 3020, 2254] }\n",
    "model_comparison2 = pd.DataFrame(data = df_2)\n",
    "\n",
    "# display the table of performance comparison\n",
    "model_comparison2"
   ]
  },
  {
   "cell_type": "markdown",
   "id": "b09cdf7e",
   "metadata": {},
   "source": [
    "## CONCLUSION"
   ]
  },
  {
   "cell_type": "markdown",
   "id": "2162697b",
   "metadata": {},
   "source": [
    "The goal of this project is to build a predictive model to predict whether a bank customer will subscribe to a term deposit or not. We have also built different classification models such as Logistic regression model, K-Nearest Neighbor model, Decision tree model, Random forest model and Deep Learning model. The models were built with both the unbalanced and balanced data. It was proved that machine learning models perform better with a balanced data. Also based on the F1-Scores and Recall of all the models on the balanced data, the K-NN model performed better than other models with an F1-score of 80% and Recall of 79%, closely followed by the Logistic regression model with F1-score of 75%, although the Decision tree model had the best Precision of 84%, it had the lowest Recall and F1-score of 59% and 70% respectively. \n",
    "Conclusively, the K-NN and Logistic Regression models performed better than the other models"
   ]
  }
 ],
 "metadata": {
  "kernelspec": {
   "display_name": "Python 3 (ipykernel)",
   "language": "python",
   "name": "python3"
  },
  "language_info": {
   "codemirror_mode": {
    "name": "ipython",
    "version": 3
   },
   "file_extension": ".py",
   "mimetype": "text/x-python",
   "name": "python",
   "nbconvert_exporter": "python",
   "pygments_lexer": "ipython3",
   "version": "3.9.7"
  }
 },
 "nbformat": 4,
 "nbformat_minor": 5
}
